{
  "cells": [
    {
      "cell_type": "markdown",
      "metadata": {
        "id": "view-in-github",
        "colab_type": "text"
      },
      "source": [
        "<a href=\"https://colab.research.google.com/github/Anderson-Zeng/CS-7641/blob/main/7641_project_setup.ipynb\" target=\"_parent\"><img src=\"https://colab.research.google.com/assets/colab-badge.svg\" alt=\"Open In Colab\"/></a>"
      ]
    },
    {
      "cell_type": "markdown",
      "source": [
        "# 0 Data setup testing\n",
        "**Not necessary to run for testing/eval**  \n",
        "Original code written by Anderson and Botao. Preserved for documentation purposes.  \n",
        "Useful to get a better understanding of what's going on in section 1., where the visualizations/etc. have all been removed for execution speed.\n",
        "\n",
        "**Be warned** that if you run this section, it will occcupy a **lot** of memory, and you probably won't be able to run anything else in the notebook. If that happens, just restart your runtime (runtime>restart runtime)."
      ],
      "metadata": {
        "id": "tt565oJb2_iR"
      }
    },
    {
      "cell_type": "markdown",
      "source": [
        "## 0.1 Imports"
      ],
      "metadata": {
        "id": "XnzpLYkS1NwU"
      }
    },
    {
      "cell_type": "code",
      "execution_count": null,
      "metadata": {
        "id": "AYCYdltG1NwU"
      },
      "outputs": [],
      "source": [
        "import torch\n",
        "import torch.nn as nn\n",
        "import torch.nn.functional as F\n",
        "import torch.optim as optim\n",
        "\n",
        "device = torch.device('cuda' if torch.cuda.is_available() else 'cpu')"
      ]
    },
    {
      "cell_type": "markdown",
      "source": [
        "You can check to make sure a GPU is available using the following code block.\n",
        "\n",
        "If the below message is shown, it means you are using a CPU.\n",
        "```\n",
        "/bin/bash: nvidia-smi: command not found\n",
        "```\n",
        "\n",
        "---\n",
        "\n",
        "\n",
        "\n"
      ],
      "metadata": {
        "id": "yR7ZxodP1NwU"
      }
    },
    {
      "cell_type": "code",
      "source": [
        "gpu_info = !nvidia-smi\n",
        "gpu_info = '\\n'.join(gpu_info)\n",
        "if gpu_info.find('failed') >= 0:\n",
        "  print('Select the Runtime > \"Change runtime type\" menu to enable a GPU accelerator, ')\n",
        "  print('and then re-execute this cell.')\n",
        "else:\n",
        "  print(gpu_info)"
      ],
      "metadata": {
        "colab": {
          "base_uri": "https://localhost:8080/"
        },
        "outputId": "5f375bda-5aca-452c-f11a-ca00c413db77",
        "id": "tFpt8z8G1NwU"
      },
      "execution_count": null,
      "outputs": [
        {
          "output_type": "stream",
          "name": "stdout",
          "text": [
            "Select the Runtime > \"Change runtime type\" menu to enable a GPU accelerator, \n",
            "and then re-execute this cell.\n"
          ]
        }
      ]
    },
    {
      "cell_type": "markdown",
      "metadata": {
        "id": "ROi60Qot1NwV"
      },
      "source": [
        "## 0.2 Data prep\n",
        "\n",
        "Load images, perform feature extraction / refine into usable data (rather than raw RGB), split into training and test sets, apply cleaning/dimensionality reduction, etc."
      ]
    },
    {
      "cell_type": "markdown",
      "source": [
        "## 0.2.1 Images loading from google drive\n",
        "Anderson has shared the goolge drive folder which contains dataset to everyone, \n",
        "so just use that folder to run our code <br>\n",
        "In your Google Drive, you need to drag that folder from \"share with me\" to \"my drive\", then you will be good to go\n"
      ],
      "metadata": {
        "id": "De5pei6E1NwV"
      }
    },
    {
      "cell_type": "code",
      "source": [
        "# Anderson has shared the goolge drive folder which contains dataset to everyone, so just use that folder to run our code\n",
        "# In your Google Drive, you need to drag that folder from \"share with me\" to \"my drive\", then you will be good to go\n",
        "from google.colab import drive\n",
        "drive.mount('/content/drive')"
      ],
      "metadata": {
        "colab": {
          "base_uri": "https://localhost:8080/"
        },
        "outputId": "2886c2c6-fe29-41bf-fcca-f810798d7c25",
        "id": "aIf8I4HK1NwV"
      },
      "execution_count": null,
      "outputs": [
        {
          "output_type": "stream",
          "name": "stdout",
          "text": [
            "Drive already mounted at /content/drive; to attempt to forcibly remount, call drive.mount(\"/content/drive\", force_remount=True).\n"
          ]
        }
      ]
    },
    {
      "cell_type": "code",
      "source": [
        "import numpy as np # linear algebra\n",
        "import pandas as pd # data processing, CSV file I/O \n",
        "import os\n",
        "from pathlib import Path\n",
        "from PIL import Image\n",
        "import tensorflow as tf\n",
        "import os\n",
        "\n",
        "# for dirname, _, filenames in os.walk('/content/drive/MyDrive'):\n",
        "#     for filename in filenames:\n",
        "#         print(os.path.join(dirname, filename))"
      ],
      "metadata": {
        "id": "Q159fl_Q1NwV"
      },
      "execution_count": null,
      "outputs": []
    },
    {
      "cell_type": "code",
      "source": [
        "### Botao's test \n",
        "import matplotlib.pyplot as plt\n",
        "import cv2 # OpenCV\n",
        "import numpy as np\n",
        "import os\n",
        "import random\n",
        "import tensorflow as tf\n",
        "from tqdm import tqdm \n",
        "from sklearn.model_selection import train_test_split\n",
        "from keras.models import Sequential\n",
        "from keras.layers import Dense, Conv2D, MaxPooling2D,MaxPool2D , Dropout,Flatten, BatchNormalization\n",
        "from keras.callbacks import ModelCheckpoint, EarlyStopping"
      ],
      "metadata": {
        "id": "mGdEbFH_1NwV"
      },
      "execution_count": null,
      "outputs": []
    },
    {
      "cell_type": "code",
      "source": [
        "# Botao 's test\n",
        "DIR1 = '/content/drive/MyDrive/archive/Decks'\n",
        "DIR2 = '/content/drive/MyDrive/archive/Pavements'\n",
        "DIR3 = '/content/drive/MyDrive/archive/Walls'\n",
        "label = ['Non-cracked', 'Cracked']\n",
        "def load_image(data_dir):\n",
        "    img_data = []\n",
        "    \n",
        "    for word in label:\n",
        "        path = os.path.join(data_dir, word)\n",
        "        y_label = label.index(word)\n",
        "        \n",
        "        for img_name in tqdm(os.listdir(path)):\n",
        "            img = cv2.imread(os.path.join(path, img_name), cv2.IMREAD_GRAYSCALE)\n",
        "            #resizing = cv2.resize(img, (120,120))                               # If needed, we can resizing image to lower pixels for faster modeling test time.\n",
        "            \n",
        "            img_data.append([img, y_label])\n",
        "            \n",
        "    return np.array(img_data)\n"
      ],
      "metadata": {
        "id": "bbvF2lAs1NwV"
      },
      "execution_count": null,
      "outputs": []
    },
    {
      "cell_type": "markdown",
      "source": [
        "Would suggest loading folders separately, in case crushed. If there is error, reload that block again, then should be fine"
      ],
      "metadata": {
        "id": "JgPT67Zm1NwV"
      }
    },
    {
      "cell_type": "code",
      "source": [
        "# Load Decks Foler\n",
        "dataset_Decks = load_image(DIR1)\n"
      ],
      "metadata": {
        "colab": {
          "base_uri": "https://localhost:8080/"
        },
        "outputId": "6c0511f2-ac34-453f-836b-9f7b75e330fd",
        "id": "IAjpmseu1NwV"
      },
      "execution_count": null,
      "outputs": [
        {
          "output_type": "stream",
          "name": "stderr",
          "text": [
            "100%|██████████| 11358/11358 [05:40<00:00, 33.38it/s] \n",
            "100%|██████████| 2025/2025 [00:37<00:00, 54.20it/s] \n",
            "/usr/local/lib/python3.7/dist-packages/ipykernel_launcher.py:19: VisibleDeprecationWarning: Creating an ndarray from ragged nested sequences (which is a list-or-tuple of lists-or-tuples-or ndarrays with different lengths or shapes) is deprecated. If you meant to do this, you must specify 'dtype=object' when creating the ndarray.\n"
          ]
        }
      ]
    },
    {
      "cell_type": "code",
      "source": [
        "# Load Pavements Foler\n",
        "dataset_Pavements = load_image(DIR2)\n"
      ],
      "metadata": {
        "colab": {
          "base_uri": "https://localhost:8080/",
          "height": 304
        },
        "outputId": "d4349ed9-399d-4a2e-b6ff-d01e62c1cd3a",
        "id": "r0J5AFEK1NwV"
      },
      "execution_count": null,
      "outputs": [
        {
          "output_type": "error",
          "ename": "OSError",
          "evalue": "ignored",
          "traceback": [
            "\u001b[0;31m---------------------------------------------------------------------------\u001b[0m",
            "\u001b[0;31mOSError\u001b[0m                                   Traceback (most recent call last)",
            "\u001b[0;32m<ipython-input-24-a660b990babe>\u001b[0m in \u001b[0;36m<module>\u001b[0;34m\u001b[0m\n\u001b[1;32m      1\u001b[0m \u001b[0;31m# Load Pavements Foler\u001b[0m\u001b[0;34m\u001b[0m\u001b[0;34m\u001b[0m\u001b[0;34m\u001b[0m\u001b[0m\n\u001b[0;32m----> 2\u001b[0;31m \u001b[0mdataset_Pavements\u001b[0m \u001b[0;34m=\u001b[0m \u001b[0mload_image\u001b[0m\u001b[0;34m(\u001b[0m\u001b[0mDIR2\u001b[0m\u001b[0;34m)\u001b[0m\u001b[0;34m\u001b[0m\u001b[0;34m\u001b[0m\u001b[0m\n\u001b[0m",
            "\u001b[0;32m<ipython-input-22-4355cbe40512>\u001b[0m in \u001b[0;36mload_image\u001b[0;34m(data_dir)\u001b[0m\n\u001b[1;32m     11\u001b[0m         \u001b[0my_label\u001b[0m \u001b[0;34m=\u001b[0m \u001b[0mlabel\u001b[0m\u001b[0;34m.\u001b[0m\u001b[0mindex\u001b[0m\u001b[0;34m(\u001b[0m\u001b[0mword\u001b[0m\u001b[0;34m)\u001b[0m\u001b[0;34m\u001b[0m\u001b[0;34m\u001b[0m\u001b[0m\n\u001b[1;32m     12\u001b[0m \u001b[0;34m\u001b[0m\u001b[0m\n\u001b[0;32m---> 13\u001b[0;31m         \u001b[0;32mfor\u001b[0m \u001b[0mimg_name\u001b[0m \u001b[0;32min\u001b[0m \u001b[0mtqdm\u001b[0m\u001b[0;34m(\u001b[0m\u001b[0mos\u001b[0m\u001b[0;34m.\u001b[0m\u001b[0mlistdir\u001b[0m\u001b[0;34m(\u001b[0m\u001b[0mpath\u001b[0m\u001b[0;34m)\u001b[0m\u001b[0;34m)\u001b[0m\u001b[0;34m:\u001b[0m\u001b[0;34m\u001b[0m\u001b[0;34m\u001b[0m\u001b[0m\n\u001b[0m\u001b[1;32m     14\u001b[0m             \u001b[0mimg\u001b[0m \u001b[0;34m=\u001b[0m \u001b[0mcv2\u001b[0m\u001b[0;34m.\u001b[0m\u001b[0mimread\u001b[0m\u001b[0;34m(\u001b[0m\u001b[0mos\u001b[0m\u001b[0;34m.\u001b[0m\u001b[0mpath\u001b[0m\u001b[0;34m.\u001b[0m\u001b[0mjoin\u001b[0m\u001b[0;34m(\u001b[0m\u001b[0mpath\u001b[0m\u001b[0;34m,\u001b[0m \u001b[0mimg_name\u001b[0m\u001b[0;34m)\u001b[0m\u001b[0;34m,\u001b[0m \u001b[0mcv2\u001b[0m\u001b[0;34m.\u001b[0m\u001b[0mIMREAD_GRAYSCALE\u001b[0m\u001b[0;34m)\u001b[0m\u001b[0;34m\u001b[0m\u001b[0;34m\u001b[0m\u001b[0m\n\u001b[1;32m     15\u001b[0m             \u001b[0;31m#resizing = cv2.resize(img, (120,120))                               # If needed, we can resizing image to lower pixels for faster modeling test time.\u001b[0m\u001b[0;34m\u001b[0m\u001b[0;34m\u001b[0m\u001b[0;34m\u001b[0m\u001b[0m\n",
            "\u001b[0;31mOSError\u001b[0m: [Errno 5] Input/output error: '/content/drive/MyDrive/archive/Pavements/Non-cracked'"
          ]
        }
      ]
    },
    {
      "cell_type": "code",
      "source": [
        "# Load Walls Foler\n",
        "dataset_Walls = load_image(DIR3)"
      ],
      "metadata": {
        "id": "tjx-hiQ51NwW"
      },
      "execution_count": null,
      "outputs": []
    },
    {
      "cell_type": "markdown",
      "source": [
        "##0.2.2 Visulize our dataset\n",
        "\n",
        "number of positive(1) and negative(0) \n",
        "\n"
      ],
      "metadata": {
        "id": "vMDQC6rp1NwW"
      }
    },
    {
      "cell_type": "code",
      "source": [
        "#Images = []\n",
        "import seaborn as sns\n",
        "\n",
        "def visualize_dataset (a):\n",
        "    visualize = []\n",
        "    for i in a:\n",
        "        if(i[1] == 0):\n",
        "            visualize.append(\"Neg\")\n",
        "        elif(i[1] == 1):\n",
        "            visualize.append(\"Pos\")\n",
        "    \n",
        "    return visualize\n",
        "\n",
        "visualization_Decks = visualize_dataset (dataset_Decks)\n",
        "visualization_Pavements = visualize_dataset (dataset_Pavements)\n",
        "visualization_Walls = visualize_dataset (dataset_Walls)"
      ],
      "metadata": {
        "id": "sWP3fEwZ1NwW"
      },
      "execution_count": null,
      "outputs": []
    },
    {
      "cell_type": "code",
      "source": [
        "plt.figure(figsize=(10,10))\n",
        "plt.subplot(2, 2, 1)\n",
        "sns.set_style('darkgrid')\n",
        "axl = sns.countplot(visualization_Decks)\n",
        "axl.set_title(\"Number of Decks Images\")\n"
      ],
      "metadata": {
        "id": "9EOqA8-_1NwW"
      },
      "execution_count": null,
      "outputs": []
    },
    {
      "cell_type": "code",
      "source": [
        "plt.figure(figsize=(10,10))\n",
        "plt.subplot(2, 2, 1)\n",
        "sns.set_style('darkgrid')\n",
        "axl = sns.countplot(visualization_Pavements)\n",
        "axl.set_title(\"Number of Pavements Images\")"
      ],
      "metadata": {
        "id": "YW365Dq-1NwW"
      },
      "execution_count": null,
      "outputs": []
    },
    {
      "cell_type": "code",
      "source": [
        "plt.figure(figsize=(10,10))\n",
        "plt.subplot(2, 2, 1)\n",
        "sns.set_style('darkgrid')\n",
        "axl = sns.countplot(visualization_Walls)\n",
        "axl.set_title(\"Number of Walls Images\")"
      ],
      "metadata": {
        "id": "d-6K7kT_1NwW"
      },
      "execution_count": null,
      "outputs": []
    },
    {
      "cell_type": "markdown",
      "source": [
        "## 0.2.3 Visulize images\n"
      ],
      "metadata": {
        "id": "Wdox8u5y1NwW"
      }
    },
    {
      "cell_type": "code",
      "source": [
        "# Example of how to visulize images from our dataset\n",
        "# Pick dataset_Decks No.11360 image to display\n",
        "#plt.figure(figsize = (12,12))\n",
        "sns.set_style('white')\n",
        "plt.imshow(dataset_Decks[11359][0], cmap = 'gray')"
      ],
      "metadata": {
        "id": "CLFOp9vp1NwW"
      },
      "execution_count": null,
      "outputs": []
    },
    {
      "cell_type": "code",
      "source": [
        "dataset_Decks[11359]"
      ],
      "metadata": {
        "id": "4QIyz3_X1NwW"
      },
      "execution_count": null,
      "outputs": []
    },
    {
      "cell_type": "code",
      "source": [
        "#test print\n",
        "dataset_Decks[11359], dataset_Decks.shape"
      ],
      "metadata": {
        "id": "i61Rund31NwW"
      },
      "execution_count": null,
      "outputs": []
    },
    {
      "cell_type": "code",
      "source": [
        "# Example of how to visulize images from our dataset\n",
        "# Pick dataset_Pavement No.21740 image to display\n",
        "#plt.figure(figsize = (12,12))\n",
        "plt.imshow(dataset_Pavements[21739][0], cmap = 'gray')"
      ],
      "metadata": {
        "id": "xFo-IU9_1NwX"
      },
      "execution_count": null,
      "outputs": []
    },
    {
      "cell_type": "code",
      "source": [
        "#test print\n",
        "dataset_Pavements[21739], dataset_Pavements.shape"
      ],
      "metadata": {
        "id": "BUYcalSn1NwX"
      },
      "execution_count": null,
      "outputs": []
    },
    {
      "cell_type": "markdown",
      "source": [
        "## 0.2.4-1 Test: Adding noise (white edge), Leave for a while\n",
        "\n",
        "Succeed!\n",
        "\n",
        "\n"
      ],
      "metadata": {
        "id": "Lbbn3VdT1NwX"
      }
    },
    {
      "cell_type": "code",
      "source": [
        "# Filter cracked images from dataset_Pavement for adding white edge noise test\n",
        "\n",
        "test_1=np.where(dataset_Pavements[:,1]==1)\n",
        "adding_white_edge_test=dataset_Pavements[test_1]\n",
        "#adding_white_edge_test.shape, adding_white_edge_test[:,0], adding_white_edge_test[0][0]\n"
      ],
      "metadata": {
        "id": "1goSDK4-1NwX"
      },
      "execution_count": null,
      "outputs": []
    },
    {
      "cell_type": "code",
      "source": [
        "# Adding white edge to right side for all the dataset_Pavement images for testing\n",
        "# Learning how to add noise\n",
        "white_side_image = np.zeros((256, 20), dtype = 'uint8') + 255\n",
        "adding_white_edge_dataset = []\n",
        "for i in range(adding_white_edge_test.shape[0]):\n",
        "    adding_white_edge_dataset.append(np.concatenate((adding_white_edge_test[:,0][i], white_side_image), axis=1))\n",
        "\n",
        "#new_dataset"
      ],
      "metadata": {
        "id": "0L7AIYm91NwX"
      },
      "execution_count": null,
      "outputs": []
    },
    {
      "cell_type": "code",
      "source": [
        "adding_white_edge_dataset"
      ],
      "metadata": {
        "id": "3skdZZcp1NwX"
      },
      "execution_count": null,
      "outputs": []
    },
    {
      "cell_type": "code",
      "source": [
        "# Randomly pick a image from added noise dste for testing\n",
        "# Succeeded!\n",
        "#plt.figure(figsize = (12,12))\n",
        "plt.imshow(adding_white_edge_dataset[3], cmap = 'gray')"
      ],
      "metadata": {
        "id": "u07vtqus1NwX"
      },
      "execution_count": null,
      "outputs": []
    },
    {
      "cell_type": "code",
      "source": [
        "adding_white_edge_dataset[3].shape"
      ],
      "metadata": {
        "id": "WRvx6uzF1NwX"
      },
      "execution_count": null,
      "outputs": []
    },
    {
      "cell_type": "code",
      "source": [
        "# testing for resizing\n",
        "resize_test = cv2.resize(adding_white_edge_dataset[3], (256,256))\n",
        "plt.imshow(resize_test, cmap = 'gray')"
      ],
      "metadata": {
        "id": "UUTzAitK1NwX"
      },
      "execution_count": null,
      "outputs": []
    },
    {
      "cell_type": "code",
      "source": [
        "resize_test.shape"
      ],
      "metadata": {
        "id": "7_L5onuf1NwX"
      },
      "execution_count": null,
      "outputs": []
    },
    {
      "cell_type": "markdown",
      "source": [
        "## 0.2.4-2 Test: Adding noise (flip image), Leave for a while\n",
        "Succeed!"
      ],
      "metadata": {
        "id": "Owlg548U1NwY"
      }
    },
    {
      "cell_type": "code",
      "source": [
        "# Learn how to flip images\n",
        "# Filter cracked images from dataset_Pavement for adding Flip noise test\n",
        "\n",
        "flip_test=dataset_Pavements[test_1]\n",
        "#flip_test.shape, flip_test[:,0], flip_test[0][0]"
      ],
      "metadata": {
        "id": "sZ-gg2Zi1NwY"
      },
      "execution_count": null,
      "outputs": []
    },
    {
      "cell_type": "code",
      "source": [
        "# Flip cracked images for all the dataset_Pavement images for testing\n",
        "# Learning how to flip image\n",
        "\n",
        "flip_dataset = []\n",
        "for i in range(flip_test.shape[0]):\n",
        "  flip_dataset.append(np.flip(flip_test[:,0][i])) \n",
        "\n",
        "#white_side_image = np.zeros((256, 20), dtype = 'uint8') + 255\n",
        "#adding_white_edge_dataset = []\n",
        "#for i in range(adding_white_edge_test.shape[0]):\n",
        "    #adding_white_edge_dataset.append(np.concatenate((adding_white_edge_test[:,0][i], white_side_image), axis=1))"
      ],
      "metadata": {
        "id": "0NbOAvUE1NwY"
      },
      "execution_count": null,
      "outputs": []
    },
    {
      "cell_type": "code",
      "source": [
        "# Randomly pick a image from fliped dataset for testing\n",
        "# Succeeded!\n",
        "#plt.figure(figsize = (12,12))\n",
        "plt.imshow(flip_dataset[3], cmap = 'gray')"
      ],
      "metadata": {
        "id": "nog-1xST1NwY"
      },
      "execution_count": null,
      "outputs": []
    },
    {
      "cell_type": "markdown",
      "source": [
        "## 0.2.4-3 Test: Adding noise (blurring image), Leave for a while\n",
        "Succeed!"
      ],
      "metadata": {
        "id": "s1z1HNTL1NwY"
      }
    },
    {
      "cell_type": "code",
      "source": [
        "# Blur images\n",
        "# we can use different kernel values to blur the image\n",
        "def blurring(a):\n",
        "    kernel = np.array([[0.1,0.1,0.1], [0.1,0.1,0.1], [0.1,0.1,0.1]])\n",
        "    #kernel = np.array([[0.125,0.125,0.125], [0.125,0.25,0.125], [0.125,0.125,0.125]])\n",
        "    #kernel = np.array([[1.0,2.0,1.0], [2.0,4.0,2.0], [1.0,2.0,1.0]])\n",
        "    kernel = kernel / np.sum(kernel)\n",
        "    arraylist = []\n",
        "    for y in range(3):\n",
        "        temparray = np.copy(a)\n",
        "        temparray = np.roll(temparray, y - 1, axis=0)\n",
        "        for x in range(3):\n",
        "            temparray_X = np.copy(temparray)\n",
        "            temparray_X = np.roll(temparray_X, x - 1, axis=1)*kernel[y,x]\n",
        "            arraylist.append(temparray_X)\n",
        "\n",
        "    arraylist = np.array(arraylist)\n",
        "    arraylist_sum = np.sum(arraylist, axis=0)\n",
        "    return arraylist_sum"
      ],
      "metadata": {
        "id": "USaRcEjo1NwY"
      },
      "execution_count": null,
      "outputs": []
    },
    {
      "cell_type": "code",
      "source": [
        "# Succeed!\n",
        "blurring_image = blurring(dataset_Pavements[21739][0])\n",
        "plt.figure(figsize = (6,6))\n",
        "plt.imshow(blurring_image, cmap = 'gray')\n"
      ],
      "metadata": {
        "id": "Ef2GGpQB1NwY"
      },
      "execution_count": null,
      "outputs": []
    },
    {
      "cell_type": "code",
      "source": [
        "# print original image for blurred comparision\n",
        "plt.figure(figsize = (6,6))\n",
        "# original image\n",
        "plt.imshow(dataset_Pavements[21739][0], cmap = 'gray')"
      ],
      "metadata": {
        "id": "aZPoEWK71NwY"
      },
      "execution_count": null,
      "outputs": []
    },
    {
      "cell_type": "markdown",
      "source": [
        "##0.2.4 Define adding noise functions (White edge, Flip, Blur)\n",
        "\n",
        "white_edge(),\n",
        "flip(),\n",
        "blur()"
      ],
      "metadata": {
        "id": "jEGNZrlN1NwY"
      }
    },
    {
      "cell_type": "code",
      "source": [
        "def white_edge(a):\n",
        "    distance = 20   # white edge distance that we want to add\n",
        "    add_white_side_size = np.zeros((256, distance), dtype = 'uint8') + 255 \n",
        "    added = np.concatenate((a, add_white_side_size), axis=1)\n",
        "    resized = cv2.resize(added, (256,256)) \n",
        "\n",
        "    return resized\n",
        "\n",
        "def flip(b):\n",
        "    flipped = np.flip(b) \n",
        "\n",
        "    return flipped\n",
        "\n",
        "\n",
        "def blur(c):\n",
        "    kernel = np.array([[0.1,0.1,0.1], [0.1,0.1,0.1], [0.1,0.1,0.1]]) # we can use different kernel values to blur the image\n",
        "    #kernel = np.array([[0.125,0.125,0.125], [0.125,0.25,0.125], [0.125,0.125,0.125]])\n",
        "    #kernel = np.array([[1.0,2.0,1.0], [2.0,4.0,2.0], [1.0,2.0,1.0]])\n",
        "    kernel = kernel / np.sum(kernel)\n",
        "    arraylist = []\n",
        "    for y in range(3):\n",
        "        temparray = np.copy(c)\n",
        "        temparray = np.roll(temparray, y - 1, axis=0)\n",
        "        for x in range(3):\n",
        "            temparray_X = np.copy(temparray)\n",
        "            temparray_X = np.roll(temparray_X, x - 1, axis=1)*kernel[y,x]\n",
        "            arraylist.append(temparray_X)\n",
        "\n",
        "    arraylist = np.array(arraylist)\n",
        "    arraylist_sum = np.sum(arraylist, axis=0)\n",
        "    return arraylist_sum"
      ],
      "metadata": {
        "id": "gJVHIyd61NwY"
      },
      "execution_count": null,
      "outputs": []
    },
    {
      "cell_type": "code",
      "source": [
        "a = white_edge(dataset_Pavements[21739][0])\n",
        "plt.imshow(a, cmap = 'gray')"
      ],
      "metadata": {
        "id": "wt-TAaIf1NwZ"
      },
      "execution_count": null,
      "outputs": []
    },
    {
      "cell_type": "code",
      "source": [
        "b = flip(dataset_Pavements[21739][0])\n",
        "plt.imshow(b, cmap = 'gray')"
      ],
      "metadata": {
        "id": "FKlOuQxr1NwZ"
      },
      "execution_count": null,
      "outputs": []
    },
    {
      "cell_type": "code",
      "source": [
        "c = blur(dataset_Pavements[21739][0])\n",
        "plt.imshow(c, cmap = 'gray')"
      ],
      "metadata": {
        "id": "aJ5jOzMf1NwZ"
      },
      "execution_count": null,
      "outputs": []
    },
    {
      "cell_type": "markdown",
      "source": [
        "##0.2.5 Generate Noise Dataset\n",
        "Randomly pick images from dataset to add noise.<br>\n",
        "5% of dataset are used for adding white edge，<br>\n",
        "5% of dataset are used for flipping,<br>\n",
        "10% of dataset are used for blurring."
      ],
      "metadata": {
        "id": "nsyrXpq91NwZ"
      }
    },
    {
      "cell_type": "code",
      "source": [
        "import random\n",
        "\n",
        "#dataset_Decks_list = dataset_Decks.tolist()\n",
        "\n",
        "def random_select(dataset, percent):\n",
        "    num = round(percent*dataset.shape[0])\n",
        "    random_images = random.choices(dataset, k=num)\n",
        "\n",
        "    return np.array(random_images)\n"
      ],
      "metadata": {
        "id": "cexRC5gt1NwZ"
      },
      "execution_count": null,
      "outputs": []
    },
    {
      "cell_type": "code",
      "source": [
        "def add_noise_processing(dataset, filter, percent):\n",
        "    percent = percent\n",
        "    dataset = dataset\n",
        "    process_image = random_select(dataset, percent)\n",
        "    #new_dataset\n",
        "    for i in range(process_image.shape[0]):\n",
        "        process_image[i][0] = filter(process_image[i][0])\n",
        "\n",
        "    return np.array(process_image)"
      ],
      "metadata": {
        "id": "faC4HOcN1NwZ"
      },
      "execution_count": null,
      "outputs": []
    },
    {
      "cell_type": "code",
      "source": [
        "percent_1 = 0.05\n",
        "percent_2 = 0.1\n",
        "\n",
        "Decks_addwhite_set = add_noise_processing(dataset_Decks, white_edge, percent_1)\n",
        "Decks_flip_set = add_noise_processing(dataset_Decks, flip, percent_1)\n",
        "Decks_blur_set = add_noise_processing(dataset_Decks, blur, percent_2)\n",
        "\n",
        "Pavements_addwhite_set = add_noise_processing(dataset_Pavements, white_edge, percent_1)\n",
        "Pavements_flip_set = add_noise_processing(dataset_Pavements, flip, percent_1)\n",
        "Pavements_blur_set = add_noise_processing(dataset_Pavements, blur, percent_2)\n",
        "\n",
        "Walls_addwhite_set = add_noise_processing(dataset_Walls, white_edge, percent_1)\n",
        "Walls_flip_set = add_noise_processing(dataset_Walls, flip, percent_1)\n",
        "Walls_blur_set = add_noise_processing(dataset_Walls, blur, percent_2)\n"
      ],
      "metadata": {
        "id": "iZDSf9dW1NwZ"
      },
      "execution_count": null,
      "outputs": []
    },
    {
      "cell_type": "code",
      "source": [
        "Decks_addwhite_set.shape, Decks_flip_set.shape, Decks_blur_set.shape"
      ],
      "metadata": {
        "id": "Ij7L8gvf1NwZ"
      },
      "execution_count": null,
      "outputs": []
    },
    {
      "cell_type": "code",
      "source": [
        "Pavements_addwhite_set.shape, Pavements_flip_set.shape,Pavements_blur_set.shape"
      ],
      "metadata": {
        "id": "MyryvUTg1NwZ"
      },
      "execution_count": null,
      "outputs": []
    },
    {
      "cell_type": "code",
      "source": [
        "Walls_addwhite_set.shape, Walls_flip_set.shape,Walls_blur_set.shape"
      ],
      "metadata": {
        "id": "VrCR0-nH1NwZ"
      },
      "execution_count": null,
      "outputs": []
    },
    {
      "cell_type": "markdown",
      "source": [
        "**Prviding 3 added-noise dataset for Decks, Pavement, and Walls.**"
      ],
      "metadata": {
        "id": "ctWMJqid1Nwa"
      }
    },
    {
      "cell_type": "code",
      "source": [
        "# Prviding 3 added-noise dataset for Decks, Pavement, and Walls.\n",
        "Decks_noise_dataset = np.concatenate((Decks_addwhite_set, Decks_flip_set,Decks_blur_set), axis=0)\n",
        "Pavements_noise_dataset = np.concatenate((Pavements_addwhite_set, Pavements_flip_set,Pavements_blur_set), axis=0)\n",
        "Walls_noise_dataset = np.concatenate((Walls_addwhite_set, Walls_flip_set,Walls_blur_set), axis=0)"
      ],
      "metadata": {
        "id": "nX0c2Kek1Nwa"
      },
      "execution_count": null,
      "outputs": []
    },
    {
      "cell_type": "code",
      "source": [
        "#Tesing\n",
        "#succeed\n",
        "plt.imshow(Pavements_noise_dataset[1200][0], cmap = 'gray')"
      ],
      "metadata": {
        "id": "k3iAJ1tP1Nwa"
      },
      "execution_count": null,
      "outputs": []
    },
    {
      "cell_type": "code",
      "source": [
        "visualization_Decks_noise_dataset = visualize_dataset(Decks_noise_dataset)\n",
        "print(len(visualization_Decks_noise_dataset))\n",
        "plt.figure(figsize=(10,10))\n",
        "plt.subplot(2, 2, 1)\n",
        "sns.set_style('darkgrid')\n",
        "axl = sns.countplot(visualization_Decks_noise_dataset, order=['Neg', 'Pos'])\n",
        "axl.set_title(\"Number of Decks Noise Images\")"
      ],
      "metadata": {
        "id": "_Bts7RvB1Nwa"
      },
      "execution_count": null,
      "outputs": []
    },
    {
      "cell_type": "code",
      "source": [
        "visualization_Pavements_noise_dataset = visualize_dataset(Pavements_noise_dataset)\n",
        "print(len(visualization_Pavements_noise_dataset))\n",
        "plt.figure(figsize=(10,10))\n",
        "plt.subplot(2, 2, 1)\n",
        "sns.set_style('darkgrid')\n",
        "axl = sns.countplot(visualization_Pavements_noise_dataset)\n",
        "axl.set_title(\"Number of Pavements Noise Images\")"
      ],
      "metadata": {
        "id": "8retDmns1Nwa"
      },
      "execution_count": null,
      "outputs": []
    },
    {
      "cell_type": "code",
      "source": [
        "visualization_Walls_noise_dataset = visualize_dataset(Walls_noise_dataset)\n",
        "print(len(visualization_Walls_noise_dataset))\n",
        "plt.figure(figsize=(10,10))\n",
        "plt.subplot(2, 2, 1)\n",
        "sns.set_style('darkgrid')\n",
        "axl = sns.countplot(visualization_Walls_noise_dataset)\n",
        "axl.set_title(\"Number of Walls Noise Images\")"
      ],
      "metadata": {
        "id": "J5Q87e4g1Nwa"
      },
      "execution_count": null,
      "outputs": []
    },
    {
      "cell_type": "markdown",
      "source": [
        "##0.2.6 Prepare Dataset for training and testing\n",
        "\n",
        " After combine Noise_set with Normal_set.\n",
        " Generate 80% dataset for training; 20% dataset for testing。\n",
        " Shuffle training set and test set.\n",
        "\n",
        "\n"
      ],
      "metadata": {
        "id": "oFfYYwOy1Nwa"
      }
    },
    {
      "cell_type": "markdown",
      "source": [],
      "metadata": {
        "id": "ISsdL-Sr1Nwa"
      }
    },
    {
      "cell_type": "code",
      "source": [
        "def separete_dataset(normal_dataset, noise_dataset):\n",
        "    all_set = np.concatenate((normal_dataset, noise_dataset), axis=0)\n",
        "    print(\"all_dataset shape:\")\n",
        "    print(all_set.shape)\n",
        "    np.random.shuffle(all_set)\n",
        "    percent = 0.8\n",
        "    row_number = round(percent*all_set.shape[0])\n",
        "\n",
        "    training_set = all_set[0:row_number,:]\n",
        "    testing_set = all_set[row_number:,:]\n",
        "    return training_set, testing_set\n"
      ],
      "metadata": {
        "id": "fQhVv53j1Nwa"
      },
      "execution_count": null,
      "outputs": []
    },
    {
      "cell_type": "code",
      "source": [
        "Decks_training_dataset, Decks_testing_dataset = separete_dataset(dataset_Decks, Decks_noise_dataset)\n",
        "\n",
        "Decks_training_dataset.shape, Decks_testing_dataset.shape"
      ],
      "metadata": {
        "id": "ADXxEMwx1Nwa"
      },
      "execution_count": null,
      "outputs": []
    },
    {
      "cell_type": "code",
      "source": [
        "Pavements_training_dataset, Pavements_testing_dataset = separete_dataset(dataset_Pavements, Pavements_noise_dataset)\n",
        "\n",
        "Pavements_training_dataset.shape, Pavements_testing_dataset.shape"
      ],
      "metadata": {
        "id": "07DFYAFX1Nwb"
      },
      "execution_count": null,
      "outputs": []
    },
    {
      "cell_type": "code",
      "source": [
        "Walls_training_dataset, Walls_testing_dataset = separete_dataset(dataset_Walls, Walls_noise_dataset)\n",
        "\n",
        "Walls_training_dataset.shape, Walls_testing_dataset.shape"
      ],
      "metadata": {
        "id": "JUBqnXh81Nwb"
      },
      "execution_count": null,
      "outputs": []
    },
    {
      "cell_type": "code",
      "source": [
        "sns.set_style('white')\n",
        "plt.imshow(Walls_training_dataset[1200][0], cmap = 'gray')"
      ],
      "metadata": {
        "id": "8fWwjrlI1Nwb"
      },
      "execution_count": null,
      "outputs": []
    },
    {
      "cell_type": "markdown",
      "source": [
        "##0.2.7 Notes about Datasets\n",
        "\n",
        "\n",
        "*   Three major datasets (Decks, Pavements, Walls) have been **added with noise images** (5% adding white edge, 5% flipping, 10% blurring) without replacing original images.\n",
        "*   Three major datasets (Decks, Pavements, Walls) **are shuffled**. \n",
        "*   Each set is separated as **80% tranning set and 20% testing set** for our model\n",
        "\n",
        "\n",
        "1.   *   Decks_training_dataset\n",
        "     *   Decks_testing_dataset\n",
        "2.   *   Pavements_training_dataset\n",
        "     *   Pavements_testing_dataset\n",
        "3.   *   Walls_training_dataset\n",
        "     *   Walls_testing_dataset\n",
        "\n",
        "*   Each dataset is a **[Nx2] array**, N is the number of datapoints for each set.\n",
        "*   The first column of array contain images array with the **same size (256 x 256)**\n",
        "*   The second column of array contain **0 (negative)** or **1 (positive)** as Ground Truth\n",
        "\n",
        "\n",
        "\n",
        "\n",
        "\n",
        "\n",
        "\n",
        "\n"
      ],
      "metadata": {
        "id": "kVLQsw_k1Nwb"
      }
    },
    {
      "cell_type": "markdown",
      "source": [
        "# 1 Setup\n",
        "New version of code originally written by Botao and Anderson in section 0. Refactored to avoid memory leak and make the clicking simpler.  \n",
        "**Run this entire section** to import all the packages needed and to declare/define vital data-preparation functions."
      ],
      "metadata": {
        "id": "EzT_ZVJiyoqM"
      }
    },
    {
      "cell_type": "markdown",
      "source": [
        "## 1.1 Imports"
      ],
      "metadata": {
        "id": "ZLNRPRWwXCkV"
      }
    },
    {
      "cell_type": "code",
      "execution_count": null,
      "metadata": {
        "id": "DtnGNDoA3_x3"
      },
      "outputs": [],
      "source": [
        "import torch\n",
        "import torch.nn as nn\n",
        "import torch.nn.functional as F\n",
        "import torch.optim as optim"
      ]
    },
    {
      "cell_type": "code",
      "source": [
        "device = torch.device('cuda' if torch.cuda.is_available() else 'cpu')"
      ],
      "metadata": {
        "id": "F9DwczMv2HBx"
      },
      "execution_count": null,
      "outputs": []
    },
    {
      "cell_type": "markdown",
      "source": [
        "You can check to make sure a GPU is available using the following code block.\n",
        "\n",
        "If the below message is shown, it means you are using a CPU.\n",
        "```\n",
        "/bin/bash: nvidia-smi: command not found\n",
        "```\n",
        "\n",
        "---\n",
        "\n",
        "\n",
        "\n"
      ],
      "metadata": {
        "id": "xuEywStkc3M5"
      }
    },
    {
      "cell_type": "code",
      "source": [
        "gpu_info = !nvidia-smi\n",
        "gpu_info = '\\n'.join(gpu_info)\n",
        "if gpu_info.find('failed') >= 0:\n",
        "  print('Select the Runtime > \"Change runtime type\" menu to enable a GPU accelerator, ')\n",
        "  print('and then re-execute this cell.')\n",
        "else:\n",
        "  print(gpu_info)"
      ],
      "metadata": {
        "id": "ounnp0ASc58O",
        "colab": {
          "base_uri": "https://localhost:8080/"
        },
        "outputId": "aaeea8f8-0297-460a-9482-764fb48ec673"
      },
      "execution_count": null,
      "outputs": [
        {
          "output_type": "stream",
          "name": "stdout",
          "text": [
            "Select the Runtime > \"Change runtime type\" menu to enable a GPU accelerator, \n",
            "and then re-execute this cell.\n"
          ]
        }
      ]
    },
    {
      "cell_type": "markdown",
      "source": [
        "Anderson has shared the google drive folder which contains dataset to everyone, so just use that folder to run our code\n",
        "In your Google Drive, you need to drag that folder from \"share with me\" to \"my drive\", then you will be good to go"
      ],
      "metadata": {
        "id": "FwSvW1mi17YI"
      }
    },
    {
      "cell_type": "code",
      "source": [
        "from google.colab import drive\n",
        "drive.mount('/content/drive')"
      ],
      "metadata": {
        "id": "SgNgYnv012Uu",
        "colab": {
          "base_uri": "https://localhost:8080/"
        },
        "outputId": "7ac194d4-b769-4e6d-9041-a76a14f51fa8"
      },
      "execution_count": null,
      "outputs": [
        {
          "output_type": "stream",
          "name": "stdout",
          "text": [
            "Drive already mounted at /content/drive; to attempt to forcibly remount, call drive.mount(\"/content/drive\", force_remount=True).\n"
          ]
        }
      ]
    },
    {
      "cell_type": "code",
      "source": [
        "import numpy as np # linear algebra\n",
        "import pandas as pd # data processing, CSV file I/O \n",
        "import os\n",
        "from pathlib import Path\n",
        "from PIL import Image\n",
        "import seaborn as sns"
      ],
      "metadata": {
        "id": "zov3-X1J2Etb"
      },
      "execution_count": null,
      "outputs": []
    },
    {
      "cell_type": "code",
      "source": [
        "import matplotlib.pyplot as plt\n",
        "import cv2 # OpenCV\n",
        "import random\n",
        "from tqdm import tqdm \n",
        "from sklearn.model_selection import train_test_split\n",
        "from sklearn.decomposition import PCA"
      ],
      "metadata": {
        "id": "sFdndhF53a4u"
      },
      "execution_count": null,
      "outputs": []
    },
    {
      "cell_type": "markdown",
      "source": [
        "How many of these imports are we actually using?"
      ],
      "metadata": {
        "id": "4rjFT5Nt3kUO"
      }
    },
    {
      "cell_type": "markdown",
      "metadata": {
        "id": "OwA2y6OR3_yE"
      },
      "source": [
        "## 1.2 Define data prep functions"
      ]
    },
    {
      "cell_type": "markdown",
      "source": [
        "### 1.2.1 Data loading\n",
        "load_image(data_dir)"
      ],
      "metadata": {
        "id": "IVDNY26c30FA"
      }
    },
    {
      "cell_type": "code",
      "source": [
        "def load_image(data_dir):\n",
        "    label = ['Non-cracked', 'Cracked']\n",
        "    img_data = []\n",
        "    \n",
        "    for word in label:\n",
        "        path = os.path.join(data_dir, word)\n",
        "        y_label = label.index(word)\n",
        "        \n",
        "        for img_name in tqdm(os.listdir(path)):\n",
        "            img = cv2.imread(os.path.join(path, img_name), cv2.IMREAD_GRAYSCALE)\n",
        "            # resized_img = cv2.resize(img, (64,64))                               # If needed, we can resizing image to lower pixels for faster modeling test time.\n",
        "            #                                                                       update: actually, resizing here won't work because of the way white_edge is coded.\n",
        "            \n",
        "            img_data.append([img, y_label])\n",
        "            \n",
        "    return np.array(img_data)"
      ],
      "metadata": {
        "id": "M3F9m4IvhmSH"
      },
      "execution_count": null,
      "outputs": []
    },
    {
      "cell_type": "markdown",
      "source": [
        "### 1.2.2 Add noise\n",
        "white_edge(data), flip(data), blur(data)"
      ],
      "metadata": {
        "id": "UPNVSYMbYtPa"
      }
    },
    {
      "cell_type": "markdown",
      "source": [
        "Why do we add noise? To make the model more robust (able to filter out noise in data). "
      ],
      "metadata": {
        "id": "EHc_mLFRqZbn"
      }
    },
    {
      "cell_type": "code",
      "source": [
        "def white_edge(data):\n",
        "    distance = 20   # white edge distance that we want to add\n",
        "    add_white_side_size = np.zeros((256, distance), dtype = 'uint8') + 255 \n",
        "    added = np.concatenate((data, add_white_side_size), axis=1)\n",
        "    resized = cv2.resize(added, (256,256)) \n",
        "\n",
        "    return resized"
      ],
      "metadata": {
        "id": "oMfvM9uCw1NA"
      },
      "execution_count": null,
      "outputs": []
    },
    {
      "cell_type": "code",
      "source": [
        "def flip(data):\n",
        "    flipped = np.flip(data) \n",
        "\n",
        "    return flipped"
      ],
      "metadata": {
        "id": "oxHGAthiYAuC"
      },
      "execution_count": null,
      "outputs": []
    },
    {
      "cell_type": "code",
      "source": [
        "def blur(data):\n",
        "    kernel = np.array([[0.1,0.1,0.1], [0.1,0.1,0.1], [0.1,0.1,0.1]]) # we can use different kernel values to blur the image\n",
        "    #kernel = np.array([[0.125,0.125,0.125], [0.125,0.25,0.125], [0.125,0.125,0.125]])\n",
        "    #kernel = np.array([[1.0,2.0,1.0], [2.0,4.0,2.0], [1.0,2.0,1.0]])\n",
        "    kernel = kernel / np.sum(kernel)\n",
        "    arraylist = []\n",
        "    for y in range(3):\n",
        "        temparray = np.copy(data)\n",
        "        temparray = np.roll(temparray, y - 1, axis=0)\n",
        "        for x in range(3):\n",
        "            temparray_X = np.copy(temparray)\n",
        "            temparray_X = np.roll(temparray_X, x - 1, axis=1)*kernel[y,x]\n",
        "            arraylist.append(temparray_X)\n",
        "\n",
        "    arraylist = np.array(arraylist)\n",
        "    arraylist_sum = np.sum(arraylist, axis=0)\n",
        "    return arraylist_sum"
      ],
      "metadata": {
        "id": "Kp5-ZGUUYAl6"
      },
      "execution_count": null,
      "outputs": []
    },
    {
      "cell_type": "markdown",
      "source": [
        "### 1.2.3 Feature selection"
      ],
      "metadata": {
        "id": "FirCXrh6PK9k"
      }
    },
    {
      "cell_type": "markdown",
      "source": [
        "Trying PCA"
      ],
      "metadata": {
        "id": "VkKDGVu0PrDJ"
      }
    },
    {
      "cell_type": "code",
      "source": [
        "def flatten_and_split_data(dataset):\n",
        "    data = []\n",
        "    labels = []\n",
        "    for img, label in dataset:\n",
        "       data.append(np.ndarray.flatten(img))\n",
        "       labels.append(label)\n",
        "    return np.array(data), np.array(labels)"
      ],
      "metadata": {
        "id": "dfLob2AQP3n6"
      },
      "execution_count": null,
      "outputs": []
    },
    {
      "cell_type": "code",
      "source": [
        "def get_pca_data(X, k=24):\n",
        "    X, y = flatten_and_split_data(X)\n",
        "    pca = PCA(n_components=k)\n",
        "    X = pca.fit_transform(X)\n",
        "    print(\"Explained variance ratio:\")\n",
        "    print(pca.explained_variance_ratio_)\n",
        "    data = []\n",
        "    for i in range(X.shape[0]):\n",
        "        data.append([X[i], y[i]])\n",
        "    return np.array(data)"
      ],
      "metadata": {
        "id": "hfJ3MIoGWLXN"
      },
      "execution_count": null,
      "outputs": []
    },
    {
      "cell_type": "markdown",
      "source": [
        "split because of RAM issues"
      ],
      "metadata": {
        "id": "ugxTIBZ2VVsU"
      }
    },
    {
      "cell_type": "code",
      "source": [
        "# def pca_step_get_v(X, k):\n",
        "#     X = flatten_data(X)\n",
        "#     u, s, v = np.linalg.svd(X - np.average(X, axis=0), full_matrices=False, compute_uv=True)\n",
        "#     return np.transpose(v)[:, :k]"
      ],
      "metadata": {
        "id": "vEasqOdmUziV"
      },
      "execution_count": null,
      "outputs": []
    },
    {
      "cell_type": "code",
      "source": [
        "# def pca(X, k=24):\n",
        "#     v = pca_step_get_v(X, k)\n",
        "#     return np.matmul(X - np.average(X, axis=0), v)"
      ],
      "metadata": {
        "id": "Vn82MGjCPNcB"
      },
      "execution_count": null,
      "outputs": []
    },
    {
      "cell_type": "markdown",
      "source": [
        "### 1.2.4 Data mutation\n",
        "random_select(dataset, percent),  \n",
        "add_noise_processing(dataset, filter, percent),  \n",
        "make_noise_sets(dataset, percents),  \n",
        "make_full_noise_set(dataset, percents)"
      ],
      "metadata": {
        "id": "F1y972RgY_Oa"
      }
    },
    {
      "cell_type": "markdown",
      "source": [
        "Apply the noise functions from 1.2.2"
      ],
      "metadata": {
        "id": "b5tugQwCBire"
      }
    },
    {
      "cell_type": "code",
      "source": [
        "def random_select(dataset, percent):\n",
        "    num = round(percent*dataset.shape[0])\n",
        "    random_images = random.choices(dataset, k=num)\n",
        "\n",
        "    return np.array(random_images)"
      ],
      "metadata": {
        "id": "B5itT2hKGNFT"
      },
      "execution_count": null,
      "outputs": []
    },
    {
      "cell_type": "code",
      "source": [
        "def add_noise_processing(dataset, filter, percent):\n",
        "    process_image = random_select(dataset, percent)\n",
        "    #new_dataset\n",
        "    for i in range(process_image.shape[0]):\n",
        "        process_image[i][0] = filter(process_image[i][0])\n",
        "\n",
        "    return np.array(process_image)"
      ],
      "metadata": {
        "id": "vk9vh96vdBax"
      },
      "execution_count": null,
      "outputs": []
    },
    {
      "cell_type": "code",
      "source": [
        "def make_noise_sets(dataset, percents=(0.05, 0.05, 0.10)):\n",
        "    data_white_set = add_noise_processing(dataset, white_edge, percents[0])\n",
        "    data_flip_set = add_noise_processing(dataset_Decks, flip, percents[1])\n",
        "    data_blur_set = add_noise_processing(dataset_Decks, blur, percents[2])\n",
        "    return (data_white_set, data_flip_set, data_blur_set)"
      ],
      "metadata": {
        "id": "3bnhGda4ZfrG"
      },
      "execution_count": null,
      "outputs": []
    },
    {
      "cell_type": "code",
      "source": [
        "def make_full_noise_set(dataset, percents=(0.05, 0.05, 0.10)):\n",
        "    return np.concatenate(make_noise_sets(dataset, percents), axis=0)"
      ],
      "metadata": {
        "id": "bn85P5avaZZq"
      },
      "execution_count": null,
      "outputs": []
    },
    {
      "cell_type": "markdown",
      "source": [
        "### 1.2.5 Resize dataset and split into train/val\n",
        "combine_dataset(normal_dataset, noise_dataset),  \n",
        "resize_dataset(dataset, size),  \n",
        "split_dataset(dataset, training_percent),  \n",
        "full_data_prep(dataset, noise_percents, training_percent, image_size)\n"
      ],
      "metadata": {
        "id": "A9ljzV2uKGDi"
      }
    },
    {
      "cell_type": "markdown",
      "source": [
        "Combine Noise_set with Normal_set.  \n",
        "Generate 80% dataset for training; 20% dataset for testing.  \n",
        "Shuffle training set and test set."
      ],
      "metadata": {
        "id": "7nT-IjDZq6_4"
      }
    },
    {
      "cell_type": "code",
      "source": [
        "def combine_dataset(normal_dataset, noise_dataset):\n",
        "    return np.concatenate((normal_dataset, noise_dataset), axis=0)"
      ],
      "metadata": {
        "id": "Qorf8UAIAUnJ"
      },
      "execution_count": null,
      "outputs": []
    },
    {
      "cell_type": "code",
      "source": [
        "def resize_dataset(dataset, size=256):\n",
        "    resized_images = []\n",
        "    for img, label in dataset:\n",
        "      resized_img = cv2.resize(img, (size, size))    \n",
        "      resized_images.append([resized_img, label])\n",
        "    return np.array(resized_images)"
      ],
      "metadata": {
        "id": "SiPS7V3g_CED"
      },
      "execution_count": null,
      "outputs": []
    },
    {
      "cell_type": "code",
      "source": [
        "def split_dataset(dataset, training_percent=0.8):\n",
        "    dataset_copy = np.copy(dataset)\n",
        "    np.random.shuffle(dataset_copy)\n",
        "    row_number = round(training_percent*dataset_copy.shape[0])\n",
        "\n",
        "    training_set = dataset_copy[0:row_number,:]\n",
        "    testing_set = dataset_copy[row_number:,:]\n",
        "    return training_set, testing_set"
      ],
      "metadata": {
        "id": "nP8lw2-rPXgA"
      },
      "execution_count": null,
      "outputs": []
    },
    {
      "cell_type": "code",
      "source": [
        "def full_data_prep(dataset, noise_percents=(0.05, 0.05, 0.10), training_percent=0.8, image_size=256):\n",
        "    noise_dataset = make_full_noise_set(dataset, noise_percents)\n",
        "    combined_dataset = combine_dataset(dataset, noise_dataset)\n",
        "    resized_dataset = resize_dataset(combined_dataset, image_size)\n",
        "    training_data, testing_data = split_dataset(resized_dataset, training_percent)\n",
        "    return training_data, testing_data"
      ],
      "metadata": {
        "id": "uNJz7vLPmfIV"
      },
      "execution_count": null,
      "outputs": []
    },
    {
      "cell_type": "markdown",
      "source": [
        "### 1.2.6 Notes about Datasets"
      ],
      "metadata": {
        "id": "E-lPql57mxkJ"
      }
    },
    {
      "cell_type": "markdown",
      "source": [
        "*   Three major datasets (Decks, Pavements, Walls) have been **added with noise images** (5% adding white edge, 5% flipping, 10% blurring) without replacing original images.\n",
        "*   Three major datasets (Decks, Pavements, Walls) **are shuffled**. \n",
        "*   Each set is separated as **80% tranning set and 20% testing set** for our model\n",
        "\n",
        "\n",
        "1.   *   Decks_training_dataset\n",
        "     *   Decks_testing_dataset\n",
        "2.   *   Pavements_training_dataset\n",
        "     *   Pavements_testing_dataset\n",
        "3.   *   Walls_training_dataset\n",
        "     *   Walls_testing_dataset\n",
        "\n",
        "*   Each dataset is a **[Nx2] array**, N is the number of datapoints for each set.\n",
        "*   The first column of array contain images array with the **same size (256 x 256)**\n",
        "*   The second column of array contain **0 (negative)** or **1 (positive)** as Ground Truth"
      ],
      "metadata": {
        "id": "EGxLmuk6q_Zi"
      }
    },
    {
      "cell_type": "markdown",
      "source": [
        "# 2 Data\n",
        "Execute functions defined in 1 to properly load the data.  \n",
        "This will take some time.\n",
        "(Should we consider using pandas dataframes to speed up the data loading step?)"
      ],
      "metadata": {
        "id": "L2xY7hw9sKyM"
      }
    },
    {
      "cell_type": "markdown",
      "source": [
        "## 2.1 Load and prepare data\n",
        "Call the functions defined in 1.  \n",
        "Currently, you should just load the **Decks** data while testing."
      ],
      "metadata": {
        "id": "dyfwn1LZfGO-"
      }
    },
    {
      "cell_type": "code",
      "source": [
        "DIR1 = '/content/drive/MyDrive/archive/Decks'\n",
        "dataset_Decks = load_image(DIR1)"
      ],
      "metadata": {
        "id": "-MJGsoaslVib",
        "colab": {
          "base_uri": "https://localhost:8080/"
        },
        "outputId": "8e2d387b-0d8e-4268-c134-a8647e1e2236"
      },
      "execution_count": null,
      "outputs": [
        {
          "output_type": "stream",
          "name": "stderr",
          "text": [
            "100%|██████████| 11358/11358 [00:59<00:00, 191.00it/s]\n",
            "100%|██████████| 2025/2025 [00:08<00:00, 236.36it/s]\n",
            "/usr/local/lib/python3.7/dist-packages/ipykernel_launcher.py:16: VisibleDeprecationWarning: Creating an ndarray from ragged nested sequences (which is a list-or-tuple of lists-or-tuples-or ndarrays with different lengths or shapes) is deprecated. If you meant to do this, you must specify 'dtype=object' when creating the ndarray.\n",
            "  app.launch_new_instance()\n"
          ]
        }
      ]
    },
    {
      "cell_type": "code",
      "source": [
        "# DIR2 = '/content/drive/MyDrive/archive/Pavements'\n",
        "# dataset_Pavements = load_image(DIR2)"
      ],
      "metadata": {
        "id": "QFQeJszWlaJa"
      },
      "execution_count": null,
      "outputs": []
    },
    {
      "cell_type": "code",
      "source": [
        "# DIR3 = '/content/drive/MyDrive/archive/Walls'\n",
        "# dataset_Walls = load_image(DIR3)"
      ],
      "metadata": {
        "id": "zgLISPkslcTE"
      },
      "execution_count": null,
      "outputs": []
    },
    {
      "cell_type": "markdown",
      "source": [
        "The above variables will be kept in memory to avoid needing to reload them if you want to change the dataset percents. In the future to save memory, we'll only save the mutated copies."
      ],
      "metadata": {
        "id": "GO2xilV5nJSX"
      }
    },
    {
      "cell_type": "markdown",
      "source": [
        "Images are 256 x 256 by default. Reduce this to speed up the model.\n",
        "\n",
        "Note: currently the feature reduction with PCA will probably crash your runtime if you make image_size too large."
      ],
      "metadata": {
        "id": "m6TgDQfD9y5l"
      }
    },
    {
      "cell_type": "code",
      "source": [
        "image_size = 128"
      ],
      "metadata": {
        "id": "zXAzkAT59qpz"
      },
      "execution_count": null,
      "outputs": []
    },
    {
      "cell_type": "code",
      "source": [
        "white_edge_percent = 0.05\n",
        "flip_percent = 0.05\n",
        "blur_percent = 0.10\n",
        "noise_percents = (white_edge_percent, flip_percent, blur_percent)\n",
        "\n",
        "training_percent = 0.8"
      ],
      "metadata": {
        "id": "GGtd1xr8ZLCf"
      },
      "execution_count": null,
      "outputs": []
    },
    {
      "cell_type": "markdown",
      "source": [
        "Just testing on Decks for now."
      ],
      "metadata": {
        "id": "Wm3dfdNapAMR"
      }
    },
    {
      "cell_type": "code",
      "source": [
        "# training_data, val_data = full_data_prep(dataset_Decks, noise_percents, training_percent, image_size)"
      ],
      "metadata": {
        "id": "81-Rb9CZymWG",
        "colab": {
          "base_uri": "https://localhost:8080/"
        },
        "outputId": "1b383e41-5a2f-444a-93f1-aab4e8839f4f"
      },
      "execution_count": null,
      "outputs": [
        {
          "output_type": "stream",
          "name": "stderr",
          "text": [
            "/usr/local/lib/python3.7/dist-packages/ipykernel_launcher.py:6: VisibleDeprecationWarning: Creating an ndarray from ragged nested sequences (which is a list-or-tuple of lists-or-tuples-or ndarrays with different lengths or shapes) is deprecated. If you meant to do this, you must specify 'dtype=object' when creating the ndarray.\n",
            "  \n"
          ]
        }
      ]
    },
    {
      "cell_type": "code",
      "source": [
        "k = 4"
      ],
      "metadata": {
        "id": "7FH2VWpwgp8L"
      },
      "execution_count": null,
      "outputs": []
    },
    {
      "cell_type": "markdown",
      "source": [
        "Trying PCA and ignoring noise for now. Should be changed in the future."
      ],
      "metadata": {
        "id": "Of-HrnRhSExs"
      }
    },
    {
      "cell_type": "code",
      "source": [
        "training_data, val_data = split_dataset(get_pca_data(resize_dataset(dataset_Decks, size=image_size), k), training_percent)"
      ],
      "metadata": {
        "colab": {
          "base_uri": "https://localhost:8080/"
        },
        "id": "PPhYxd6MRhUr",
        "outputId": "13d8ed47-6114-485d-9ee4-e49fe7f7bff4"
      },
      "execution_count": null,
      "outputs": [
        {
          "output_type": "stream",
          "name": "stderr",
          "text": [
            "/usr/local/lib/python3.7/dist-packages/ipykernel_launcher.py:6: VisibleDeprecationWarning: Creating an ndarray from ragged nested sequences (which is a list-or-tuple of lists-or-tuples-or ndarrays with different lengths or shapes) is deprecated. If you meant to do this, you must specify 'dtype=object' when creating the ndarray.\n",
            "  \n"
          ]
        },
        {
          "output_type": "stream",
          "name": "stdout",
          "text": [
            "Explained variance ratio:\n",
            "[0.70905484 0.06063328 0.04096288 0.01524501]\n"
          ]
        },
        {
          "output_type": "stream",
          "name": "stderr",
          "text": [
            "/usr/local/lib/python3.7/dist-packages/ipykernel_launcher.py:10: VisibleDeprecationWarning: Creating an ndarray from ragged nested sequences (which is a list-or-tuple of lists-or-tuples-or ndarrays with different lengths or shapes) is deprecated. If you meant to do this, you must specify 'dtype=object' when creating the ndarray.\n",
            "  # Remove the CWD from sys.path while we load stuff.\n"
          ]
        }
      ]
    },
    {
      "cell_type": "code",
      "source": [
        "print(training_data.shape, val_data.shape)"
      ],
      "metadata": {
        "colab": {
          "base_uri": "https://localhost:8080/"
        },
        "id": "akN2UFr9rHVN",
        "outputId": "76abb9d5-0e03-4dd1-e5ce-2ac930113b3e"
      },
      "execution_count": null,
      "outputs": [
        {
          "output_type": "stream",
          "name": "stdout",
          "text": [
            "(10706, 2) (2677, 2)\n"
          ]
        }
      ]
    },
    {
      "cell_type": "code",
      "source": [
        "print(training_data[0])"
      ],
      "metadata": {
        "colab": {
          "base_uri": "https://localhost:8080/"
        },
        "id": "NtUgVFaItaFR",
        "outputId": "55fa6158-fdfa-4be1-d58e-fa91edd091ba"
      },
      "execution_count": null,
      "outputs": [
        {
          "output_type": "stream",
          "name": "stdout",
          "text": [
            "[array([ 3141.07051708, -2827.05025163,    51.87760832,  -622.75591382]) 0]\n"
          ]
        }
      ]
    },
    {
      "cell_type": "markdown",
      "source": [
        "256x256 features per image because we're considering every feature individually.  \n",
        "We're going to need to apply dimensionality reduction at some point."
      ],
      "metadata": {
        "id": "ZVX9y_MdtjV2"
      }
    },
    {
      "cell_type": "markdown",
      "source": [
        "# 3 Model"
      ],
      "metadata": {
        "id": "dcbLXo50eIsY"
      }
    },
    {
      "cell_type": "markdown",
      "metadata": {
        "id": "tlfliN0J-RzV"
      },
      "source": [
        "## 3.1 Model setup\n",
        "Define hyperparameters, model architecture"
      ]
    },
    {
      "cell_type": "code",
      "execution_count": null,
      "metadata": {
        "id": "2P5SHabu3_yf"
      },
      "outputs": [],
      "source": [
        "# placeholder values, examples\n",
        "INPUT_DIM = k\n",
        "HIDDEN_DIM = 12\n",
        "OUTPUT_DIM = 1\n",
        "LEARNING_RATE = 0.1\n",
        "EPOCHS = 10"
      ]
    },
    {
      "cell_type": "code",
      "execution_count": null,
      "metadata": {
        "id": "aCa30HQb3_ym"
      },
      "outputs": [],
      "source": [
        "class CrackDetectionModel(nn.Module):\n",
        "    def __init__(self, input_dim, hidden_dim, output_dim):\n",
        "        super(CrackDetectionModel, self).__init__()\n",
        "\n",
        "        # just examples; there are lots of different layer types to experiment with\n",
        "        self.linear_layer_1 = nn.Linear(input_dim, hidden_dim)\n",
        "        self.linear_layer_2 = nn.Linear(hidden_dim, hidden_dim)\n",
        "        self.linear_layer_3 = nn.Linear(hidden_dim, output_dim)\n",
        "        # note that sigmoid only works if output_dim is 1, otherwise use softmax\n",
        "        self.sigmoid_out = nn.Sigmoid()\n",
        "\n",
        "    def forward(self, input):\n",
        "        # this is the function that gets called for training/eval;\n",
        "        # model(input) will call this function\n",
        "        \n",
        "        ll_1_out = self.linear_layer_1(input)\n",
        "        ll_2_out = self.linear_layer_2(ll_1_out)\n",
        "        ll_3_out = self.linear_layer_3(ll_2_out)\n",
        "        output   = self.sigmoid_out(ll_3_out)\n",
        "\n",
        "        return output"
      ]
    },
    {
      "cell_type": "markdown",
      "source": [
        "## 3.2 Define loops"
      ],
      "metadata": {
        "id": "VNq63U90axMU"
      }
    },
    {
      "cell_type": "code",
      "execution_count": null,
      "metadata": {
        "id": "BWMGxh4Z3_yv"
      },
      "outputs": [],
      "source": [
        "def train(epoch, model, loss_function, optimizer):\n",
        "    model.train()\n",
        "    train_loss = 0\n",
        "    train_examples = 0\n",
        "\n",
        "    # this statement will need to be adjusted once we know more about the\n",
        "    # shape of our data after processing\n",
        "    for input, ground_truth_label in training_data:\n",
        "\n",
        "        optimizer.zero_grad()\n",
        "\n",
        "        # send to GPU, if active; assumes input is a tensor\n",
        "        input = torch.Tensor(input).to(device)\n",
        "        # may need to have additional input prep in the train loop\n",
        "        # (e.g. when input is not a tensor)\n",
        "\n",
        "        predicted_score = model(input)\n",
        "        \n",
        "        # because BCE loss works with batch training, it expects\n",
        "        # tensor input. we aren't doing batches, but the label still\n",
        "        # needs to be in a tensor. change this if we switch to batches.\n",
        "\n",
        "        ground_truth_label = torch.Tensor([ground_truth_label]).to(device)\n",
        "\n",
        "        loss = loss_function(predicted_score, ground_truth_label)\n",
        "        \n",
        "        # update model parameters\n",
        "        loss.backward()\n",
        "        optimizer.step()\n",
        "\n",
        "        train_loss += loss.item()\n",
        "        train_examples += 1\n",
        "        # assumes only 1 example per loop currently\n",
        "\n",
        "    \n",
        "    avg_train_loss = train_loss / train_examples\n",
        "    avg_val_loss, val_accuracy = evaluate(model, loss_function)\n",
        "        \n",
        "    print(\"Epoch: {}/{}\\tAvg Train Loss: {:.4f}\\tAvg Val Loss: {:.4f}\\t Val Accuracy: {:.0f}\".format(epoch, \n",
        "                                                                      EPOCHS, \n",
        "                                                                      avg_train_loss, \n",
        "                                                                      avg_val_loss,\n",
        "                                                                      val_accuracy))"
      ]
    },
    {
      "cell_type": "code",
      "source": [
        "def evaluate(model, loss_function):\n",
        "    model.eval()\n",
        "    correct = 0\n",
        "    val_loss = 0\n",
        "    val_examples = 0\n",
        "    with torch.no_grad():\n",
        "        for input, ground_truth_label in val_data:\n",
        "\n",
        "            # val loop should look very similar to train loop\n",
        "\n",
        "            # send to GPU, if active; assumes input is a tensor\n",
        "            input = torch.Tensor(input).to(device)\n",
        "            # may need to have additional input prep in the val loop\n",
        "            # (e.g. when input is not a tensor)\n",
        "\n",
        "            predicted_score = model(input)\n",
        "            \n",
        "            # see above note about BCE loss\n",
        "            ground_truth_label = torch.Tensor([ground_truth_label]).to(device)\n",
        "            \n",
        "            loss = loss_function(predicted_score, ground_truth_label)\n",
        "            \n",
        "            # for multi-class this will need to be argmax\n",
        "            # (only works for binary classification; 0 and 1 labels)\n",
        "            predicted_label = round(predicted_score.item())\n",
        "\n",
        "            # add 1 if the same, add 0 if different\n",
        "            correct += int(predicted_label == ground_truth_label)\n",
        "\n",
        "            val_loss += loss.item()\n",
        "            val_examples += 1\n",
        "            # assume one example per loop\n",
        "\n",
        "\n",
        "    val_accuracy = 100.0 * correct / val_examples\n",
        "    avg_val_loss = val_loss / val_examples\n",
        "    return avg_val_loss, val_accuracy"
      ],
      "metadata": {
        "id": "n3n0hfmJfqLM"
      },
      "execution_count": null,
      "outputs": []
    },
    {
      "cell_type": "markdown",
      "source": [
        "## 3.3 Misc model functions\n",
        "Just model saving, so far."
      ],
      "metadata": {
        "id": "OGyGTqF_1aWw"
      }
    },
    {
      "cell_type": "code",
      "source": [
        "def save_model(model, model_name, version):\n",
        "  path = f'/content/drive/My Drive/Machine Learning Models/Crack Detection/{model_name}_ver_{version}.pth'\n",
        "  print(f'Saving {model_name} model...')\n",
        "  torch.save(model.state_dict(), path)\n",
        "  print(f'{model_name} saved successfully.')"
      ],
      "metadata": {
        "id": "LSsdKIiywZDX"
      },
      "execution_count": null,
      "outputs": []
    },
    {
      "cell_type": "markdown",
      "metadata": {
        "id": "Ot9J3MrB3_ys"
      },
      "source": [
        "# 4 Execution"
      ]
    },
    {
      "cell_type": "markdown",
      "source": [
        "## 4.1 Train with default params"
      ],
      "metadata": {
        "id": "Sv9I76MafhaD"
      }
    },
    {
      "cell_type": "code",
      "execution_count": null,
      "metadata": {
        "id": "lsuHjjH1rQeS",
        "colab": {
          "base_uri": "https://localhost:8080/"
        },
        "outputId": "58739a86-fe63-4882-8527-d70c09593320"
      },
      "outputs": [
        {
          "output_type": "stream",
          "name": "stdout",
          "text": [
            "Epoch: 1/10\tAvg Train Loss: 61.4874\tAvg Val Loss: 60.1816\t Val Accuracy: 40\n",
            "Epoch: 2/10\tAvg Train Loss: 52.1239\tAvg Val Loss: 55.5876\t Val Accuracy: 44\n",
            "Epoch: 3/10\tAvg Train Loss: 38.2618\tAvg Val Loss: 37.2235\t Val Accuracy: 62\n",
            "Epoch: 4/10\tAvg Train Loss: 36.0369\tAvg Val Loss: 36.3615\t Val Accuracy: 63\n",
            "Epoch: 5/10\tAvg Train Loss: 36.0113\tAvg Val Loss: 36.3257\t Val Accuracy: 63\n",
            "Epoch: 6/10\tAvg Train Loss: 36.1400\tAvg Val Loss: 37.0428\t Val Accuracy: 63\n",
            "Epoch: 7/10\tAvg Train Loss: 36.1382\tAvg Val Loss: 36.4629\t Val Accuracy: 63\n",
            "Epoch: 8/10\tAvg Train Loss: 36.1186\tAvg Val Loss: 36.8557\t Val Accuracy: 63\n",
            "Epoch: 9/10\tAvg Train Loss: 36.4136\tAvg Val Loss: 36.9820\t Val Accuracy: 62\n",
            "Epoch: 10/10\tAvg Train Loss: 35.5792\tAvg Val Loss: 36.3493\t Val Accuracy: 63\n"
          ]
        }
      ],
      "source": [
        "# lots of optimizers and loss functions to choose from; not restricted to these\n",
        "\n",
        "model = CrackDetectionModel(INPUT_DIM, HIDDEN_DIM, OUTPUT_DIM).to(device)\n",
        "optimizer = optim.Adagrad(model.parameters(), lr=LEARNING_RATE)\n",
        "loss_function = nn.BCELoss().to(device)\n",
        "# BCE loss expects tensor input, because it's designed for batches.\n",
        "# We aren't currently running batches. \n",
        "\n",
        "for epoch in range(1, EPOCHS + 1): \n",
        "    train(epoch, model, loss_function, optimizer)"
      ]
    },
    {
      "cell_type": "code",
      "source": [
        "ver = 0\n",
        "name = 'pca_deck_128x128'\n",
        "save_model(model, name, ver)"
      ],
      "metadata": {
        "id": "gW4SM8h_wlfJ"
      },
      "execution_count": null,
      "outputs": []
    },
    {
      "cell_type": "markdown",
      "source": [
        "# 5 Analysis"
      ],
      "metadata": {
        "id": "4aCEtdIAg7me"
      }
    },
    {
      "cell_type": "code",
      "source": [
        "def get_labels():\n",
        "    actual_labels = []\n",
        "    predicted_labels = []\n",
        "    for img, label in val_data:\n",
        "        actual_labels.append(label)\n",
        "        prediction = model(torch.Tensor(img))\n",
        "        predicted_labels.append(round(prediction.item()))\n",
        "    return np.array(actual_labels), np.array(predicted_labels)"
      ],
      "metadata": {
        "id": "c0VLFGYHk9kx"
      },
      "execution_count": null,
      "outputs": []
    },
    {
      "cell_type": "markdown",
      "source": [
        "below, I just copied inshira's code so that the original is preserved"
      ],
      "metadata": {
        "id": "ZqUW0XNdoYfX"
      }
    },
    {
      "cell_type": "code",
      "source": [
        "from sklearn.metrics import log_loss\n",
        "from sklearn.metrics import confusion_matrix\n",
        "from sklearn.metrics import classification_report\n",
        "from sklearn.metrics import roc_curve, roc_auc_score\n",
        "from sklearn.metrics import accuracy_score"
      ],
      "metadata": {
        "id": "YWlE61WklZk9"
      },
      "execution_count": null,
      "outputs": []
    },
    {
      "cell_type": "code",
      "source": [
        "actual_labels, predicted_labels = get_labels()"
      ],
      "metadata": {
        "id": "KikHB9G6oOMn"
      },
      "execution_count": null,
      "outputs": []
    },
    {
      "cell_type": "code",
      "source": [
        "print(confusion_matrix(actual_labels, predicted_labels))"
      ],
      "metadata": {
        "colab": {
          "base_uri": "https://localhost:8080/"
        },
        "id": "ClsvqOV9n_c4",
        "outputId": "96f603e2-ab50-4441-d1c3-c108394227c4"
      },
      "execution_count": null,
      "outputs": [
        {
          "output_type": "stream",
          "name": "stdout",
          "text": [
            "[[1595  685]\n",
            " [ 296  101]]\n"
          ]
        }
      ]
    },
    {
      "cell_type": "code",
      "source": [
        "print(classification_report(actual_labels, predicted_labels, target_names=[\"Uncracked\", \"Cracked\"]))"
      ],
      "metadata": {
        "colab": {
          "base_uri": "https://localhost:8080/"
        },
        "id": "XX97LpiUnIpV",
        "outputId": "4de3b93a-13cd-4cb0-9314-29afaf302908"
      },
      "execution_count": null,
      "outputs": [
        {
          "output_type": "stream",
          "name": "stdout",
          "text": [
            "              precision    recall  f1-score   support\n",
            "\n",
            "   Uncracked       0.84      0.70      0.76      2280\n",
            "     Cracked       0.13      0.25      0.17       397\n",
            "\n",
            "    accuracy                           0.63      2677\n",
            "   macro avg       0.49      0.48      0.47      2677\n",
            "weighted avg       0.74      0.63      0.68      2677\n",
            "\n"
          ]
        }
      ]
    },
    {
      "cell_type": "code",
      "source": [
        "print(log_loss(actual_labels, predicted_labels))"
      ],
      "metadata": {
        "colab": {
          "base_uri": "https://localhost:8080/"
        },
        "id": "S5wPmJtVngKP",
        "outputId": "233b1ef6-8ef3-4be2-f694-cc694ec11a84"
      },
      "execution_count": null,
      "outputs": [
        {
          "output_type": "stream",
          "name": "stdout",
          "text": [
            "12.657111455975743\n"
          ]
        }
      ]
    },
    {
      "cell_type": "code",
      "source": [
        "print(roc_auc_score(actual_labels, predicted_labels))"
      ],
      "metadata": {
        "colab": {
          "base_uri": "https://localhost:8080/"
        },
        "id": "jMlO5-SNnWxo",
        "outputId": "eeca6262-97fd-4067-94c3-1af472acc870"
      },
      "execution_count": null,
      "outputs": [
        {
          "output_type": "stream",
          "name": "stdout",
          "text": [
            "0.4769847319810862\n"
          ]
        }
      ]
    },
    {
      "cell_type": "code",
      "source": [
        "fpr, tpr, threshold = roc_curve(actual_labels, predicted_labels)\n",
        "plt.subplots(1,figsize=(6,6))\n",
        "plt.title(\"ROC\")\n",
        "plt.plot(fpr,tpr)\n",
        "plt.plot([0,1], ls=\"--\")\n",
        "plt.plot([0,0], [1,0], c=\".7\"), plt.plot([1,1], c=\".7\")\n",
        "plt.ylabel(\"True Pos Rate\")\n",
        "plt.xlabel(\"False Pos Rate\")\n",
        "plt.show()"
      ],
      "metadata": {
        "colab": {
          "base_uri": "https://localhost:8080/",
          "height": 404
        },
        "id": "IyQezTmGnjv_",
        "outputId": "ccf5cce3-f95e-43b0-8454-11de1b582cf5"
      },
      "execution_count": null,
      "outputs": [
        {
          "output_type": "display_data",
          "data": {
            "text/plain": [
              "<Figure size 432x432 with 1 Axes>"
            ],
            "image/png": "[encoded data removed]"
          },
          "metadata": {
            "needs_background": "light"
          }
        }
      ]
    },
    {
      "cell_type": "markdown",
      "source": [
        "## 4.1\n",
        "SKlearn metrics and anything else to report how the model is doing"
      ],
      "metadata": {
        "id": "wJVvu04bpcZc"
      }
    },
    {
      "cell_type": "code",
      "source": [
        "#Index 0 - Decks , 1 - Pavements, 2- Walls\n",
        "deckNeg = len(np.where(np.asarray(visualization_Decks) == 'Neg')[0])\n",
        "deckPos = len(np.where(np.asarray(visualization_Decks) == 'Pos')[0])\n",
        "paveNeg = len(np.where(np.asarray(visualization_Pavements) == 'Neg')[0])\n",
        "pavePos = len(np.where(np.asarray(visualization_Pavements) == 'Pos')[0])\n",
        "wallNeg = len(np.where(np.asarray(visualization_Walls) == 'Neg')[0])\n",
        "wallPos = len(np.where(np.asarray(visualization_Walls) == 'Pos')[0])\n",
        "deckShape = Decks_training_dataset.shape[0]\n",
        "paveShape = Pavements_training_dataset.shape[0]\n",
        "wallShape = Walls_training_dataset.shape[0]\n",
        "#print(deckNeg/deckShape, deckPos/deckShape)\n",
        "temp_y_test = [Decks_testing_dataset[:,1].astype('int'), Pavements_testing_dataset[:,1].astype('int'),Walls_testing_dataset[:,1].astype('int')]\n",
        "#Random Predictions for now\n",
        "temp_y_pred = [np.random.choice(2, size=(Decks_testing_dataset.shape[0]), p=[deckNeg/deckShape, (1 - deckNeg/deckShape)] ).astype('int'),\n",
        "               np.random.choice(2, size=(Pavements_testing_dataset.shape[0]), p=[paveNeg/paveShape, (1 - paveNeg/paveShape)]).astype('int'), \n",
        "               np.random.choice(2, size=(Walls_testing_dataset.shape[0]), p=[wallNeg/wallShape, (1 - wallNeg/wallShape)]).astype('int')]\n",
        "\n",
        "\n",
        "\n"
      ],
      "metadata": {
        "id": "2MrvzBK38LsW",
        "colab": {
          "base_uri": "https://localhost:8080/",
          "height": 235
        },
        "outputId": "fc0f73e8-c2c0-4afe-e05e-3e53fb9c4262"
      },
      "execution_count": null,
      "outputs": [
        {
          "output_type": "error",
          "ename": "NameError",
          "evalue": "ignored",
          "traceback": [
            "\u001b[0;31m---------------------------------------------------------------------------\u001b[0m",
            "\u001b[0;31mNameError\u001b[0m                                 Traceback (most recent call last)",
            "\u001b[0;32m<ipython-input-16-126df434e063>\u001b[0m in \u001b[0;36m<module>\u001b[0;34m\u001b[0m\n\u001b[1;32m      1\u001b[0m \u001b[0;31m#Index 0 - Decks , 1 - Pavements, 2- Walls\u001b[0m\u001b[0;34m\u001b[0m\u001b[0;34m\u001b[0m\u001b[0;34m\u001b[0m\u001b[0m\n\u001b[0;32m----> 2\u001b[0;31m \u001b[0mdeckNeg\u001b[0m \u001b[0;34m=\u001b[0m \u001b[0mlen\u001b[0m\u001b[0;34m(\u001b[0m\u001b[0mnp\u001b[0m\u001b[0;34m.\u001b[0m\u001b[0mwhere\u001b[0m\u001b[0;34m(\u001b[0m\u001b[0mnp\u001b[0m\u001b[0;34m.\u001b[0m\u001b[0masarray\u001b[0m\u001b[0;34m(\u001b[0m\u001b[0mvisualization_Decks\u001b[0m\u001b[0;34m)\u001b[0m \u001b[0;34m==\u001b[0m \u001b[0;34m'Neg'\u001b[0m\u001b[0;34m)\u001b[0m\u001b[0;34m[\u001b[0m\u001b[0;36m0\u001b[0m\u001b[0;34m]\u001b[0m\u001b[0;34m)\u001b[0m\u001b[0;34m\u001b[0m\u001b[0;34m\u001b[0m\u001b[0m\n\u001b[0m\u001b[1;32m      3\u001b[0m \u001b[0mdeckPos\u001b[0m \u001b[0;34m=\u001b[0m \u001b[0mlen\u001b[0m\u001b[0;34m(\u001b[0m\u001b[0mnp\u001b[0m\u001b[0;34m.\u001b[0m\u001b[0mwhere\u001b[0m\u001b[0;34m(\u001b[0m\u001b[0mnp\u001b[0m\u001b[0;34m.\u001b[0m\u001b[0masarray\u001b[0m\u001b[0;34m(\u001b[0m\u001b[0mvisualization_Decks\u001b[0m\u001b[0;34m)\u001b[0m \u001b[0;34m==\u001b[0m \u001b[0;34m'Pos'\u001b[0m\u001b[0;34m)\u001b[0m\u001b[0;34m[\u001b[0m\u001b[0;36m0\u001b[0m\u001b[0;34m]\u001b[0m\u001b[0;34m)\u001b[0m\u001b[0;34m\u001b[0m\u001b[0;34m\u001b[0m\u001b[0m\n\u001b[1;32m      4\u001b[0m \u001b[0mpaveNeg\u001b[0m \u001b[0;34m=\u001b[0m \u001b[0mlen\u001b[0m\u001b[0;34m(\u001b[0m\u001b[0mnp\u001b[0m\u001b[0;34m.\u001b[0m\u001b[0mwhere\u001b[0m\u001b[0;34m(\u001b[0m\u001b[0mnp\u001b[0m\u001b[0;34m.\u001b[0m\u001b[0masarray\u001b[0m\u001b[0;34m(\u001b[0m\u001b[0mvisualization_Pavements\u001b[0m\u001b[0;34m)\u001b[0m \u001b[0;34m==\u001b[0m \u001b[0;34m'Neg'\u001b[0m\u001b[0;34m)\u001b[0m\u001b[0;34m[\u001b[0m\u001b[0;36m0\u001b[0m\u001b[0;34m]\u001b[0m\u001b[0;34m)\u001b[0m\u001b[0;34m\u001b[0m\u001b[0;34m\u001b[0m\u001b[0m\n\u001b[1;32m      5\u001b[0m \u001b[0mpavePos\u001b[0m \u001b[0;34m=\u001b[0m \u001b[0mlen\u001b[0m\u001b[0;34m(\u001b[0m\u001b[0mnp\u001b[0m\u001b[0;34m.\u001b[0m\u001b[0mwhere\u001b[0m\u001b[0;34m(\u001b[0m\u001b[0mnp\u001b[0m\u001b[0;34m.\u001b[0m\u001b[0masarray\u001b[0m\u001b[0;34m(\u001b[0m\u001b[0mvisualization_Pavements\u001b[0m\u001b[0;34m)\u001b[0m \u001b[0;34m==\u001b[0m \u001b[0;34m'Pos'\u001b[0m\u001b[0;34m)\u001b[0m\u001b[0;34m[\u001b[0m\u001b[0;36m0\u001b[0m\u001b[0;34m]\u001b[0m\u001b[0;34m)\u001b[0m\u001b[0;34m\u001b[0m\u001b[0;34m\u001b[0m\u001b[0m\n",
            "\u001b[0;31mNameError\u001b[0m: name 'visualization_Decks' is not defined"
          ]
        }
      ]
    },
    {
      "cell_type": "markdown",
      "source": [
        "Classification Report Metrics\n",
        "  - Precision : Proportion of positive identifications that were correct = (TP / TP + FP)\n",
        "  - Recall : Proportion of actual positive that were correctly classified = (TP / TP + FN)\n",
        "  - F1 Score : Combination of Precision and Recall = 2 * (precision * recall) / (precision + recall) or (TP / TP + .5 * (FP + FN))\n",
        "  - Support : Number of samples each metric was calculated with\n",
        "  - Accuracy : Accuracy Score of the model the number of correct predictions (TP + TN / TP + TN + FP + FN)\n",
        "  - Macro Avg : The averages of percision, recall and f1 score between the classes\n",
        "  - Weighted Avg : averages of percision, recall and f1 score between the classes weighted by the amount of samples used in the class (Support) "
      ],
      "metadata": {
        "id": "g_MM42PQp_al"
      }
    },
    {
      "cell_type": "markdown",
      "source": [
        "### Pavemnt Metrics"
      ],
      "metadata": {
        "id": "h74xpKZG5HH_"
      }
    },
    {
      "cell_type": "code",
      "source": [
        "# do stuff here\n",
        "#Inshira \n",
        "# Video giving a good preveiw of differnet metric and what they will give - https://www.youtube.com/watch?v=qHosBSw_71o\n",
        "from sklearn.metrics import log_loss\n",
        "from sklearn.metrics import confusion_matrix\n",
        "from sklearn.metrics import classification_report\n",
        "from sklearn.metrics import roc_curve, roc_auc_score\n",
        "from sklearn.metrics import accuracy_score\n",
        "classes = [\"Uncracked\", \"Cracked\"]"
      ],
      "metadata": {
        "id": "8r4wx--POyRm"
      },
      "execution_count": null,
      "outputs": []
    },
    {
      "cell_type": "code",
      "source": [
        "# Decks \n",
        "#Log Loss - Evaluated error within the model\n",
        "print(\"Decks Dataset\")\n",
        "ll_sk = log_loss(temp_y_test[0], temp_y_pred[0])\n",
        "print(\"Log Loss :\" ,ll_sk)\n",
        "print()\n",
        "#Confusion matrix - Simple table showing the results of the actual and predicted data\n",
        "# gives the base values of TP, TN, FP and FN\n",
        "\n",
        "cm = confusion_matrix(temp_y_test[0], temp_y_pred[0])\n",
        "print(\"Confusion Matrix :\")\n",
        "print(cm)\n",
        "\n",
        "print()\n",
        "#Classification report - would give us the percision , recall , f1-score , support(# of samples) per class (Cracked vs Non Cracked)\n",
        "#  as well as accuracy and averages\n",
        "# Needs the test and model redictions as a parameter\n",
        "# Video on what it gives https://youtu.be/XiUlqN1Ay0U?t=73\n",
        " \n",
        "print(\"Classification Report\")\n",
        "print(classification_report(temp_y_test[0], temp_y_pred[0], target_names=classes))\n",
        "print()\n",
        "\n",
        "# ROC AUC \n",
        "\n",
        "fpr, tpr, threshold = roc_curve(temp_y_test[0], temp_y_pred[0])\n",
        "print(\"ROC_AUC_Score :\", roc_auc_score(temp_y_test[0], temp_y_pred[0]))\n",
        "plt.subplots(1,figsize=(6,6))\n",
        "plt.title(\"ROC TEST\")\n",
        "plt.plot(fpr,tpr)\n",
        "plt.plot([0,1], ls=\"--\")\n",
        "plt.plot([0,0], [1,0], c=\".7\"), plt.plot([1,1], c=\".7\")\n",
        "plt.ylabel(\"True Pos Rate\")\n",
        "plt.xlabel(\"False Pos Rate\")\n",
        "plt.show()\n",
        "print()\n",
        "#Accuracy\n",
        "\n",
        "result = accuracy_score(temp_y_test[0], temp_y_pred[0])\n",
        "print(\"Accuracy is :\", result * 100)"
      ],
      "metadata": {
        "colab": {
          "base_uri": "https://localhost:8080/",
          "height": 769
        },
        "id": "qJYKkWuyOyFF",
        "outputId": "7e99cde2-1c31-4f8a-d3e4-f963f522a5b8"
      },
      "execution_count": null,
      "outputs": [
        {
          "output_type": "stream",
          "name": "stdout",
          "text": [
            "Decks Dataset\n",
            "Log Loss : 7.785283057750799\n",
            "\n",
            "Confusion Matrix :\n",
            "[[2435  319]\n",
            " [ 405   53]]\n",
            "\n",
            "Classification Report\n",
            "              precision    recall  f1-score   support\n",
            "\n",
            "   Uncracked       0.86      0.88      0.87      2754\n",
            "     Cracked       0.14      0.12      0.13       458\n",
            "\n",
            "    accuracy                           0.77      3212\n",
            "   macro avg       0.50      0.50      0.50      3212\n",
            "weighted avg       0.76      0.77      0.76      3212\n",
            "\n",
            "\n",
            "ROC_AUC_Score : 0.49994450311258254\n"
          ]
        },
        {
          "output_type": "display_data",
          "data": {
            "text/plain": [
              "<Figure size 432x432 with 1 Axes>"
            ],
            "image/png": "[encoded data removed]"
          },
          "metadata": {}
        },
        {
          "output_type": "stream",
          "name": "stdout",
          "text": [
            "\n",
            "Accuracy is : 77.45952677459526\n"
          ]
        }
      ]
    },
    {
      "cell_type": "code",
      "source": [
        "\n",
        "# Pavements\n",
        "#Log Loss - Evaluated error within the model\n",
        "print(\"Pavements Dataset\")\n",
        "ll_sk = log_loss(temp_y_test[1], temp_y_pred[1])\n",
        "print(\"Log Loss :\" ,ll_sk)\n",
        "print()\n",
        "#Confusion matrix - Simple table showing the results of the actual and predicted data\n",
        "# gives the base values of TP, TN, FP and FN\n",
        "\n",
        "cm = confusion_matrix(temp_y_test[1], temp_y_pred[1])\n",
        "print(\"Confusion Matrix :\")\n",
        "print(cm)\n",
        "\n",
        "print()\n",
        "#Classification report - would give us the percision , recall , f1-score , support(# of samples) per class (Cracked vs Non Cracked)\n",
        "#  as well as accuracy and averages\n",
        "# Needs the test and model redictions as a parameter\n",
        "# Video on what it gives https://youtu.be/XiUlqN1Ay0U?t=73\n",
        " \n",
        "print(\"Classification Report\")\n",
        "print(classification_report(temp_y_test[1], temp_y_pred[1], target_names=classes))\n",
        "print()\n",
        "\n",
        "# ROC AUC \n",
        "\n",
        "fpr, tpr, threshold = roc_curve(temp_y_test[1], temp_y_pred[1])\n",
        "print(\"ROC_AUC_Score :\", roc_auc_score(temp_y_test[1], temp_y_pred[1]))\n",
        "plt.subplots(1,figsize=(6,6))\n",
        "plt.title(\"ROC TEST\")\n",
        "plt.plot(fpr,tpr)\n",
        "plt.plot([0,1], ls=\"--\")\n",
        "plt.plot([0,0], [1,0], c=\".7\"), plt.plot([1,1], c=\".7\")\n",
        "plt.ylabel(\"True Pos Rate\")\n",
        "plt.xlabel(\"False Pos Rate\")\n",
        "plt.show()\n",
        "print()\n",
        "#Accuracy\n",
        "\n",
        "result = accuracy_score(temp_y_test[1], temp_y_pred[1])\n",
        "print(\"Accuracy is :\", result * 100)"
      ],
      "metadata": {
        "id": "GrBd8MQUhXYI",
        "colab": {
          "base_uri": "https://localhost:8080/",
          "height": 769
        },
        "outputId": "b1f81f91-4460-4088-d7dc-f640481b3f94"
      },
      "execution_count": null,
      "outputs": [
        {
          "output_type": "stream",
          "name": "stdout",
          "text": [
            "Pavements Dataset\n",
            "Log Loss : 5.539734292003701\n",
            "\n",
            "Confusion Matrix :\n",
            "[[4863  368]\n",
            " [ 569   42]]\n",
            "\n",
            "Classification Report\n",
            "              precision    recall  f1-score   support\n",
            "\n",
            "   Uncracked       0.90      0.93      0.91      5231\n",
            "     Cracked       0.10      0.07      0.08       611\n",
            "\n",
            "    accuracy                           0.84      5842\n",
            "   macro avg       0.50      0.50      0.50      5842\n",
            "weighted avg       0.81      0.84      0.83      5842\n",
            "\n",
            "\n",
            "ROC_AUC_Score : 0.4991949666801308\n"
          ]
        },
        {
          "output_type": "display_data",
          "data": {
            "text/plain": [
              "<Figure size 432x432 with 1 Axes>"
            ],
            "image/png": "[encoded data removed]"
          },
          "metadata": {}
        },
        {
          "output_type": "stream",
          "name": "stdout",
          "text": [
            "\n",
            "Accuracy is : 83.96097226977062\n"
          ]
        }
      ]
    },
    {
      "cell_type": "code",
      "source": [
        "# Walls\n",
        "#Log Loss - Evaluated error within the model\n",
        "print(\"Walls Dataset\")\n",
        "ll_sk = log_loss(temp_y_test[2], temp_y_pred[2])\n",
        "print(\"Log Loss :\" ,ll_sk)\n",
        "print()\n",
        "#Confusion matrix - Simple table showing the results of the actual and predicted data\n",
        "# gives the base values of TP, TN, FP and FN\n",
        "\n",
        "cm = confusion_matrix(temp_y_test[2], temp_y_pred[2])\n",
        "print(\"Confusion Matrix :\")\n",
        "print(cm)\n",
        "\n",
        "print()\n",
        "#Classification report - would give us the percision , recall , f1-score , support(# of samples) per class (Cracked vs Non Cracked)\n",
        "#  as well as accuracy and averages\n",
        "# Needs the test and model redictions as a parameter\n",
        "# Video on what it gives https://youtu.be/XiUlqN1Ay0U?t=73\n",
        " \n",
        "print(\"Classification Report\")\n",
        "print(classification_report(temp_y_test[2], temp_y_pred[2], target_names=classes))\n",
        "print()\n",
        "\n",
        "# ROC AUC \n",
        "\n",
        "fpr, tpr, threshold = roc_curve(temp_y_test[2], temp_y_pred[2])\n",
        "print(\"ROC_AUC_Score :\", roc_auc_score(temp_y_test[2], temp_y_pred[2]))\n",
        "plt.subplots(1,figsize=(6,6))\n",
        "plt.title(\"ROC TEST\")\n",
        "plt.plot(fpr,tpr)\n",
        "plt.plot([0,1], ls=\"--\")\n",
        "plt.plot([0,0], [1,0], c=\".7\"), plt.plot([1,1], c=\".7\")\n",
        "plt.ylabel(\"True Pos Rate\")\n",
        "plt.xlabel(\"False Pos Rate\")\n",
        "plt.show()\n",
        "print()\n",
        "#Accuracy\n",
        "\n",
        "result = accuracy_score(temp_y_test[2], temp_y_pred[2])\n",
        "print(\"Accuracy is :\", result * 100)"
      ],
      "metadata": {
        "colab": {
          "base_uri": "https://localhost:8080/",
          "height": 769
        },
        "id": "JfpG19knPuUT",
        "outputId": "6f0af947-4efd-4e8f-cfc4-a8e3fbeb0dcb"
      },
      "execution_count": null,
      "outputs": [
        {
          "output_type": "stream",
          "name": "stdout",
          "text": [
            "Walls Dataset\n",
            "Log Loss : 11.13500551164761\n",
            "\n",
            "Confusion Matrix :\n",
            "[[2785  634]\n",
            " [ 770  166]]\n",
            "\n",
            "Classification Report\n",
            "              precision    recall  f1-score   support\n",
            "\n",
            "   Uncracked       0.78      0.81      0.80      3419\n",
            "     Cracked       0.21      0.18      0.19       936\n",
            "\n",
            "    accuracy                           0.68      4355\n",
            "   macro avg       0.50      0.50      0.49      4355\n",
            "weighted avg       0.66      0.68      0.67      4355\n",
            "\n",
            "\n",
            "ROC_AUC_Score : 0.4959580449124176\n"
          ]
        },
        {
          "output_type": "display_data",
          "data": {
            "text/plain": [
              "<Figure size 432x432 with 1 Axes>"
            ],
            "image/png": "[encoded data removed]"
          },
          "metadata": {}
        },
        {
          "output_type": "stream",
          "name": "stdout",
          "text": [
            "\n",
            "Accuracy is : 67.76119402985074\n"
          ]
        }
      ]
    }
  ],
  "metadata": {
    "anaconda-cloud": {},
    "colab": {
      "collapsed_sections": [
        "ZLNRPRWwXCkV",
        "TDDft2ZiihkB",
        "o4wUrbOriwkT",
        "Kdx2FwpQjCsV",
        "8EctUpAZjLPz",
        "SNGWtkYvxFDK"
      ],
      "provenance": [],
      "include_colab_link": true
    },
    "kernelspec": {
      "display_name": "Python 3",
      "language": "python",
      "name": "python3"
    },
    "language_info": {
      "codemirror_mode": {
        "name": "ipython",
        "version": 3
      },
      "file_extension": ".py",
      "mimetype": "text/x-python",
      "name": "python",
      "nbconvert_exporter": "python",
      "pygments_lexer": "ipython3",
      "version": "3.6.12"
    },
    "gpuClass": "standard",
    "accelerator": "GPU"
  },
  "nbformat": 4,
  "nbformat_minor": 0
}