{
  "cells": [
    {
      "cell_type": "markdown",
      "metadata": {
        "id": "tt565oJb2_iR"
      },
      "source": [
        "# 0 Data setup testing\n",
        "**Not necessary to run for testing/eval**  \n",
        "Original code written by Anderson and Botao. Preserved for documentation purposes.  \n",
        "Useful to get a better understanding of what's going on in section 1., where the visualizations/etc. have all been removed for execution speed.\n",
        "\n",
        "**Be warned** that if you run this section, it will occcupy a **lot** of memory, and you probably won't be able to run anything else in the notebook. If that happens, just restart your runtime (runtime>restart runtime)."
      ]
    },
    {
      "cell_type": "markdown",
      "metadata": {
        "id": "XnzpLYkS1NwU"
      },
      "source": [
        "## 0.1 Imports"
      ]
    },
    {
      "cell_type": "code",
      "execution_count": 94,
      "metadata": {
        "id": "AYCYdltG1NwU"
      },
      "outputs": [],
      "source": [
        "import torch\n",
        "import torch.nn as nn\n",
        "import torch.nn.functional as F\n",
        "import torch.optim as optim\n",
        "\n",
        "device = torch.device('cuda' if torch.cuda.is_available() else 'cpu')"
      ]
    },
    {
      "cell_type": "markdown",
      "metadata": {
        "id": "yR7ZxodP1NwU"
      },
      "source": [
        "You can check to make sure a GPU is available using the following code block.\n",
        "\n",
        "If the below message is shown, it means you are using a CPU.\n",
        "```\n",
        "/bin/bash: nvidia-smi: command not found\n",
        "```\n",
        "\n",
        "---\n",
        "\n",
        "\n",
        "\n"
      ]
    },
    {
      "cell_type": "code",
      "execution_count": 95,
      "metadata": {
        "id": "tFpt8z8G1NwU",
        "colab": {
          "base_uri": "https://localhost:8080/"
        },
        "outputId": "5e109398-afd6-4392-9fe4-39d3d31a5e42"
      },
      "outputs": [
        {
          "output_type": "stream",
          "name": "stdout",
          "text": [
            "Select the Runtime > \"Change runtime type\" menu to enable a GPU accelerator, \n",
            "and then re-execute this cell.\n"
          ]
        }
      ],
      "source": [
        "gpu_info = !nvidia-smi\n",
        "gpu_info = '\\n'.join(gpu_info)\n",
        "if gpu_info.find('failed') >= 0:\n",
        "  print('Select the Runtime > \"Change runtime type\" menu to enable a GPU accelerator, ')\n",
        "  print('and then re-execute this cell.')\n",
        "else:\n",
        "  print(gpu_info)"
      ]
    },
    {
      "cell_type": "markdown",
      "metadata": {
        "id": "ROi60Qot1NwV"
      },
      "source": [
        "## 0.2 Data prep\n",
        "\n",
        "Load images, perform feature extraction / refine into usable data (rather than raw RGB), split into training and test sets, apply cleaning/dimensionality reduction, etc."
      ]
    },
    {
      "cell_type": "markdown",
      "metadata": {
        "id": "De5pei6E1NwV"
      },
      "source": [
        "## 0.2.1 Images loading from google drive\n",
        "Anderson has shared the goolge drive folder which contains dataset to everyone, \n",
        "so just use that folder to run our code <br>\n",
        "In your Google Drive, you need to drag that folder from \"share with me\" to \"my drive\", then you will be good to go\n"
      ]
    },
    {
      "cell_type": "code",
      "execution_count": 96,
      "metadata": {
        "colab": {
          "base_uri": "https://localhost:8080/"
        },
        "id": "aIf8I4HK1NwV",
        "outputId": "e8169c4e-8541-4119-db7d-3643ec9881ea"
      },
      "outputs": [
        {
          "output_type": "stream",
          "name": "stdout",
          "text": [
            "Drive already mounted at /content/drive; to attempt to forcibly remount, call drive.mount(\"/content/drive\", force_remount=True).\n"
          ]
        }
      ],
      "source": [
        "# Anderson has shared the goolge drive folder which contains dataset to everyone, so just use that folder to run our code\n",
        "# In your Google Drive, you need to drag that folder from \"share with me\" to \"my drive\", then you will be good to go\n",
        "from google.colab import drive\n",
        "drive.mount('/content/drive')"
      ]
    },
    {
      "cell_type": "code",
      "execution_count": 97,
      "metadata": {
        "id": "Q159fl_Q1NwV",
        "colab": {
          "base_uri": "https://localhost:8080/",
          "height": 380
        },
        "outputId": "3cb827cc-d488-48ba-d370-32a04e6e2293"
      },
      "outputs": [
        {
          "output_type": "error",
          "ename": "KeyboardInterrupt",
          "evalue": "ignored",
          "traceback": [
            "\u001b[0;31m---------------------------------------------------------------------------\u001b[0m",
            "\u001b[0;31mKeyboardInterrupt\u001b[0m                         Traceback (most recent call last)",
            "\u001b[0;32m<ipython-input-97-cbeb1b66dac2>\u001b[0m in \u001b[0;36m<module>\u001b[0;34m\u001b[0m\n\u001b[1;32m      4\u001b[0m \u001b[0;32mfrom\u001b[0m \u001b[0mpathlib\u001b[0m \u001b[0;32mimport\u001b[0m \u001b[0mPath\u001b[0m\u001b[0;34m\u001b[0m\u001b[0;34m\u001b[0m\u001b[0m\n\u001b[1;32m      5\u001b[0m \u001b[0;32mfrom\u001b[0m \u001b[0mPIL\u001b[0m \u001b[0;32mimport\u001b[0m \u001b[0mImage\u001b[0m\u001b[0;34m\u001b[0m\u001b[0;34m\u001b[0m\u001b[0m\n\u001b[0;32m----> 6\u001b[0;31m \u001b[0;32mimport\u001b[0m \u001b[0mtensorflow\u001b[0m \u001b[0;32mas\u001b[0m \u001b[0mtf\u001b[0m\u001b[0;34m\u001b[0m\u001b[0;34m\u001b[0m\u001b[0m\n\u001b[0m\u001b[1;32m      7\u001b[0m \u001b[0;32mimport\u001b[0m \u001b[0mos\u001b[0m\u001b[0;34m\u001b[0m\u001b[0;34m\u001b[0m\u001b[0m\n\u001b[1;32m      8\u001b[0m \u001b[0;34m\u001b[0m\u001b[0m\n",
            "\u001b[0;32m/usr/local/lib/python3.8/dist-packages/tensorflow/__init__.py\u001b[0m in \u001b[0;36m<module>\u001b[0;34m\u001b[0m\n\u001b[1;32m     35\u001b[0m \u001b[0;32mimport\u001b[0m \u001b[0mtyping\u001b[0m \u001b[0;32mas\u001b[0m \u001b[0m_typing\u001b[0m\u001b[0;34m\u001b[0m\u001b[0;34m\u001b[0m\u001b[0m\n\u001b[1;32m     36\u001b[0m \u001b[0;34m\u001b[0m\u001b[0m\n\u001b[0;32m---> 37\u001b[0;31m \u001b[0;32mfrom\u001b[0m \u001b[0mtensorflow\u001b[0m\u001b[0;34m.\u001b[0m\u001b[0mpython\u001b[0m\u001b[0;34m.\u001b[0m\u001b[0mtools\u001b[0m \u001b[0;32mimport\u001b[0m \u001b[0mmodule_util\u001b[0m \u001b[0;32mas\u001b[0m \u001b[0m_module_util\u001b[0m\u001b[0;34m\u001b[0m\u001b[0;34m\u001b[0m\u001b[0m\n\u001b[0m\u001b[1;32m     38\u001b[0m \u001b[0;32mfrom\u001b[0m \u001b[0mtensorflow\u001b[0m\u001b[0;34m.\u001b[0m\u001b[0mpython\u001b[0m\u001b[0;34m.\u001b[0m\u001b[0mutil\u001b[0m\u001b[0;34m.\u001b[0m\u001b[0mlazy_loader\u001b[0m \u001b[0;32mimport\u001b[0m \u001b[0mLazyLoader\u001b[0m \u001b[0;32mas\u001b[0m \u001b[0m_LazyLoader\u001b[0m\u001b[0;34m\u001b[0m\u001b[0;34m\u001b[0m\u001b[0m\n\u001b[1;32m     39\u001b[0m \u001b[0;34m\u001b[0m\u001b[0m\n",
            "\u001b[0;32m/usr/local/lib/python3.8/dist-packages/tensorflow/python/__init__.py\u001b[0m in \u001b[0;36m<module>\u001b[0;34m\u001b[0m\n\u001b[1;32m     40\u001b[0m \u001b[0;34m\u001b[0m\u001b[0m\n\u001b[1;32m     41\u001b[0m \u001b[0;31m# Bring in subpackages.\u001b[0m\u001b[0;34m\u001b[0m\u001b[0;34m\u001b[0m\u001b[0;34m\u001b[0m\u001b[0m\n\u001b[0;32m---> 42\u001b[0;31m \u001b[0;32mfrom\u001b[0m \u001b[0mtensorflow\u001b[0m\u001b[0;34m.\u001b[0m\u001b[0mpython\u001b[0m \u001b[0;32mimport\u001b[0m \u001b[0mdata\u001b[0m\u001b[0;34m\u001b[0m\u001b[0;34m\u001b[0m\u001b[0m\n\u001b[0m\u001b[1;32m     43\u001b[0m \u001b[0;32mfrom\u001b[0m \u001b[0mtensorflow\u001b[0m\u001b[0;34m.\u001b[0m\u001b[0mpython\u001b[0m \u001b[0;32mimport\u001b[0m \u001b[0mdistribute\u001b[0m\u001b[0;34m\u001b[0m\u001b[0;34m\u001b[0m\u001b[0m\n\u001b[1;32m     44\u001b[0m \u001b[0;31m# from tensorflow.python import keras\u001b[0m\u001b[0;34m\u001b[0m\u001b[0;34m\u001b[0m\u001b[0;34m\u001b[0m\u001b[0m\n",
            "\u001b[0;32m/usr/local/lib/python3.8/dist-packages/tensorflow/python/data/__init__.py\u001b[0m in \u001b[0;36m<module>\u001b[0;34m\u001b[0m\n\u001b[1;32m     19\u001b[0m \u001b[0;34m\u001b[0m\u001b[0m\n\u001b[1;32m     20\u001b[0m \u001b[0;31m# pylint: disable=unused-import\u001b[0m\u001b[0;34m\u001b[0m\u001b[0;34m\u001b[0m\u001b[0;34m\u001b[0m\u001b[0m\n\u001b[0;32m---> 21\u001b[0;31m \u001b[0;32mfrom\u001b[0m \u001b[0mtensorflow\u001b[0m\u001b[0;34m.\u001b[0m\u001b[0mpython\u001b[0m\u001b[0;34m.\u001b[0m\u001b[0mdata\u001b[0m \u001b[0;32mimport\u001b[0m \u001b[0mexperimental\u001b[0m\u001b[0;34m\u001b[0m\u001b[0;34m\u001b[0m\u001b[0m\n\u001b[0m\u001b[1;32m     22\u001b[0m \u001b[0;32mfrom\u001b[0m \u001b[0mtensorflow\u001b[0m\u001b[0;34m.\u001b[0m\u001b[0mpython\u001b[0m\u001b[0;34m.\u001b[0m\u001b[0mdata\u001b[0m\u001b[0;34m.\u001b[0m\u001b[0mops\u001b[0m\u001b[0;34m.\u001b[0m\u001b[0mdataset_ops\u001b[0m \u001b[0;32mimport\u001b[0m \u001b[0mAUTOTUNE\u001b[0m\u001b[0;34m\u001b[0m\u001b[0;34m\u001b[0m\u001b[0m\n\u001b[1;32m     23\u001b[0m \u001b[0;32mfrom\u001b[0m \u001b[0mtensorflow\u001b[0m\u001b[0;34m.\u001b[0m\u001b[0mpython\u001b[0m\u001b[0;34m.\u001b[0m\u001b[0mdata\u001b[0m\u001b[0;34m.\u001b[0m\u001b[0mops\u001b[0m\u001b[0;34m.\u001b[0m\u001b[0mdataset_ops\u001b[0m \u001b[0;32mimport\u001b[0m \u001b[0mDataset\u001b[0m\u001b[0;34m\u001b[0m\u001b[0;34m\u001b[0m\u001b[0m\n",
            "\u001b[0;32m/usr/local/lib/python3.8/dist-packages/tensorflow/python/data/experimental/__init__.py\u001b[0m in \u001b[0;36m<module>\u001b[0;34m\u001b[0m\n\u001b[1;32m     93\u001b[0m \u001b[0;34m\u001b[0m\u001b[0m\n\u001b[1;32m     94\u001b[0m \u001b[0;31m# pylint: disable=unused-import\u001b[0m\u001b[0;34m\u001b[0m\u001b[0;34m\u001b[0m\u001b[0;34m\u001b[0m\u001b[0m\n\u001b[0;32m---> 95\u001b[0;31m \u001b[0;32mfrom\u001b[0m \u001b[0mtensorflow\u001b[0m\u001b[0;34m.\u001b[0m\u001b[0mpython\u001b[0m\u001b[0;34m.\u001b[0m\u001b[0mdata\u001b[0m\u001b[0;34m.\u001b[0m\u001b[0mexperimental\u001b[0m \u001b[0;32mimport\u001b[0m \u001b[0mservice\u001b[0m\u001b[0;34m\u001b[0m\u001b[0;34m\u001b[0m\u001b[0m\n\u001b[0m\u001b[1;32m     96\u001b[0m \u001b[0;32mfrom\u001b[0m \u001b[0mtensorflow\u001b[0m\u001b[0;34m.\u001b[0m\u001b[0mpython\u001b[0m\u001b[0;34m.\u001b[0m\u001b[0mdata\u001b[0m\u001b[0;34m.\u001b[0m\u001b[0mexperimental\u001b[0m\u001b[0;34m.\u001b[0m\u001b[0mops\u001b[0m\u001b[0;34m.\u001b[0m\u001b[0mbatching\u001b[0m \u001b[0;32mimport\u001b[0m \u001b[0mdense_to_ragged_batch\u001b[0m\u001b[0;34m\u001b[0m\u001b[0;34m\u001b[0m\u001b[0m\n\u001b[1;32m     97\u001b[0m \u001b[0;32mfrom\u001b[0m \u001b[0mtensorflow\u001b[0m\u001b[0;34m.\u001b[0m\u001b[0mpython\u001b[0m\u001b[0;34m.\u001b[0m\u001b[0mdata\u001b[0m\u001b[0;34m.\u001b[0m\u001b[0mexperimental\u001b[0m\u001b[0;34m.\u001b[0m\u001b[0mops\u001b[0m\u001b[0;34m.\u001b[0m\u001b[0mbatching\u001b[0m \u001b[0;32mimport\u001b[0m \u001b[0mdense_to_sparse_batch\u001b[0m\u001b[0;34m\u001b[0m\u001b[0;34m\u001b[0m\u001b[0m\n",
            "\u001b[0;32m/usr/local/lib/python3.8/dist-packages/tensorflow/python/data/experimental/service/__init__.py\u001b[0m in \u001b[0;36m<module>\u001b[0;34m\u001b[0m\n\u001b[1;32m    385\u001b[0m \"\"\"\n\u001b[1;32m    386\u001b[0m \u001b[0;34m\u001b[0m\u001b[0m\n\u001b[0;32m--> 387\u001b[0;31m \u001b[0;32mfrom\u001b[0m \u001b[0mtensorflow\u001b[0m\u001b[0;34m.\u001b[0m\u001b[0mpython\u001b[0m\u001b[0;34m.\u001b[0m\u001b[0mdata\u001b[0m\u001b[0;34m.\u001b[0m\u001b[0mexperimental\u001b[0m\u001b[0;34m.\u001b[0m\u001b[0mops\u001b[0m\u001b[0;34m.\u001b[0m\u001b[0mdata_service_ops\u001b[0m \u001b[0;32mimport\u001b[0m \u001b[0mdistribute\u001b[0m\u001b[0;34m\u001b[0m\u001b[0;34m\u001b[0m\u001b[0m\n\u001b[0m\u001b[1;32m    388\u001b[0m \u001b[0;32mfrom\u001b[0m \u001b[0mtensorflow\u001b[0m\u001b[0;34m.\u001b[0m\u001b[0mpython\u001b[0m\u001b[0;34m.\u001b[0m\u001b[0mdata\u001b[0m\u001b[0;34m.\u001b[0m\u001b[0mexperimental\u001b[0m\u001b[0;34m.\u001b[0m\u001b[0mops\u001b[0m\u001b[0;34m.\u001b[0m\u001b[0mdata_service_ops\u001b[0m \u001b[0;32mimport\u001b[0m \u001b[0mfrom_dataset_id\u001b[0m\u001b[0;34m\u001b[0m\u001b[0;34m\u001b[0m\u001b[0m\n\u001b[1;32m    389\u001b[0m \u001b[0;32mfrom\u001b[0m \u001b[0mtensorflow\u001b[0m\u001b[0;34m.\u001b[0m\u001b[0mpython\u001b[0m\u001b[0;34m.\u001b[0m\u001b[0mdata\u001b[0m\u001b[0;34m.\u001b[0m\u001b[0mexperimental\u001b[0m\u001b[0;34m.\u001b[0m\u001b[0mops\u001b[0m\u001b[0;34m.\u001b[0m\u001b[0mdata_service_ops\u001b[0m \u001b[0;32mimport\u001b[0m \u001b[0mregister_dataset\u001b[0m\u001b[0;34m\u001b[0m\u001b[0;34m\u001b[0m\u001b[0m\n",
            "\u001b[0;32m/usr/local/lib/python3.8/dist-packages/tensorflow/python/data/experimental/ops/data_service_ops.py\u001b[0m in \u001b[0;36m<module>\u001b[0;34m\u001b[0m\n\u001b[1;32m     20\u001b[0m \u001b[0;32mfrom\u001b[0m \u001b[0mtensorflow\u001b[0m\u001b[0;34m.\u001b[0m\u001b[0mcore\u001b[0m\u001b[0;34m.\u001b[0m\u001b[0mprotobuf\u001b[0m \u001b[0;32mimport\u001b[0m \u001b[0mdata_service_pb2\u001b[0m\u001b[0;34m\u001b[0m\u001b[0;34m\u001b[0m\u001b[0m\n\u001b[1;32m     21\u001b[0m \u001b[0;32mfrom\u001b[0m \u001b[0mtensorflow\u001b[0m\u001b[0;34m.\u001b[0m\u001b[0mpython\u001b[0m \u001b[0;32mimport\u001b[0m \u001b[0mtf2\u001b[0m\u001b[0;34m\u001b[0m\u001b[0;34m\u001b[0m\u001b[0m\n\u001b[0;32m---> 22\u001b[0;31m \u001b[0;32mfrom\u001b[0m \u001b[0mtensorflow\u001b[0m\u001b[0;34m.\u001b[0m\u001b[0mpython\u001b[0m\u001b[0;34m.\u001b[0m\u001b[0mdata\u001b[0m\u001b[0;34m.\u001b[0m\u001b[0mexperimental\u001b[0m\u001b[0;34m.\u001b[0m\u001b[0mops\u001b[0m \u001b[0;32mimport\u001b[0m \u001b[0mcompression_ops\u001b[0m\u001b[0;34m\u001b[0m\u001b[0;34m\u001b[0m\u001b[0m\n\u001b[0m\u001b[1;32m     23\u001b[0m \u001b[0;32mfrom\u001b[0m \u001b[0mtensorflow\u001b[0m\u001b[0;34m.\u001b[0m\u001b[0mpython\u001b[0m\u001b[0;34m.\u001b[0m\u001b[0mdata\u001b[0m\u001b[0;34m.\u001b[0m\u001b[0mexperimental\u001b[0m\u001b[0;34m.\u001b[0m\u001b[0mservice\u001b[0m \u001b[0;32mimport\u001b[0m \u001b[0m_pywrap_server_lib\u001b[0m\u001b[0;34m\u001b[0m\u001b[0;34m\u001b[0m\u001b[0m\n\u001b[1;32m     24\u001b[0m \u001b[0;32mfrom\u001b[0m \u001b[0mtensorflow\u001b[0m\u001b[0;34m.\u001b[0m\u001b[0mpython\u001b[0m\u001b[0;34m.\u001b[0m\u001b[0mdata\u001b[0m\u001b[0;34m.\u001b[0m\u001b[0mexperimental\u001b[0m\u001b[0;34m.\u001b[0m\u001b[0mservice\u001b[0m \u001b[0;32mimport\u001b[0m \u001b[0m_pywrap_utils\u001b[0m\u001b[0;34m\u001b[0m\u001b[0;34m\u001b[0m\u001b[0m\n",
            "\u001b[0;32m/usr/local/lib/python3.8/dist-packages/tensorflow/python/data/experimental/ops/compression_ops.py\u001b[0m in \u001b[0;36m<module>\u001b[0;34m\u001b[0m\n\u001b[1;32m     14\u001b[0m \u001b[0;31m# ==============================================================================\u001b[0m\u001b[0;34m\u001b[0m\u001b[0;34m\u001b[0m\u001b[0;34m\u001b[0m\u001b[0m\n\u001b[1;32m     15\u001b[0m \u001b[0;34m\"\"\"Ops for compressing and uncompressing dataset elements.\"\"\"\u001b[0m\u001b[0;34m\u001b[0m\u001b[0;34m\u001b[0m\u001b[0m\n\u001b[0;32m---> 16\u001b[0;31m \u001b[0;32mfrom\u001b[0m \u001b[0mtensorflow\u001b[0m\u001b[0;34m.\u001b[0m\u001b[0mpython\u001b[0m\u001b[0;34m.\u001b[0m\u001b[0mdata\u001b[0m\u001b[0;34m.\u001b[0m\u001b[0mutil\u001b[0m \u001b[0;32mimport\u001b[0m \u001b[0mstructure\u001b[0m\u001b[0;34m\u001b[0m\u001b[0;34m\u001b[0m\u001b[0m\n\u001b[0m\u001b[1;32m     17\u001b[0m \u001b[0;32mfrom\u001b[0m \u001b[0mtensorflow\u001b[0m\u001b[0;34m.\u001b[0m\u001b[0mpython\u001b[0m\u001b[0;34m.\u001b[0m\u001b[0mops\u001b[0m \u001b[0;32mimport\u001b[0m \u001b[0mgen_experimental_dataset_ops\u001b[0m \u001b[0;32mas\u001b[0m \u001b[0mged_ops\u001b[0m\u001b[0;34m\u001b[0m\u001b[0;34m\u001b[0m\u001b[0m\n\u001b[1;32m     18\u001b[0m \u001b[0;34m\u001b[0m\u001b[0m\n",
            "\u001b[0;32m/usr/local/lib/python3.8/dist-packages/tensorflow/python/data/util/structure.py\u001b[0m in \u001b[0;36m<module>\u001b[0;34m\u001b[0m\n\u001b[1;32m     20\u001b[0m \u001b[0;32mimport\u001b[0m \u001b[0mwrapt\u001b[0m\u001b[0;34m\u001b[0m\u001b[0;34m\u001b[0m\u001b[0m\n\u001b[1;32m     21\u001b[0m \u001b[0;34m\u001b[0m\u001b[0m\n\u001b[0;32m---> 22\u001b[0;31m \u001b[0;32mfrom\u001b[0m \u001b[0mtensorflow\u001b[0m\u001b[0;34m.\u001b[0m\u001b[0mpython\u001b[0m\u001b[0;34m.\u001b[0m\u001b[0mdata\u001b[0m\u001b[0;34m.\u001b[0m\u001b[0mutil\u001b[0m \u001b[0;32mimport\u001b[0m \u001b[0mnest\u001b[0m\u001b[0;34m\u001b[0m\u001b[0;34m\u001b[0m\u001b[0m\n\u001b[0m\u001b[1;32m     23\u001b[0m \u001b[0;32mfrom\u001b[0m \u001b[0mtensorflow\u001b[0m\u001b[0;34m.\u001b[0m\u001b[0mpython\u001b[0m\u001b[0;34m.\u001b[0m\u001b[0mframework\u001b[0m \u001b[0;32mimport\u001b[0m \u001b[0mcomposite_tensor\u001b[0m\u001b[0;34m\u001b[0m\u001b[0;34m\u001b[0m\u001b[0m\n\u001b[1;32m     24\u001b[0m \u001b[0;32mfrom\u001b[0m \u001b[0mtensorflow\u001b[0m\u001b[0;34m.\u001b[0m\u001b[0mpython\u001b[0m\u001b[0;34m.\u001b[0m\u001b[0mframework\u001b[0m \u001b[0;32mimport\u001b[0m \u001b[0mops\u001b[0m\u001b[0;34m\u001b[0m\u001b[0;34m\u001b[0m\u001b[0m\n",
            "\u001b[0;32m/usr/local/lib/python3.8/dist-packages/tensorflow/python/data/util/nest.py\u001b[0m in \u001b[0;36m<module>\u001b[0;34m\u001b[0m\n\u001b[1;32m     34\u001b[0m \u001b[0;32mimport\u001b[0m \u001b[0msix\u001b[0m \u001b[0;32mas\u001b[0m \u001b[0m_six\u001b[0m\u001b[0;34m\u001b[0m\u001b[0;34m\u001b[0m\u001b[0m\n\u001b[1;32m     35\u001b[0m \u001b[0;34m\u001b[0m\u001b[0m\n\u001b[0;32m---> 36\u001b[0;31m \u001b[0;32mfrom\u001b[0m \u001b[0mtensorflow\u001b[0m\u001b[0;34m.\u001b[0m\u001b[0mpython\u001b[0m\u001b[0;34m.\u001b[0m\u001b[0mframework\u001b[0m \u001b[0;32mimport\u001b[0m \u001b[0msparse_tensor\u001b[0m \u001b[0;32mas\u001b[0m \u001b[0m_sparse_tensor\u001b[0m\u001b[0;34m\u001b[0m\u001b[0;34m\u001b[0m\u001b[0m\n\u001b[0m\u001b[1;32m     37\u001b[0m \u001b[0;32mfrom\u001b[0m \u001b[0mtensorflow\u001b[0m\u001b[0;34m.\u001b[0m\u001b[0mpython\u001b[0m\u001b[0;34m.\u001b[0m\u001b[0mutil\u001b[0m \u001b[0;32mimport\u001b[0m \u001b[0m_pywrap_utils\u001b[0m\u001b[0;34m\u001b[0m\u001b[0;34m\u001b[0m\u001b[0m\n\u001b[1;32m     38\u001b[0m \u001b[0;32mfrom\u001b[0m \u001b[0mtensorflow\u001b[0m\u001b[0;34m.\u001b[0m\u001b[0mpython\u001b[0m\u001b[0;34m.\u001b[0m\u001b[0mutil\u001b[0m \u001b[0;32mimport\u001b[0m \u001b[0mnest\u001b[0m\u001b[0;34m\u001b[0m\u001b[0;34m\u001b[0m\u001b[0m\n",
            "\u001b[0;32m/usr/local/lib/python3.8/dist-packages/tensorflow/python/framework/sparse_tensor.py\u001b[0m in \u001b[0;36m<module>\u001b[0;34m\u001b[0m\n\u001b[1;32m     29\u001b[0m \u001b[0;32mfrom\u001b[0m \u001b[0mtensorflow\u001b[0m\u001b[0;34m.\u001b[0m\u001b[0mpython\u001b[0m\u001b[0;34m.\u001b[0m\u001b[0mframework\u001b[0m \u001b[0;32mimport\u001b[0m \u001b[0mtensor_util\u001b[0m\u001b[0;34m\u001b[0m\u001b[0;34m\u001b[0m\u001b[0m\n\u001b[1;32m     30\u001b[0m \u001b[0;32mfrom\u001b[0m \u001b[0mtensorflow\u001b[0m\u001b[0;34m.\u001b[0m\u001b[0mpython\u001b[0m\u001b[0;34m.\u001b[0m\u001b[0mframework\u001b[0m \u001b[0;32mimport\u001b[0m \u001b[0mtype_spec\u001b[0m\u001b[0;34m\u001b[0m\u001b[0;34m\u001b[0m\u001b[0m\n\u001b[0;32m---> 31\u001b[0;31m \u001b[0;32mfrom\u001b[0m \u001b[0mtensorflow\u001b[0m\u001b[0;34m.\u001b[0m\u001b[0mpython\u001b[0m\u001b[0;34m.\u001b[0m\u001b[0mops\u001b[0m \u001b[0;32mimport\u001b[0m \u001b[0mgen_sparse_ops\u001b[0m\u001b[0;34m\u001b[0m\u001b[0;34m\u001b[0m\u001b[0m\n\u001b[0m\u001b[1;32m     32\u001b[0m \u001b[0;32mfrom\u001b[0m \u001b[0mtensorflow\u001b[0m\u001b[0;34m.\u001b[0m\u001b[0mpython\u001b[0m\u001b[0;34m.\u001b[0m\u001b[0mtypes\u001b[0m \u001b[0;32mimport\u001b[0m \u001b[0minternal\u001b[0m\u001b[0;34m\u001b[0m\u001b[0;34m\u001b[0m\u001b[0m\n\u001b[1;32m     33\u001b[0m \u001b[0;32mfrom\u001b[0m \u001b[0mtensorflow\u001b[0m\u001b[0;34m.\u001b[0m\u001b[0mpython\u001b[0m\u001b[0;34m.\u001b[0m\u001b[0mutil\u001b[0m \u001b[0;32mimport\u001b[0m \u001b[0m_pywrap_utils\u001b[0m\u001b[0;34m\u001b[0m\u001b[0;34m\u001b[0m\u001b[0m\n",
            "\u001b[0;32m/usr/local/lib/python3.8/dist-packages/tensorflow/python/ops/gen_sparse_ops.py\u001b[0m in \u001b[0;36m<module>\u001b[0;34m\u001b[0m\n\u001b[1;32m     15\u001b[0m \u001b[0;32mfrom\u001b[0m \u001b[0mtensorflow\u001b[0m\u001b[0;34m.\u001b[0m\u001b[0mpython\u001b[0m\u001b[0;34m.\u001b[0m\u001b[0mframework\u001b[0m \u001b[0;32mimport\u001b[0m \u001b[0mop_def_registry\u001b[0m \u001b[0;32mas\u001b[0m \u001b[0m_op_def_registry\u001b[0m\u001b[0;34m\u001b[0m\u001b[0;34m\u001b[0m\u001b[0m\n\u001b[1;32m     16\u001b[0m \u001b[0;32mfrom\u001b[0m \u001b[0mtensorflow\u001b[0m\u001b[0;34m.\u001b[0m\u001b[0mpython\u001b[0m\u001b[0;34m.\u001b[0m\u001b[0mframework\u001b[0m \u001b[0;32mimport\u001b[0m \u001b[0mops\u001b[0m \u001b[0;32mas\u001b[0m \u001b[0m_ops\u001b[0m\u001b[0;34m\u001b[0m\u001b[0;34m\u001b[0m\u001b[0m\n\u001b[0;32m---> 17\u001b[0;31m \u001b[0;32mfrom\u001b[0m \u001b[0mtensorflow\u001b[0m\u001b[0;34m.\u001b[0m\u001b[0mpython\u001b[0m\u001b[0;34m.\u001b[0m\u001b[0mframework\u001b[0m \u001b[0;32mimport\u001b[0m \u001b[0mop_def_library\u001b[0m \u001b[0;32mas\u001b[0m \u001b[0m_op_def_library\u001b[0m\u001b[0;34m\u001b[0m\u001b[0;34m\u001b[0m\u001b[0m\n\u001b[0m\u001b[1;32m     18\u001b[0m \u001b[0;32mfrom\u001b[0m \u001b[0mtensorflow\u001b[0m\u001b[0;34m.\u001b[0m\u001b[0mpython\u001b[0m\u001b[0;34m.\u001b[0m\u001b[0mutil\u001b[0m\u001b[0;34m.\u001b[0m\u001b[0mdeprecation\u001b[0m \u001b[0;32mimport\u001b[0m \u001b[0mdeprecated_endpoints\u001b[0m\u001b[0;34m\u001b[0m\u001b[0;34m\u001b[0m\u001b[0m\n\u001b[1;32m     19\u001b[0m \u001b[0;32mfrom\u001b[0m \u001b[0mtensorflow\u001b[0m\u001b[0;34m.\u001b[0m\u001b[0mpython\u001b[0m\u001b[0;34m.\u001b[0m\u001b[0mutil\u001b[0m \u001b[0;32mimport\u001b[0m \u001b[0mdispatch\u001b[0m \u001b[0;32mas\u001b[0m \u001b[0m_dispatch\u001b[0m\u001b[0;34m\u001b[0m\u001b[0;34m\u001b[0m\u001b[0m\n",
            "\u001b[0;32m/usr/local/lib/python3.8/dist-packages/tensorflow/python/framework/op_def_library.py\u001b[0m in \u001b[0;36m<module>\u001b[0;34m\u001b[0m\n\u001b[1;32m     26\u001b[0m \u001b[0;32mfrom\u001b[0m \u001b[0mtensorflow\u001b[0m\u001b[0;34m.\u001b[0m\u001b[0mpython\u001b[0m\u001b[0;34m.\u001b[0m\u001b[0mframework\u001b[0m \u001b[0;32mimport\u001b[0m \u001b[0mdtypes\u001b[0m\u001b[0;34m\u001b[0m\u001b[0;34m\u001b[0m\u001b[0m\n\u001b[1;32m     27\u001b[0m \u001b[0;32mfrom\u001b[0m \u001b[0mtensorflow\u001b[0m\u001b[0;34m.\u001b[0m\u001b[0mpython\u001b[0m\u001b[0;34m.\u001b[0m\u001b[0mframework\u001b[0m \u001b[0;32mimport\u001b[0m \u001b[0mop_callbacks\u001b[0m\u001b[0;34m\u001b[0m\u001b[0;34m\u001b[0m\u001b[0m\n\u001b[0;32m---> 28\u001b[0;31m \u001b[0;32mfrom\u001b[0m \u001b[0mtensorflow\u001b[0m\u001b[0;34m.\u001b[0m\u001b[0mpython\u001b[0m\u001b[0;34m.\u001b[0m\u001b[0mframework\u001b[0m \u001b[0;32mimport\u001b[0m \u001b[0mop_def_library_pybind\u001b[0m\u001b[0;34m\u001b[0m\u001b[0;34m\u001b[0m\u001b[0m\n\u001b[0m\u001b[1;32m     29\u001b[0m \u001b[0;32mfrom\u001b[0m \u001b[0mtensorflow\u001b[0m\u001b[0;34m.\u001b[0m\u001b[0mpython\u001b[0m\u001b[0;34m.\u001b[0m\u001b[0mframework\u001b[0m \u001b[0;32mimport\u001b[0m \u001b[0mop_def_registry\u001b[0m\u001b[0;34m\u001b[0m\u001b[0;34m\u001b[0m\u001b[0m\n\u001b[1;32m     30\u001b[0m \u001b[0;32mfrom\u001b[0m \u001b[0mtensorflow\u001b[0m\u001b[0;34m.\u001b[0m\u001b[0mpython\u001b[0m\u001b[0;34m.\u001b[0m\u001b[0mframework\u001b[0m \u001b[0;32mimport\u001b[0m \u001b[0mops\u001b[0m\u001b[0;34m\u001b[0m\u001b[0;34m\u001b[0m\u001b[0m\n",
            "\u001b[0;32m/usr/local/lib/python3.8/dist-packages/tensorflow/python/framework/op_def_library_pybind.py\u001b[0m in \u001b[0;36m<module>\u001b[0;34m\u001b[0m\n\u001b[1;32m     17\u001b[0m \u001b[0;31m# pylint: disable=invalid-import-order, g-bad-import-order, unused-import\u001b[0m\u001b[0;34m\u001b[0m\u001b[0;34m\u001b[0m\u001b[0;34m\u001b[0m\u001b[0m\n\u001b[1;32m     18\u001b[0m \u001b[0;32mfrom\u001b[0m \u001b[0mtensorflow\u001b[0m\u001b[0;34m.\u001b[0m\u001b[0mpython\u001b[0m \u001b[0;32mimport\u001b[0m \u001b[0mpywrap_tensorflow\u001b[0m\u001b[0;34m\u001b[0m\u001b[0;34m\u001b[0m\u001b[0m\n\u001b[0;32m---> 19\u001b[0;31m \u001b[0;32mfrom\u001b[0m \u001b[0mtensorflow\u001b[0m\u001b[0;34m.\u001b[0m\u001b[0mpython\u001b[0m\u001b[0;34m.\u001b[0m\u001b[0mframework\u001b[0m \u001b[0;32mimport\u001b[0m \u001b[0m_op_def_library_pybind\u001b[0m\u001b[0;34m\u001b[0m\u001b[0;34m\u001b[0m\u001b[0m\n\u001b[0m\u001b[1;32m     20\u001b[0m \u001b[0;34m\u001b[0m\u001b[0m\n\u001b[1;32m     21\u001b[0m \u001b[0;32mfrom\u001b[0m \u001b[0mtensorflow\u001b[0m\u001b[0;34m.\u001b[0m\u001b[0mcore\u001b[0m\u001b[0;34m.\u001b[0m\u001b[0mframework\u001b[0m \u001b[0;32mimport\u001b[0m \u001b[0mattr_value_pb2\u001b[0m\u001b[0;34m\u001b[0m\u001b[0;34m\u001b[0m\u001b[0m\n",
            "\u001b[0;31mKeyboardInterrupt\u001b[0m: "
          ]
        }
      ],
      "source": [
        "import numpy as np # linear algebra\n",
        "import pandas as pd # data processing, CSV file I/O \n",
        "import os\n",
        "from pathlib import Path\n",
        "from PIL import Image\n",
        "import tensorflow as tf\n",
        "import os\n",
        "\n",
        "# for dirname, _, filenames in os.walk('/content/drive/MyDrive'):\n",
        "#     for filename in filenames:\n",
        "#         print(os.path.join(dirname, filename))"
      ]
    },
    {
      "cell_type": "code",
      "execution_count": null,
      "metadata": {
        "id": "mGdEbFH_1NwV"
      },
      "outputs": [],
      "source": [
        "### Botao's test \n",
        "import matplotlib.pyplot as plt\n",
        "import cv2 # OpenCV\n",
        "import numpy as np\n",
        "import os\n",
        "import random\n",
        "import tensorflow as tf\n",
        "from tqdm import tqdm \n",
        "from sklearn.model_selection import train_test_split\n",
        "from keras.models import Sequential\n",
        "from keras.layers import Dense, Conv2D, MaxPooling2D,MaxPool2D , Dropout,Flatten, BatchNormalization\n",
        "from keras.callbacks import ModelCheckpoint, EarlyStopping"
      ]
    },
    {
      "cell_type": "code",
      "execution_count": null,
      "metadata": {
        "id": "bbvF2lAs1NwV"
      },
      "outputs": [],
      "source": [
        "# Botao 's test\n",
        "DIR1 = '/content/drive/MyDrive/archive/Decks'\n",
        "DIR2 = '/content/drive/MyDrive/archive/Pavements'\n",
        "DIR3 = '/content/drive/MyDrive/archive/Walls'\n",
        "label = ['Non-cracked', 'Cracked']\n",
        "def load_image(data_dir):\n",
        "    img_data = []\n",
        "    \n",
        "    for word in label:\n",
        "        path = os.path.join(data_dir, word)\n",
        "        y_label = label.index(word)\n",
        "        \n",
        "        for img_name in tqdm(os.listdir(path)):\n",
        "            img = cv2.imread(os.path.join(path, img_name), cv2.IMREAD_GRAYSCALE)\n",
        "            #resizing = cv2.resize(img, (120,120))                               # If needed, we can resizing image to lower pixels for faster modeling test time.\n",
        "            \n",
        "            img_data.append([img, y_label])\n",
        "            \n",
        "    return np.array(img_data)\n"
      ]
    },
    {
      "cell_type": "markdown",
      "metadata": {
        "id": "JgPT67Zm1NwV"
      },
      "source": [
        "Would suggest loading folders separately, in case crushed. If there is error, reload that block again, then should be fine"
      ]
    },
    {
      "cell_type": "code",
      "execution_count": null,
      "metadata": {
        "id": "IAjpmseu1NwV"
      },
      "outputs": [],
      "source": [
        "# Load Decks Foler\n",
        "dataset_Decks = load_image(DIR1)\n"
      ]
    },
    {
      "cell_type": "code",
      "execution_count": null,
      "metadata": {
        "id": "r0J5AFEK1NwV"
      },
      "outputs": [],
      "source": [
        "# Load Pavements Foler\n",
        "dataset_Pavements = load_image(DIR2)\n"
      ]
    },
    {
      "cell_type": "code",
      "execution_count": null,
      "metadata": {
        "id": "tjx-hiQ51NwW"
      },
      "outputs": [],
      "source": [
        "# Load Walls Foler\n",
        "dataset_Walls = load_image(DIR3)"
      ]
    },
    {
      "cell_type": "markdown",
      "metadata": {
        "id": "vMDQC6rp1NwW"
      },
      "source": [
        "##0.2.2 Visulize our dataset\n",
        "\n",
        "number of positive(1) and negative(0) \n",
        "\n"
      ]
    },
    {
      "cell_type": "code",
      "execution_count": null,
      "metadata": {
        "id": "sWP3fEwZ1NwW"
      },
      "outputs": [],
      "source": [
        "#Images = []\n",
        "import seaborn as sns\n",
        "\n",
        "def visualize_dataset (a):\n",
        "    visualize = []\n",
        "    for i in a:\n",
        "        if(i[1] == 0):\n",
        "            visualize.append(\"Neg\")\n",
        "        elif(i[1] == 1):\n",
        "            visualize.append(\"Pos\")\n",
        "    \n",
        "    return visualize\n",
        "\n",
        "visualization_Decks = visualize_dataset (dataset_Decks)\n",
        "visualization_Pavements = visualize_dataset (dataset_Pavements)\n",
        "visualization_Walls = visualize_dataset (dataset_Walls)"
      ]
    },
    {
      "cell_type": "code",
      "execution_count": null,
      "metadata": {
        "id": "9EOqA8-_1NwW"
      },
      "outputs": [],
      "source": [
        "plt.figure(figsize=(10,10))\n",
        "plt.subplot(2, 2, 1)\n",
        "sns.set_style('darkgrid')\n",
        "axl = sns.countplot(visualization_Decks)\n",
        "axl.set_title(\"Number of Decks Images\")\n"
      ]
    },
    {
      "cell_type": "code",
      "execution_count": null,
      "metadata": {
        "id": "YW365Dq-1NwW"
      },
      "outputs": [],
      "source": [
        "plt.figure(figsize=(10,10))\n",
        "plt.subplot(2, 2, 1)\n",
        "sns.set_style('darkgrid')\n",
        "axl = sns.countplot(visualization_Pavements)\n",
        "axl.set_title(\"Number of Pavements Images\")"
      ]
    },
    {
      "cell_type": "code",
      "execution_count": null,
      "metadata": {
        "id": "d-6K7kT_1NwW"
      },
      "outputs": [],
      "source": [
        "plt.figure(figsize=(10,10))\n",
        "plt.subplot(2, 2, 1)\n",
        "sns.set_style('darkgrid')\n",
        "axl = sns.countplot(visualization_Walls)\n",
        "axl.set_title(\"Number of Walls Images\")"
      ]
    },
    {
      "cell_type": "markdown",
      "metadata": {
        "id": "Wdox8u5y1NwW"
      },
      "source": [
        "## 0.2.3 Visulize images\n"
      ]
    },
    {
      "cell_type": "code",
      "execution_count": null,
      "metadata": {
        "id": "CLFOp9vp1NwW"
      },
      "outputs": [],
      "source": [
        "# Example of how to visulize images from our dataset\n",
        "# Pick dataset_Decks No.11360 image to display\n",
        "#plt.figure(figsize = (12,12))\n",
        "sns.set_style('white')\n",
        "plt.imshow(dataset_Decks[11359][0], cmap = 'gray')"
      ]
    },
    {
      "cell_type": "code",
      "execution_count": null,
      "metadata": {
        "id": "4QIyz3_X1NwW"
      },
      "outputs": [],
      "source": [
        "dataset_Decks[11359]"
      ]
    },
    {
      "cell_type": "code",
      "execution_count": null,
      "metadata": {
        "id": "i61Rund31NwW"
      },
      "outputs": [],
      "source": [
        "#test print\n",
        "dataset_Decks[11359], dataset_Decks.shape"
      ]
    },
    {
      "cell_type": "code",
      "execution_count": null,
      "metadata": {
        "id": "xFo-IU9_1NwX"
      },
      "outputs": [],
      "source": [
        "# Example of how to visulize images from our dataset\n",
        "# Pick dataset_Pavement No.21740 image to display\n",
        "#plt.figure(figsize = (12,12))\n",
        "plt.imshow(dataset_Pavements[21739][0], cmap = 'gray')"
      ]
    },
    {
      "cell_type": "code",
      "execution_count": null,
      "metadata": {
        "id": "BUYcalSn1NwX"
      },
      "outputs": [],
      "source": [
        "#test print\n",
        "dataset_Pavements[21739], dataset_Pavements.shape"
      ]
    },
    {
      "cell_type": "markdown",
      "metadata": {
        "id": "Lbbn3VdT1NwX"
      },
      "source": [
        "## 0.2.4-1 Test: Adding noise (white edge), Leave for a while\n",
        "\n",
        "Succeed!\n",
        "\n",
        "\n"
      ]
    },
    {
      "cell_type": "code",
      "execution_count": null,
      "metadata": {
        "id": "1goSDK4-1NwX"
      },
      "outputs": [],
      "source": [
        "# Filter cracked images from dataset_Pavement for adding white edge noise test\n",
        "\n",
        "test_1=np.where(dataset_Pavements[:,1]==1)\n",
        "adding_white_edge_test=dataset_Pavements[test_1]\n",
        "#adding_white_edge_test.shape, adding_white_edge_test[:,0], adding_white_edge_test[0][0]\n"
      ]
    },
    {
      "cell_type": "code",
      "execution_count": null,
      "metadata": {
        "id": "0L7AIYm91NwX"
      },
      "outputs": [],
      "source": [
        "# Adding white edge to right side for all the dataset_Pavement images for testing\n",
        "# Learning how to add noise\n",
        "white_side_image = np.zeros((256, 20), dtype = 'uint8') + 255\n",
        "adding_white_edge_dataset = []\n",
        "for i in range(adding_white_edge_test.shape[0]):\n",
        "    adding_white_edge_dataset.append(np.concatenate((adding_white_edge_test[:,0][i], white_side_image), axis=1))\n",
        "\n",
        "#new_dataset"
      ]
    },
    {
      "cell_type": "code",
      "execution_count": null,
      "metadata": {
        "id": "3skdZZcp1NwX"
      },
      "outputs": [],
      "source": [
        "adding_white_edge_dataset"
      ]
    },
    {
      "cell_type": "code",
      "execution_count": null,
      "metadata": {
        "id": "u07vtqus1NwX"
      },
      "outputs": [],
      "source": [
        "# Randomly pick a image from added noise dste for testing\n",
        "# Succeeded!\n",
        "#plt.figure(figsize = (12,12))\n",
        "plt.imshow(adding_white_edge_dataset[3], cmap = 'gray')"
      ]
    },
    {
      "cell_type": "code",
      "execution_count": null,
      "metadata": {
        "id": "WRvx6uzF1NwX"
      },
      "outputs": [],
      "source": [
        "adding_white_edge_dataset[3].shape"
      ]
    },
    {
      "cell_type": "code",
      "execution_count": null,
      "metadata": {
        "id": "UUTzAitK1NwX"
      },
      "outputs": [],
      "source": [
        "# testing for resizing\n",
        "resize_test = cv2.resize(adding_white_edge_dataset[3], (256,256))\n",
        "plt.imshow(resize_test, cmap = 'gray')"
      ]
    },
    {
      "cell_type": "code",
      "execution_count": null,
      "metadata": {
        "id": "7_L5onuf1NwX"
      },
      "outputs": [],
      "source": [
        "resize_test.shape"
      ]
    },
    {
      "cell_type": "markdown",
      "metadata": {
        "id": "Owlg548U1NwY"
      },
      "source": [
        "## 0.2.4-2 Test: Adding noise (flip image), Leave for a while\n",
        "Succeed!"
      ]
    },
    {
      "cell_type": "code",
      "execution_count": null,
      "metadata": {
        "id": "sZ-gg2Zi1NwY"
      },
      "outputs": [],
      "source": [
        "# Learn how to flip images\n",
        "# Filter cracked images from dataset_Pavement for adding Flip noise test\n",
        "\n",
        "flip_test=dataset_Pavements[test_1]\n",
        "#flip_test.shape, flip_test[:,0], flip_test[0][0]"
      ]
    },
    {
      "cell_type": "code",
      "execution_count": null,
      "metadata": {
        "id": "0NbOAvUE1NwY"
      },
      "outputs": [],
      "source": [
        "# Flip cracked images for all the dataset_Pavement images for testing\n",
        "# Learning how to flip image\n",
        "\n",
        "flip_dataset = []\n",
        "for i in range(flip_test.shape[0]):\n",
        "  flip_dataset.append(np.flip(flip_test[:,0][i])) \n",
        "\n",
        "#white_side_image = np.zeros((256, 20), dtype = 'uint8') + 255\n",
        "#adding_white_edge_dataset = []\n",
        "#for i in range(adding_white_edge_test.shape[0]):\n",
        "    #adding_white_edge_dataset.append(np.concatenate((adding_white_edge_test[:,0][i], white_side_image), axis=1))"
      ]
    },
    {
      "cell_type": "code",
      "execution_count": null,
      "metadata": {
        "id": "nog-1xST1NwY"
      },
      "outputs": [],
      "source": [
        "# Randomly pick a image from fliped dataset for testing\n",
        "# Succeeded!\n",
        "#plt.figure(figsize = (12,12))\n",
        "plt.imshow(flip_dataset[3], cmap = 'gray')"
      ]
    },
    {
      "cell_type": "markdown",
      "metadata": {
        "id": "s1z1HNTL1NwY"
      },
      "source": [
        "## 0.2.4-3 Test: Adding noise (blurring image), Leave for a while\n",
        "Succeed!"
      ]
    },
    {
      "cell_type": "code",
      "execution_count": null,
      "metadata": {
        "id": "USaRcEjo1NwY"
      },
      "outputs": [],
      "source": [
        "# Blur images\n",
        "# we can use different kernel values to blur the image\n",
        "def blurring(a):\n",
        "    kernel = np.array([[0.1,0.1,0.1], [0.1,0.1,0.1], [0.1,0.1,0.1]])\n",
        "    #kernel = np.array([[0.125,0.125,0.125], [0.125,0.25,0.125], [0.125,0.125,0.125]])\n",
        "    #kernel = np.array([[1.0,2.0,1.0], [2.0,4.0,2.0], [1.0,2.0,1.0]])\n",
        "    kernel = kernel / np.sum(kernel)\n",
        "    arraylist = []\n",
        "    for y in range(3):\n",
        "        temparray = np.copy(a)\n",
        "        temparray = np.roll(temparray, y - 1, axis=0)\n",
        "        for x in range(3):\n",
        "            temparray_X = np.copy(temparray)\n",
        "            temparray_X = np.roll(temparray_X, x - 1, axis=1)*kernel[y,x]\n",
        "            arraylist.append(temparray_X)\n",
        "\n",
        "    arraylist = np.array(arraylist)\n",
        "    arraylist_sum = np.sum(arraylist, axis=0)\n",
        "    return arraylist_sum"
      ]
    },
    {
      "cell_type": "code",
      "execution_count": null,
      "metadata": {
        "id": "Ef2GGpQB1NwY"
      },
      "outputs": [],
      "source": [
        "# Succeed!\n",
        "blurring_image = blurring(dataset_Pavements[21739][0])\n",
        "plt.figure(figsize = (6,6))\n",
        "plt.imshow(blurring_image, cmap = 'gray')\n"
      ]
    },
    {
      "cell_type": "code",
      "execution_count": null,
      "metadata": {
        "id": "aZPoEWK71NwY"
      },
      "outputs": [],
      "source": [
        "# print original image for blurred comparision\n",
        "plt.figure(figsize = (6,6))\n",
        "# original image\n",
        "plt.imshow(dataset_Pavements[21739][0], cmap = 'gray')"
      ]
    },
    {
      "cell_type": "markdown",
      "metadata": {
        "id": "jEGNZrlN1NwY"
      },
      "source": [
        "##0.2.4 Define adding noise functions (White edge, Flip, Blur)\n",
        "\n",
        "white_edge(),\n",
        "flip(),\n",
        "blur()"
      ]
    },
    {
      "cell_type": "code",
      "execution_count": null,
      "metadata": {
        "id": "gJVHIyd61NwY"
      },
      "outputs": [],
      "source": [
        "def white_edge(a):\n",
        "    distance = 20   # white edge distance that we want to add\n",
        "    add_white_side_size = np.zeros((256, distance), dtype = 'uint8') + 255 \n",
        "    added = np.concatenate((a, add_white_side_size), axis=1)\n",
        "    resized = cv2.resize(added, (256,256)) \n",
        "\n",
        "    return resized\n",
        "\n",
        "def flip_1(b):\n",
        "    flipped = np.flip(b) \n",
        "\n",
        "    return flipped\n",
        "\n",
        "def flip_2(b):\n",
        "    flipped = np.flip(b, axis = 0) \n",
        "\n",
        "    return flipped\n",
        "\n",
        "def flip_3(b):\n",
        "    flipped = np.flip(b, axis = 1) \n",
        "\n",
        "    return flipped\n",
        "\n",
        "def rotate_1(d):\n",
        "    rotated = np.rot90(d)\n",
        "\n",
        "    return rotated\n",
        "\n",
        "def rotate_2(d):\n",
        "    rotated = np.rot90(d,3)\n",
        "\n",
        "    return rotated\n",
        "\n",
        "\n",
        "def blur(c):\n",
        "    kernel = np.array([[0.1,0.1,0.1], [0.1,0.1,0.1], [0.1,0.1,0.1]]) # we can use different kernel values to blur the image\n",
        "    #kernel = np.array([[0.125,0.125,0.125], [0.125,0.25,0.125], [0.125,0.125,0.125]])\n",
        "    #kernel = np.array([[1.0,2.0,1.0], [2.0,4.0,2.0], [1.0,2.0,1.0]])\n",
        "    kernel = kernel / np.sum(kernel)\n",
        "    arraylist = []\n",
        "    for y in range(3):\n",
        "        temparray = np.copy(c)\n",
        "        temparray = np.roll(temparray, y - 1, axis=0)\n",
        "        for x in range(3):\n",
        "            temparray_X = np.copy(temparray)\n",
        "            temparray_X = np.roll(temparray_X, x - 1, axis=1)*kernel[y,x]\n",
        "            arraylist.append(temparray_X)\n",
        "\n",
        "    arraylist = np.array(arraylist)\n",
        "    arraylist_sum = np.sum(arraylist, axis=0)\n",
        "    return arraylist_sum"
      ]
    },
    {
      "cell_type": "code",
      "execution_count": null,
      "metadata": {
        "id": "dloiF8m_4cSD"
      },
      "outputs": [],
      "source": [
        "# Initial Image\n",
        "plt.imshow(dataset_Pavements[21739][0], cmap = 'gray')"
      ]
    },
    {
      "cell_type": "code",
      "execution_count": null,
      "metadata": {
        "id": "WP82m0tc85ad"
      },
      "outputs": [],
      "source": [
        "f = rotate_1(dataset_Pavements[21739][0])\n",
        "plt.imshow(f, cmap = 'gray')"
      ]
    },
    {
      "cell_type": "code",
      "execution_count": null,
      "metadata": {
        "id": "JzkSKMIgFyJQ"
      },
      "outputs": [],
      "source": [
        "f = rotate_2(dataset_Pavements[21739][0])\n",
        "plt.imshow(f, cmap = 'gray')"
      ]
    },
    {
      "cell_type": "code",
      "execution_count": null,
      "metadata": {
        "id": "wt-TAaIf1NwZ"
      },
      "outputs": [],
      "source": [
        "a = white_edge(dataset_Pavements[21739][0])\n",
        "plt.imshow(a, cmap = 'gray')"
      ]
    },
    {
      "cell_type": "code",
      "execution_count": null,
      "metadata": {
        "id": "FKlOuQxr1NwZ"
      },
      "outputs": [],
      "source": [
        "b = flip_1(dataset_Pavements[21739][0])\n",
        "plt.imshow(b, cmap = 'gray')"
      ]
    },
    {
      "cell_type": "code",
      "execution_count": null,
      "metadata": {
        "id": "LSHZbVrV3jhO"
      },
      "outputs": [],
      "source": [
        "c = flip_2(dataset_Pavements[21739][0])\n",
        "plt.imshow(c, cmap = 'gray')"
      ]
    },
    {
      "cell_type": "code",
      "execution_count": null,
      "metadata": {
        "id": "-p6SmOJR3m_d"
      },
      "outputs": [],
      "source": [
        "d = flip_3(dataset_Pavements[21739][0])\n",
        "plt.imshow(d, cmap = 'gray')"
      ]
    },
    {
      "cell_type": "code",
      "execution_count": null,
      "metadata": {
        "id": "aJ5jOzMf1NwZ"
      },
      "outputs": [],
      "source": [
        "e = blur(dataset_Pavements[21739][0])\n",
        "plt.imshow(e, cmap = 'gray')"
      ]
    },
    {
      "cell_type": "markdown",
      "metadata": {
        "id": "nsyrXpq91NwZ"
      },
      "source": [
        "##0.2.5 Generate Noise Dataset\n",
        "Randomly pick images from dataset to add noise.<br>\n",
        "5% of dataset are used for adding white edge，<br>\n",
        "5% of dataset are used for flipping,<br>\n",
        "10% of dataset are used for blurring."
      ]
    },
    {
      "cell_type": "code",
      "execution_count": null,
      "metadata": {
        "id": "cexRC5gt1NwZ"
      },
      "outputs": [],
      "source": [
        "import random\n",
        "\n",
        "#dataset_Decks_list = dataset_Decks.tolist()\n",
        "\n",
        "def random_select(dataset, percent):\n",
        "    num = round(percent*dataset.shape[0])\n",
        "    random_images = random.choices(dataset, k=num)\n",
        "\n",
        "    return np.array(random_images)\n"
      ]
    },
    {
      "cell_type": "code",
      "execution_count": null,
      "metadata": {
        "id": "faC4HOcN1NwZ"
      },
      "outputs": [],
      "source": [
        "def add_noise_processing(dataset, filter, percent):\n",
        "    percent = percent\n",
        "    dataset = dataset\n",
        "    process_image = random_select(dataset, percent)\n",
        "    #new_dataset\n",
        "    for i in range(process_image.shape[0]):\n",
        "        process_image[i][0] = filter(process_image[i][0])\n",
        "\n",
        "    return np.array(process_image)"
      ]
    },
    {
      "cell_type": "code",
      "execution_count": null,
      "metadata": {
        "id": "iZDSf9dW1NwZ"
      },
      "outputs": [],
      "source": [
        "percent_1 = 0.05\n",
        "percent_2 = 0.1\n",
        "\n",
        "Decks_addwhite_set = add_noise_processing(dataset_Decks, white_edge, percent_1)\n",
        "Decks_flip_set = add_noise_processing(dataset_Decks, flip, percent_1)\n",
        "Decks_blur_set = add_noise_processing(dataset_Decks, blur, percent_2)\n",
        "\n",
        "Pavements_addwhite_set = add_noise_processing(dataset_Pavements, white_edge, percent_1)\n",
        "Pavements_flip_set = add_noise_processing(dataset_Pavements, flip, percent_1)\n",
        "Pavements_blur_set = add_noise_processing(dataset_Pavements, blur, percent_2)\n",
        "\n",
        "Walls_addwhite_set = add_noise_processing(dataset_Walls, white_edge, percent_1)\n",
        "Walls_flip_set = add_noise_processing(dataset_Walls, flip, percent_1)\n",
        "Walls_blur_set = add_noise_processing(dataset_Walls, blur, percent_2)\n"
      ]
    },
    {
      "cell_type": "code",
      "execution_count": null,
      "metadata": {
        "id": "Ij7L8gvf1NwZ"
      },
      "outputs": [],
      "source": [
        "Decks_addwhite_set.shape, Decks_flip_set.shape, Decks_blur_set.shape"
      ]
    },
    {
      "cell_type": "code",
      "execution_count": null,
      "metadata": {
        "id": "MyryvUTg1NwZ"
      },
      "outputs": [],
      "source": [
        "Pavements_addwhite_set.shape, Pavements_flip_set.shape,Pavements_blur_set.shape"
      ]
    },
    {
      "cell_type": "code",
      "execution_count": null,
      "metadata": {
        "id": "VrCR0-nH1NwZ"
      },
      "outputs": [],
      "source": [
        "Walls_addwhite_set.shape, Walls_flip_set.shape,Walls_blur_set.shape"
      ]
    },
    {
      "cell_type": "markdown",
      "metadata": {
        "id": "ctWMJqid1Nwa"
      },
      "source": [
        "**Prviding 3 added-noise dataset for Decks, Pavement, and Walls.**"
      ]
    },
    {
      "cell_type": "code",
      "execution_count": null,
      "metadata": {
        "id": "nX0c2Kek1Nwa"
      },
      "outputs": [],
      "source": [
        "# Prviding 3 added-noise dataset for Decks, Pavement, and Walls.\n",
        "Decks_noise_dataset = np.concatenate((Decks_addwhite_set, Decks_flip_set,Decks_blur_set), axis=0)\n",
        "Pavements_noise_dataset = np.concatenate((Pavements_addwhite_set, Pavements_flip_set,Pavements_blur_set), axis=0)\n",
        "Walls_noise_dataset = np.concatenate((Walls_addwhite_set, Walls_flip_set,Walls_blur_set), axis=0)"
      ]
    },
    {
      "cell_type": "code",
      "execution_count": null,
      "metadata": {
        "id": "k3iAJ1tP1Nwa"
      },
      "outputs": [],
      "source": [
        "#Tesing\n",
        "#succeed\n",
        "plt.imshow(Pavements_noise_dataset[1200][0], cmap = 'gray')"
      ]
    },
    {
      "cell_type": "code",
      "execution_count": null,
      "metadata": {
        "id": "_Bts7RvB1Nwa"
      },
      "outputs": [],
      "source": [
        "visualization_Decks_noise_dataset = visualize_dataset(Decks_noise_dataset)\n",
        "print(len(visualization_Decks_noise_dataset))\n",
        "plt.figure(figsize=(10,10))\n",
        "plt.subplot(2, 2, 1)\n",
        "sns.set_style('darkgrid')\n",
        "axl = sns.countplot(visualization_Decks_noise_dataset, order=['Neg', 'Pos'])\n",
        "axl.set_title(\"Number of Decks Noise Images\")"
      ]
    },
    {
      "cell_type": "code",
      "execution_count": null,
      "metadata": {
        "id": "8retDmns1Nwa"
      },
      "outputs": [],
      "source": [
        "visualization_Pavements_noise_dataset = visualize_dataset(Pavements_noise_dataset)\n",
        "print(len(visualization_Pavements_noise_dataset))\n",
        "plt.figure(figsize=(10,10))\n",
        "plt.subplot(2, 2, 1)\n",
        "sns.set_style('darkgrid')\n",
        "axl = sns.countplot(visualization_Pavements_noise_dataset)\n",
        "axl.set_title(\"Number of Pavements Noise Images\")"
      ]
    },
    {
      "cell_type": "code",
      "execution_count": null,
      "metadata": {
        "id": "J5Q87e4g1Nwa"
      },
      "outputs": [],
      "source": [
        "visualization_Walls_noise_dataset = visualize_dataset(Walls_noise_dataset)\n",
        "print(len(visualization_Walls_noise_dataset))\n",
        "plt.figure(figsize=(10,10))\n",
        "plt.subplot(2, 2, 1)\n",
        "sns.set_style('darkgrid')\n",
        "axl = sns.countplot(visualization_Walls_noise_dataset)\n",
        "axl.set_title(\"Number of Walls Noise Images\")"
      ]
    },
    {
      "cell_type": "markdown",
      "metadata": {
        "id": "oFfYYwOy1Nwa"
      },
      "source": [
        "##0.2.6 Prepare Dataset for training and testing\n",
        "\n",
        " After combine Noise_set with Normal_set.\n",
        " Generate 80% dataset for training; 20% dataset for testing。\n",
        " Shuffle training set and test set.\n",
        "\n",
        "\n"
      ]
    },
    {
      "cell_type": "markdown",
      "metadata": {
        "id": "ISsdL-Sr1Nwa"
      },
      "source": []
    },
    {
      "cell_type": "code",
      "execution_count": null,
      "metadata": {
        "id": "fQhVv53j1Nwa"
      },
      "outputs": [],
      "source": [
        "def separete_dataset(normal_dataset, noise_dataset):\n",
        "    all_set = np.concatenate((normal_dataset, noise_dataset), axis=0)\n",
        "    print(\"all_dataset shape:\")\n",
        "    print(all_set.shape)\n",
        "    np.random.shuffle(all_set)\n",
        "    percent = 0.8\n",
        "    row_number = round(percent*all_set.shape[0])\n",
        "\n",
        "    training_set = all_set[0:row_number,:]\n",
        "    testing_set = all_set[row_number:,:]\n",
        "    return training_set, testing_set\n"
      ]
    },
    {
      "cell_type": "code",
      "source": [
        "visualization_training_dataset = visualize_dataset(Decks_training_set)\n",
        "print(len(visualization_Decks_noise_dataset))\n",
        "plt.figure(figsize=(10,10))\n",
        "plt.subplot(2, 2, 1)\n",
        "sns.set_style('darkgrid')\n",
        "axl = sns.countplot(visualization_Decks_noise_dataset, order=['Neg', 'Pos'])\n",
        "axl.set_title(\"Number of Decks Noise Images\")"
      ],
      "metadata": {
        "id": "iuS_tGbYOIIX"
      },
      "execution_count": null,
      "outputs": []
    },
    {
      "cell_type": "code",
      "execution_count": null,
      "metadata": {
        "id": "ADXxEMwx1Nwa"
      },
      "outputs": [],
      "source": [
        "Decks_training_dataset, Decks_testing_dataset = separete_dataset(dataset_Decks, Decks_noise_dataset)\n",
        "\n",
        "Decks_training_dataset.shape, Decks_testing_dataset.shape"
      ]
    },
    {
      "cell_type": "code",
      "execution_count": null,
      "metadata": {
        "id": "07DFYAFX1Nwb"
      },
      "outputs": [],
      "source": [
        "Pavements_training_dataset, Pavements_testing_dataset = separete_dataset(dataset_Pavements, Pavements_noise_dataset)\n",
        "\n",
        "Pavements_training_dataset.shape, Pavements_testing_dataset.shape"
      ]
    },
    {
      "cell_type": "code",
      "execution_count": null,
      "metadata": {
        "id": "JUBqnXh81Nwb"
      },
      "outputs": [],
      "source": [
        "Walls_training_dataset, Walls_testing_dataset = separete_dataset(dataset_Walls, Walls_noise_dataset)\n",
        "\n",
        "Walls_training_dataset.shape, Walls_testing_dataset.shape"
      ]
    },
    {
      "cell_type": "code",
      "execution_count": null,
      "metadata": {
        "id": "8fWwjrlI1Nwb"
      },
      "outputs": [],
      "source": [
        "sns.set_style('white')\n",
        "plt.imshow(Walls_training_dataset[1200][0], cmap = 'gray')"
      ]
    },
    {
      "cell_type": "markdown",
      "metadata": {
        "id": "kVLQsw_k1Nwb"
      },
      "source": [
        "##0.2.7 Notes about Datasets\n",
        "\n",
        "\n",
        "*   Three major datasets (Decks, Pavements, Walls) have been **added with noise images** (5% adding white edge, 5% flipping, 10% blurring) without replacing original images.\n",
        "*   Three major datasets (Decks, Pavements, Walls) **are shuffled**. \n",
        "*   Each set is separated as **80% tranning set and 20% testing set** for our model\n",
        "\n",
        "\n",
        "1.   *   Decks_training_dataset\n",
        "     *   Decks_testing_dataset\n",
        "2.   *   Pavements_training_dataset\n",
        "     *   Pavements_testing_dataset\n",
        "3.   *   Walls_training_dataset\n",
        "     *   Walls_testing_dataset\n",
        "\n",
        "*   Each dataset is a **[Nx2] array**, N is the number of datapoints for each set.\n",
        "*   The first column of array contain images array with the **same size (256 x 256)**\n",
        "*   The second column of array contain **0 (negative)** or **1 (positive)** as Ground Truth\n",
        "\n",
        "\n",
        "\n",
        "\n",
        "\n",
        "\n",
        "\n",
        "\n"
      ]
    },
    {
      "cell_type": "markdown",
      "source": [
        "## 0.3 Dataset mutations (apply flips)"
      ],
      "metadata": {
        "id": "DObMp9UjpKoB"
      }
    },
    {
      "cell_type": "markdown",
      "metadata": {
        "id": "EzT_ZVJiyoqM"
      },
      "source": [
        "# 1 Setup\n",
        "New version of code originally written by Botao and Anderson in section 0. Refactored to avoid memory leak and make the clicking simpler.  \n",
        "**Run this entire section** to import all the packages needed and to declare/define vital data-preparation functions."
      ]
    },
    {
      "cell_type": "markdown",
      "metadata": {
        "id": "ZLNRPRWwXCkV"
      },
      "source": [
        "## 1.1 Imports"
      ]
    },
    {
      "cell_type": "code",
      "execution_count": 542,
      "metadata": {
        "id": "DtnGNDoA3_x3"
      },
      "outputs": [],
      "source": [
        "import torch\n",
        "import torch.nn as nn\n",
        "import torch.nn.functional as F\n",
        "import torch.optim as optim"
      ]
    },
    {
      "cell_type": "code",
      "execution_count": 543,
      "metadata": {
        "id": "F9DwczMv2HBx"
      },
      "outputs": [],
      "source": [
        "device = torch.device('cuda' if torch.cuda.is_available() else 'cpu')"
      ]
    },
    {
      "cell_type": "markdown",
      "metadata": {
        "id": "xuEywStkc3M5"
      },
      "source": [
        "You can check to make sure a GPU is available using the following code block.\n",
        "\n",
        "If the below message is shown, it means you are using a CPU.\n",
        "```\n",
        "/bin/bash: nvidia-smi: command not found\n",
        "```\n",
        "\n",
        "---\n",
        "\n",
        "\n",
        "\n"
      ]
    },
    {
      "cell_type": "code",
      "execution_count": 544,
      "metadata": {
        "colab": {
          "base_uri": "https://localhost:8080/"
        },
        "id": "ounnp0ASc58O",
        "outputId": "0ec1b042-508b-41dd-92d5-de581d885605"
      },
      "outputs": [
        {
          "output_type": "stream",
          "name": "stdout",
          "text": [
            "Select the Runtime > \"Change runtime type\" menu to enable a GPU accelerator, \n",
            "and then re-execute this cell.\n"
          ]
        }
      ],
      "source": [
        "gpu_info = !nvidia-smi\n",
        "gpu_info = '\\n'.join(gpu_info)\n",
        "if gpu_info.find('failed') >= 0:\n",
        "  print('Select the Runtime > \"Change runtime type\" menu to enable a GPU accelerator, ')\n",
        "  print('and then re-execute this cell.')\n",
        "else:\n",
        "  print(gpu_info)"
      ]
    },
    {
      "cell_type": "markdown",
      "metadata": {
        "id": "FwSvW1mi17YI"
      },
      "source": [
        "Anderson has shared the google drive folder which contains dataset to everyone, so just use that folder to run our code\n",
        "In your Google Drive, you need to drag that folder from \"share with me\" to \"my drive\", then you will be good to go"
      ]
    },
    {
      "cell_type": "code",
      "execution_count": 545,
      "metadata": {
        "colab": {
          "base_uri": "https://localhost:8080/"
        },
        "id": "SgNgYnv012Uu",
        "outputId": "418b0d96-d80d-4ef3-e802-c9d5cb6fe313"
      },
      "outputs": [
        {
          "output_type": "stream",
          "name": "stdout",
          "text": [
            "Drive already mounted at /content/drive; to attempt to forcibly remount, call drive.mount(\"/content/drive\", force_remount=True).\n"
          ]
        }
      ],
      "source": [
        "from google.colab import drive\n",
        "drive.mount('/content/drive')"
      ]
    },
    {
      "cell_type": "code",
      "execution_count": 546,
      "metadata": {
        "id": "zov3-X1J2Etb"
      },
      "outputs": [],
      "source": [
        "import numpy as np # linear algebra\n",
        "import pandas as pd # data processing, CSV file I/O \n",
        "import os\n",
        "from pathlib import Path\n",
        "from PIL import Image\n",
        "import seaborn as sns"
      ]
    },
    {
      "cell_type": "code",
      "execution_count": 547,
      "metadata": {
        "id": "sFdndhF53a4u"
      },
      "outputs": [],
      "source": [
        "import matplotlib.pyplot as plt\n",
        "import cv2 # OpenCV\n",
        "import random\n",
        "from tqdm import tqdm \n",
        "from sklearn.model_selection import train_test_split\n",
        "from sklearn.decomposition import PCA\n",
        "from skimage import feature"
      ]
    },
    {
      "cell_type": "code",
      "source": [
        "from sklearn.mixture import GaussianMixture\n",
        "from sklearn.cluster import KMeans\n",
        "from sklearn.cluster import DBSCAN\n",
        "from sklearn.metrics import silhouette_score\n",
        "from sklearn.metrics import davies_bouldin_score\n",
        "from sklearn.metrics.cluster import normalized_mutual_info_score\n",
        "from sklearn.metrics.cluster import adjusted_mutual_info_score\n",
        "from sklearn.metrics.cluster import rand_score\n",
        "from sklearn.metrics.cluster import homogeneity_score\n",
        "from sklearn.metrics.cluster import completeness_score\n",
        "from sklearn.metrics.cluster import v_measure_score\n",
        "from sklearn.metrics.cluster import fowlkes_mallows_score\n",
        "from sklearn.metrics.cluster import contingency_matrix"
      ],
      "metadata": {
        "id": "hb_65Hzqt2r_"
      },
      "execution_count": 548,
      "outputs": []
    },
    {
      "cell_type": "markdown",
      "metadata": {
        "id": "4rjFT5Nt3kUO"
      },
      "source": [
        "How many of these imports are we actually using?"
      ]
    },
    {
      "cell_type": "markdown",
      "metadata": {
        "id": "OwA2y6OR3_yE"
      },
      "source": [
        "## 1.2 Define data prep functions"
      ]
    },
    {
      "cell_type": "markdown",
      "metadata": {
        "id": "IVDNY26c30FA"
      },
      "source": [
        "### 1.2.1 Data loading\n",
        "load_image(data_dir)"
      ]
    },
    {
      "cell_type": "code",
      "execution_count": 549,
      "metadata": {
        "id": "M3F9m4IvhmSH"
      },
      "outputs": [],
      "source": [
        "def load_image(data_dir):\n",
        "    label = ['Non-cracked', 'Cracked']\n",
        "    img_data = []\n",
        "    \n",
        "    for word in label:\n",
        "        path = os.path.join(data_dir, word)\n",
        "        y_label = label.index(word)\n",
        "        \n",
        "        for img_name in tqdm(os.listdir(path)):\n",
        "            img = cv2.imread(os.path.join(path, img_name), cv2.IMREAD_GRAYSCALE)\n",
        "            # resized_img = cv2.resize(img, (64,64))                               # If needed, we can resizing image to lower pixels for faster modeling test time.\n",
        "            #                                                                       update: actually, resizing here won't work because of the way white_edge is coded.\n",
        "            \n",
        "            img_data.append([img, y_label])\n",
        "            \n",
        "    return np.array(img_data)"
      ]
    },
    {
      "cell_type": "markdown",
      "metadata": {
        "id": "0ni1eyiGIogp"
      },
      "source": [
        "### NEW 1.2.2 Define flip and rotate methods for increasing the number of craked images preparation\n",
        "flip_1(data), flip_2(data), rotate_1(data), rotate_2(data)\n"
      ]
    },
    {
      "cell_type": "markdown",
      "metadata": {
        "id": "lU3EdawbLA9g"
      },
      "source": [
        "Why do we increase the number of craked images? Since our orgianl dataset contains really unbalanced number of cracked images and uncrakced images. We decided to use 3 flips and 2 rotates to increase cracked image 5 more times (plus orginal set would be 6-times number in total), which make the overall dataset balanced relatively."
      ]
    },
    {
      "cell_type": "code",
      "execution_count": 550,
      "metadata": {
        "id": "t9Qbb4-UJaWN"
      },
      "outputs": [],
      "source": [
        "def flip_1(data):\n",
        "    flipped = np.flip(data) \n",
        "\n",
        "    return flipped\n",
        "\n",
        "def flip_2(data):\n",
        "    flipped = np.flip(data, axis = 0) \n",
        "\n",
        "    return flipped\n",
        "\n",
        "###### flip_3 was moved to later step for unsupervised learnning######\n",
        "'''\n",
        "def flip_3(data):\n",
        "    flipped = np.flip(data, axis = 1) \n",
        "\n",
        "    return flipped\n",
        "'''\n",
        "\n",
        "def rotate_1(data):\n",
        "    rotated = np.rot90(data)\n",
        "\n",
        "    return rotated\n",
        "\n",
        "def rotate_2(data):\n",
        "    rotated = np.rot90(data,3)\n",
        "\n",
        "    return rotated"
      ]
    },
    {
      "cell_type": "markdown",
      "metadata": {
        "id": "UPNVSYMbYtPa"
      },
      "source": [
        "### 1.2.2 Add noise\n",
        "white_edge(data), flip(data), blur(data)"
      ]
    },
    {
      "cell_type": "markdown",
      "metadata": {
        "id": "EHc_mLFRqZbn"
      },
      "source": [
        "Why do we add noise? To make the model more robust (able to filter out noise in data). "
      ]
    },
    {
      "cell_type": "code",
      "execution_count": 551,
      "metadata": {
        "id": "oMfvM9uCw1NA"
      },
      "outputs": [],
      "source": [
        "def white_edge(data):\n",
        "    distance = 20   # white edge distance that we want to add\n",
        "    add_white_side_size = np.zeros((256, distance), dtype = 'uint8') + 255 \n",
        "    added = np.concatenate((data, add_white_side_size), axis=1)\n",
        "    resized = cv2.resize(added, (256,256)) \n",
        "\n",
        "    return resized"
      ]
    },
    {
      "cell_type": "code",
      "execution_count": 552,
      "metadata": {
        "id": "oxHGAthiYAuC"
      },
      "outputs": [],
      "source": [
        "def flip(data):\n",
        "    flipped = np.flip(data) \n",
        "\n",
        "    return flipped"
      ]
    },
    {
      "cell_type": "code",
      "execution_count": 553,
      "metadata": {
        "id": "Kp5-ZGUUYAl6"
      },
      "outputs": [],
      "source": [
        "def blur(data):\n",
        "    kernel = np.array([[0.1,0.1,0.1], [0.1,0.1,0.1], [0.1,0.1,0.1]]) # we can use different kernel values to blur the image\n",
        "    #kernel = np.array([[0.125,0.125,0.125], [0.125,0.25,0.125], [0.125,0.125,0.125]])\n",
        "    #kernel = np.array([[1.0,2.0,1.0], [2.0,4.0,2.0], [1.0,2.0,1.0]])\n",
        "    kernel = kernel / np.sum(kernel)\n",
        "    arraylist = []\n",
        "    for y in range(3):\n",
        "        temparray = np.copy(data)\n",
        "        temparray = np.roll(temparray, y - 1, axis=0)\n",
        "        for x in range(3):\n",
        "            temparray_X = np.copy(temparray)\n",
        "            temparray_X = np.roll(temparray_X, x - 1, axis=1)*kernel[y,x]\n",
        "            arraylist.append(temparray_X)\n",
        "\n",
        "    arraylist = np.array(arraylist)\n",
        "    arraylist_sum = np.sum(arraylist, axis=0)\n",
        "    return arraylist_sum"
      ]
    },
    {
      "cell_type": "markdown",
      "metadata": {
        "id": "FirCXrh6PK9k"
      },
      "source": [
        "### 1.2.3 Feature selection"
      ]
    },
    {
      "cell_type": "markdown",
      "metadata": {
        "id": "VkKDGVu0PrDJ"
      },
      "source": [
        "Trying PCA"
      ]
    },
    {
      "cell_type": "code",
      "source": [
        "def flatten_data(dataset):\n",
        "    data = []\n",
        "    for img, label in dataset:\n",
        "       data.append([np.ndarray.flatten(img), label])\n",
        "    return np.array(data)"
      ],
      "metadata": {
        "id": "jU2Y0WuR3uic"
      },
      "execution_count": 554,
      "outputs": []
    },
    {
      "cell_type": "code",
      "execution_count": 555,
      "metadata": {
        "id": "dfLob2AQP3n6"
      },
      "outputs": [],
      "source": [
        "def flatten_and_split_data(dataset):\n",
        "    data = []\n",
        "    labels = []\n",
        "    for img, label in dataset:\n",
        "       data.append(np.ndarray.flatten(img))\n",
        "       labels.append(label)\n",
        "    return np.array(data), np.array(labels)"
      ]
    },
    {
      "cell_type": "code",
      "execution_count": 556,
      "metadata": {
        "id": "hfJ3MIoGWLXN"
      },
      "outputs": [],
      "source": [
        "def get_pca_data(X, k=24):\n",
        "    X, y = flatten_and_split_data(X)\n",
        "    pca = PCA(n_components=k)\n",
        "    X = pca.fit_transform(X)\n",
        "    print(\"Explained variance ratio:\")\n",
        "    print(pca.explained_variance_ratio_)\n",
        "    data = []\n",
        "    for i in range(X.shape[0]):\n",
        "        data.append([X[i], y[i]])\n",
        "    return np.array(data)"
      ]
    },
    {
      "cell_type": "markdown",
      "metadata": {
        "id": "ugxTIBZ2VVsU"
      },
      "source": [
        "split because of RAM issues"
      ]
    },
    {
      "cell_type": "code",
      "execution_count": 557,
      "metadata": {
        "id": "vEasqOdmUziV"
      },
      "outputs": [],
      "source": [
        "# def pca_step_get_v(X, k):\n",
        "#     X = flatten_data(X)\n",
        "#     u, s, v = np.linalg.svd(X - np.average(X, axis=0), full_matrices=False, compute_uv=True)\n",
        "#     return np.transpose(v)[:, :k]"
      ]
    },
    {
      "cell_type": "code",
      "execution_count": 558,
      "metadata": {
        "id": "Vn82MGjCPNcB"
      },
      "outputs": [],
      "source": [
        "# def pca(X, k=24):\n",
        "#     v = pca_step_get_v(X, k)\n",
        "#     return np.matmul(X - np.average(X, axis=0), v)"
      ]
    },
    {
      "cell_type": "markdown",
      "metadata": {
        "id": "8QX2t-9aKsv3"
      },
      "source": [
        "### NEW 1.2.4 Data mutation\n",
        "increase_set(dataset,filter),\n",
        "processing_increase_set(cracked_dataset)"
      ]
    },
    {
      "cell_type": "markdown",
      "metadata": {
        "id": "r8vvrI5YcoBA"
      },
      "source": [
        "The actual process of incresing 5-times number of cracked images"
      ]
    },
    {
      "cell_type": "markdown",
      "source": [
        "Commented code was the original. Effects were preserved but moved into functions to save RAM"
      ],
      "metadata": {
        "id": "yvAPTTTWrZA7"
      }
    },
    {
      "cell_type": "code",
      "execution_count": 559,
      "metadata": {
        "id": "mYbZf5g5Ngnr"
      },
      "outputs": [],
      "source": [
        "def increase_set(dataset,filter):\n",
        "    process_set = dataset\n",
        "    for i in range(process_set.shape[0]):\n",
        "        process_set[i][0] = filter(process_set[i][0])\n",
        "\n",
        "    return np.array(process_set)"
      ]
    },
    {
      "cell_type": "code",
      "execution_count": 560,
      "metadata": {
        "id": "8Bv0BO3eQ9w3"
      },
      "outputs": [],
      "source": [
        "def processing_increase_set(cracked_dataset):\n",
        "    original_set = cracked_dataset\n",
        "    filters = [flip_1, flip_2, rotate_1, rotate_2]\n",
        "    for i in filters:\n",
        "        new_set = increase_set(cracked_dataset,i)\n",
        "        original_set = np.concatenate((original_set,new_set), axis=0)\n",
        "\n",
        "    return original_set"
      ]
    },
    {
      "cell_type": "code",
      "source": [
        "def split_by_label(dataset):\n",
        "    positive_mask = np.where(dataset[:,1]==1)\n",
        "    negative_mask = np.where(dataset[:,1]==0)\n",
        "    print(len(dataset[positive_mask]), len(dataset[negative_mask]))\n",
        "    return dataset[positive_mask], dataset[negative_mask]"
      ],
      "metadata": {
        "id": "1SIBVdamo_an"
      },
      "execution_count": 561,
      "outputs": []
    },
    {
      "cell_type": "code",
      "execution_count": 562,
      "metadata": {
        "id": "ec3RioYHMBbI"
      },
      "outputs": [],
      "source": [
        "# #filter out cracked images from dataset_Pavements\n",
        "# test_1=np.where(dataset_Pavements[:,1]==1)\n",
        "# cracked_Pavements=dataset_Pavements[test_1]\n",
        "\n",
        "# #filter out cracked images from dataset_Decks\n",
        "# test_2=np.where(dataset_Decks[:,1]==1)\n",
        "# cracked_Decks=dataset_Decks[test_2]\n",
        "\n",
        "# #filter out cracked images from dataset_Walls\n",
        "# test_3=np.where(dataset_Walls[:,1]==1)\n",
        "# cracked_Walls=dataset_Walls[test_3]\n",
        "\n",
        "# #increase numbers of cracked images - Pavements\n",
        "# final_cracked_Pavements = processing_increase_set(cracked_Pavements)\n",
        "# #increase numbers of cracked images - Decks\n",
        "# final_cracked_Decks = processing_increase_set(cracked_Decks)\n",
        "# #increase numbers of cracked images - Walls\n",
        "# final_cracked_Walls = processing_increase_set(cracked_Walls)\n"
      ]
    },
    {
      "cell_type": "code",
      "source": [
        "# # obtain whole dataset\n",
        "# # Pavement\n",
        "# uncracked_index=np.where(dataset_Pavements[:,1]==0)\n",
        "# uncracked_Pavements=dataset_Pavements[uncracked_index]\n",
        "# #print(uncracked_Pavements)\n",
        "# #print(final_cracked_Pavements)\n",
        "# final_Pav=np.concatenate((uncracked_Pavements, final_cracked_Pavements),axis=0)\n",
        "\n",
        "# # obtain whole dataset\n",
        "# # Decks\n",
        "# uncracked_index=np.where(dataset_Decks[:,1]==0)\n",
        "# uncracked_Decks=dataset_Decks[uncracked_index]\n",
        "# #print(uncracked_Pavements)\n",
        "# #print(final_cracked_Pavements)\n",
        "# final_Dec=np.concatenate((uncracked_Decks, final_cracked_Decks),axis=0)\n",
        "\n",
        "# # obtain whole dataset\n",
        "# # Walls\n",
        "# uncracked_index=np.where(dataset_Walls[:,1]==0)\n",
        "# uncracked_Walls=dataset_Walls[uncracked_index]\n",
        "# #print(uncracked_Pavements)\n",
        "# #print(final_cracked_Pavements)\n",
        "# final_Walls=np.concatenate((uncracked_Walls, final_cracked_Walls),axis=0)\n"
      ],
      "metadata": {
        "id": "0YbM821oonkx"
      },
      "execution_count": 563,
      "outputs": []
    },
    {
      "cell_type": "code",
      "source": [
        "# vis_Pav = visualize_dataset(final_Pav)\n",
        "# print(len(vis_Pav))\n",
        "# plt.figure(figsize=(10,10))\n",
        "# plt.subplot(2, 2, 1)\n",
        "# sns.set_style('darkgrid')\n",
        "# axl = sns.countplot(vis_Pav)\n",
        "# axl.set_title(\"Number of Pavement Images\")"
      ],
      "metadata": {
        "id": "I_wLtz42R_zt"
      },
      "execution_count": 564,
      "outputs": []
    },
    {
      "cell_type": "code",
      "source": [
        "# vis_Decks = visualize_dataset(final_Dec)\n",
        "# print(len(vis_Decks ))\n",
        "# plt.figure(figsize=(10,10))\n",
        "# plt.subplot(2, 2, 1)\n",
        "# sns.set_style('darkgrid')\n",
        "# axl = sns.countplot(vis_Decks )\n",
        "# axl.set_title(\"Number of Deck Images\")"
      ],
      "metadata": {
        "id": "V-YQw3ZPSInO"
      },
      "execution_count": 565,
      "outputs": []
    },
    {
      "cell_type": "code",
      "source": [
        "# vis_Walls = visualize_dataset(final_Walls)\n",
        "# print(len(vis_Walls))\n",
        "# plt.figure(figsize=(10,10))\n",
        "# plt.subplot(2, 2, 1)\n",
        "# sns.set_style('darkgrid')\n",
        "# axl = sns.countplot(vis_Walls)\n",
        "# axl.set_title(\"Number of Wall Images\")"
      ],
      "metadata": {
        "id": "xberXISoSMCv"
      },
      "execution_count": 566,
      "outputs": []
    },
    {
      "cell_type": "markdown",
      "metadata": {
        "id": "F1y972RgY_Oa"
      },
      "source": [
        "### 1.2.4 Data mutation\n",
        "random_select(dataset, percent),  \n",
        "add_noise_processing(dataset, filter, percent),  \n",
        "make_noise_sets(dataset, percents),  \n",
        "make_full_noise_set(dataset, percents)"
      ]
    },
    {
      "cell_type": "markdown",
      "metadata": {
        "id": "b5tugQwCBire"
      },
      "source": [
        "Apply the noise functions from 1.2.2"
      ]
    },
    {
      "cell_type": "code",
      "execution_count": 567,
      "metadata": {
        "id": "B5itT2hKGNFT"
      },
      "outputs": [],
      "source": [
        "def random_select(dataset, percent):\n",
        "    num = round(percent*dataset.shape[0])\n",
        "    random_images = random.choices(dataset, k=num)\n",
        "\n",
        "    return np.array(random_images)"
      ]
    },
    {
      "cell_type": "code",
      "execution_count": 568,
      "metadata": {
        "id": "vk9vh96vdBax"
      },
      "outputs": [],
      "source": [
        "# def add_noise_processing(dataset, filter, percent):\n",
        "#     process_image = random_select(dataset, percent)\n",
        "#     #new_dataset\n",
        "#     for i in range(process_image.shape[0]):\n",
        "#         process_image[i][0] = filter(process_image[i][0])\n",
        "\n",
        "#     return np.array(process_image)"
      ]
    },
    {
      "cell_type": "code",
      "execution_count": 569,
      "metadata": {
        "id": "3bnhGda4ZfrG"
      },
      "outputs": [],
      "source": [
        "# def make_noise_sets(dataset, percents=(0.05, 0.05, 0.10)):\n",
        "#     data_white_set = add_noise_processing(dataset, white_edge, percents[0])\n",
        "#     data_flip_set = add_noise_processing(dataset_Decks, flip, percents[1])\n",
        "#     data_blur_set = add_noise_processing(dataset_Decks, blur, percents[2])\n",
        "#     return (data_white_set, data_flip_set, data_blur_set)"
      ]
    },
    {
      "cell_type": "code",
      "execution_count": 570,
      "metadata": {
        "id": "bn85P5avaZZq"
      },
      "outputs": [],
      "source": [
        "# def make_full_noise_set(dataset, percents=(0.05, 0.05, 0.10)):\n",
        "#     return np.concatenate(make_noise_sets(dataset, percents), axis=0)"
      ]
    },
    {
      "cell_type": "markdown",
      "metadata": {
        "id": "A9ljzV2uKGDi"
      },
      "source": [
        "### 1.2.5 Resize dataset and split into train/val\n",
        "combine_dataset(normal_dataset, noise_dataset),  \n",
        "resize_dataset(dataset, size),  \n",
        "split_dataset(dataset, training_percent),  \n",
        "full_data_prep(dataset, noise_percents, training_percent, image_size)\n"
      ]
    },
    {
      "cell_type": "markdown",
      "metadata": {
        "id": "7nT-IjDZq6_4"
      },
      "source": [
        "Combine Noise_set with Normal_set.  \n",
        "Generate 80% dataset for training; 20% dataset for testing.  \n",
        "Shuffle training set and test set."
      ]
    },
    {
      "cell_type": "code",
      "execution_count": 571,
      "metadata": {
        "id": "Qorf8UAIAUnJ"
      },
      "outputs": [],
      "source": [
        "def combine_dataset(normal_dataset, noise_dataset):\n",
        "    return np.concatenate((normal_dataset, noise_dataset), axis=0)"
      ]
    },
    {
      "cell_type": "code",
      "execution_count": 572,
      "metadata": {
        "id": "SiPS7V3g_CED"
      },
      "outputs": [],
      "source": [
        "def resize_dataset(dataset, size=256):\n",
        "    resized_images = []\n",
        "    for img, label in dataset:\n",
        "      resized_img = cv2.resize(img, (size, size))    \n",
        "      resized_images.append([resized_img, label])\n",
        "    return np.array(resized_images)"
      ]
    },
    {
      "cell_type": "code",
      "execution_count": 573,
      "metadata": {
        "id": "nP8lw2-rPXgA"
      },
      "outputs": [],
      "source": [
        "def split_dataset(dataset, training_percent=0.8):\n",
        "    dataset_copy = np.copy(dataset)\n",
        "    np.random.shuffle(dataset_copy)\n",
        "    row_number = round(training_percent*dataset_copy.shape[0])\n",
        "\n",
        "    training_set = dataset_copy[0:row_number,:]\n",
        "    testing_set = dataset_copy[row_number:,:]\n",
        "    return training_set, testing_set"
      ]
    },
    {
      "cell_type": "code",
      "execution_count": 574,
      "metadata": {
        "id": "uNJz7vLPmfIV"
      },
      "outputs": [],
      "source": [
        "# def full_data_prep(dataset, noise_percents=(0.05, 0.05, 0.10), training_percent=0.8, image_size=256):\n",
        "#     noise_dataset = make_full_noise_set(dataset, noise_percents)\n",
        "#     combined_dataset = combine_dataset(dataset, noise_dataset)\n",
        "#     resized_dataset = resize_dataset(combined_dataset, image_size)\n",
        "#     training_data, testing_data = split_dataset(resized_dataset, training_percent)\n",
        "#     return training_data, testing_data"
      ]
    },
    {
      "cell_type": "markdown",
      "metadata": {
        "id": "E-lPql57mxkJ"
      },
      "source": [
        "### 1.2.6 Notes about Datasets"
      ]
    },
    {
      "cell_type": "markdown",
      "metadata": {
        "id": "EGxLmuk6q_Zi"
      },
      "source": [
        "*   Three major datasets (Decks, Pavements, Walls) have been **added with noise images** (5% adding white edge, 5% flipping, 10% blurring) without replacing original images.\n",
        "*   Three major datasets (Decks, Pavements, Walls) **are shuffled**. \n",
        "*   Each set is separated as **80% tranning set and 20% testing set** for our model\n",
        "\n",
        "\n",
        "1.   *   Decks_training_dataset\n",
        "     *   Decks_testing_dataset\n",
        "2.   *   Pavements_training_dataset\n",
        "     *   Pavements_testing_dataset\n",
        "3.   *   Walls_training_dataset\n",
        "     *   Walls_testing_dataset\n",
        "\n",
        "*   Each dataset is a **[Nx2] array**, N is the number of datapoints for each set.\n",
        "*   The first column of array contain images array with the **same size (256 x 256)**\n",
        "*   The second column of array contain **0 (negative)** or **1 (positive)** as Ground Truth"
      ]
    },
    {
      "cell_type": "markdown",
      "source": [
        "### 1.2.7 Updated data processing functions"
      ],
      "metadata": {
        "id": "A5ODp-9xr24H"
      }
    },
    {
      "cell_type": "code",
      "source": [
        "def apply_edge_detection(image, sigma=1.5):\n",
        "    edges = feature.canny(image, sigma)\n",
        "    return edges"
      ],
      "metadata": {
        "id": "8bOc2k1Dwy3w"
      },
      "execution_count": 575,
      "outputs": []
    },
    {
      "cell_type": "code",
      "source": [
        "def make_edge_dataset(dataset, sigma=1.5):\n",
        "    edge_images = []\n",
        "    for image, label in dataset:\n",
        "      edge_image = apply_edge_detection(image, sigma)    \n",
        "      edge_images.append([edge_image, label])\n",
        "    return np.array(edge_images)"
      ],
      "metadata": {
        "id": "NQk_K0yLwzsS"
      },
      "execution_count": 576,
      "outputs": []
    },
    {
      "cell_type": "code",
      "source": [
        "# Returns a balanced dataset with 50% of each class\n",
        "# by randomly sampling from the original dataset and\n",
        "# applying flips to the cracked data, then\n",
        "# dumping images if greater than the desired size (should be)\n",
        "def balance_data(dataset, size=20000):\n",
        "    positive_set, negative_set = split_by_label(dataset)\n",
        "    new_pos_set = processing_increase_set(positive_set)\n",
        "    new_pos_set = combine_dataset(positive_set, new_pos_set)\n",
        "\n",
        "    desired_size_per_label = size/2\n",
        "    pos_size = len(new_pos_set)\n",
        "    neg_size = len(negative_set)\n",
        "    pos_percent = desired_size_per_label / pos_size\n",
        "    assert pos_percent <= 1\n",
        "    neg_percent = desired_size_per_label / neg_size\n",
        "    assert neg_percent <= 1\n",
        "\n",
        "    new_pos_set = random_select(new_pos_set, pos_percent)\n",
        "    new_neg_set = random_select(negative_set, neg_percent)\n",
        "    assert len(new_pos_set) == len(new_neg_set)\n",
        "\n",
        "    print(\"%d positive samples, %d negative samples\" %(len(new_pos_set), len(new_neg_set)))\n",
        "\n",
        "    return combine_dataset(new_pos_set, new_neg_set)"
      ],
      "metadata": {
        "id": "ctG_bghYr9qd"
      },
      "execution_count": 577,
      "outputs": []
    },
    {
      "cell_type": "code",
      "source": [
        "# Given the raw dataset:\n",
        "# 1. scale images down\n",
        "# 2. apply canny edge detection\n",
        "# 3. balance numbers of each class\n",
        "# 4a. apply pca to get new features OR\n",
        "# 4b. flatten image data into one array\n",
        "# 5. split into train + test\n",
        "def full_prep_suite(dataset, dataset_size=20000, img_size=256, train_percent=0.80, pca_k=8, sigma=1.5, use_pca=True):\n",
        "    print(\"Resizing images to %d x %d...\" % (img_size, img_size))\n",
        "    dataset = resize_dataset(dataset, img_size)\n",
        "    print(\"Making edge images with sigma = %.1f...\" % sigma)\n",
        "    dataset = make_edge_dataset(dataset)\n",
        "    print(\"Balancing set to %d...\" % dataset_size)\n",
        "    dataset = balance_data(dataset, dataset_size)\n",
        "    if use_pca:\n",
        "        print(\"Applying pca with %d components...\" % pca_k)\n",
        "        dataset = get_pca_data(dataset, pca_k)\n",
        "    else:\n",
        "        print(\"Flattening data...\")\n",
        "        dataset = flatten_data(dataset)\n",
        "    print(\"Splitting data into %.1f%% training, %.1f%% testing...\" % (train_percent * 100, (1 - train_percent) * 100))\n",
        "    train_data, test_data = split_dataset(dataset, train_percent)\n",
        "    return train_data, test_data"
      ],
      "metadata": {
        "id": "ijHOI8CivXDm"
      },
      "execution_count": 578,
      "outputs": []
    },
    {
      "cell_type": "markdown",
      "metadata": {
        "id": "L2xY7hw9sKyM"
      },
      "source": [
        "# 2 Data\n",
        "Execute functions defined in 1 to properly load the data.  \n",
        "This will take some time.\n",
        "(Should we consider using pandas dataframes to speed up the data loading step?)"
      ]
    },
    {
      "cell_type": "markdown",
      "metadata": {
        "id": "dyfwn1LZfGO-"
      },
      "source": [
        "## 2.1 Load and prepare data\n",
        "Call the functions defined in 1.  \n",
        "Currently, you should just load the **Decks** data while testing."
      ]
    },
    {
      "cell_type": "code",
      "execution_count": 579,
      "metadata": {
        "colab": {
          "base_uri": "https://localhost:8080/"
        },
        "id": "-MJGsoaslVib",
        "outputId": "08fb043b-bfe9-46af-b96a-f180e2a81d97"
      },
      "outputs": [
        {
          "output_type": "stream",
          "name": "stderr",
          "text": [
            "100%|██████████| 11358/11358 [01:02<00:00, 181.52it/s]\n",
            "100%|██████████| 2025/2025 [00:09<00:00, 208.94it/s]\n",
            "<ipython-input-549-bc38c52b9269>:16: VisibleDeprecationWarning: Creating an ndarray from ragged nested sequences (which is a list-or-tuple of lists-or-tuples-or ndarrays with different lengths or shapes) is deprecated. If you meant to do this, you must specify 'dtype=object' when creating the ndarray.\n",
            "  return np.array(img_data)\n"
          ]
        }
      ],
      "source": [
        "DIR1 = '/content/drive/MyDrive/archive/Decks'\n",
        "dataset_Decks = load_image(DIR1)"
      ]
    },
    {
      "cell_type": "code",
      "execution_count": 580,
      "metadata": {
        "id": "QFQeJszWlaJa"
      },
      "outputs": [],
      "source": [
        "# DIR2 = '/content/drive/MyDrive/archive/Pavements'\n",
        "# dataset_Pavements = load_image(DIR2)"
      ]
    },
    {
      "cell_type": "code",
      "execution_count": 581,
      "metadata": {
        "id": "zgLISPkslcTE"
      },
      "outputs": [],
      "source": [
        "# DIR3 = '/content/drive/MyDrive/archive/Walls'\n",
        "# dataset_Walls = load_image(DIR3)"
      ]
    },
    {
      "cell_type": "code",
      "source": [
        "# these are optional parameters for this method which can be played around with\n",
        "dataset_size = 20000\n",
        "img_size = 64\n",
        "train_percent = 0.80\n",
        "pca_k = 5\n",
        "sigma = 1.0\n",
        "use_pca = False"
      ],
      "metadata": {
        "id": "0GoJFit23Eln"
      },
      "execution_count": 582,
      "outputs": []
    },
    {
      "cell_type": "code",
      "source": [
        "training_data, val_data = full_prep_suite(dataset_Decks, dataset_size, img_size, train_percent, pca_k, sigma, use_pca)"
      ],
      "metadata": {
        "colab": {
          "base_uri": "https://localhost:8080/"
        },
        "id": "udzmq0AlyI9I",
        "outputId": "61b5fc6e-19d4-4dcb-ab87-8f5036957756"
      },
      "execution_count": 583,
      "outputs": [
        {
          "output_type": "stream",
          "name": "stdout",
          "text": [
            "Resizing images to 64 x 64...\n"
          ]
        },
        {
          "output_type": "stream",
          "name": "stderr",
          "text": [
            "<ipython-input-572-0c064896ec56>:6: VisibleDeprecationWarning: Creating an ndarray from ragged nested sequences (which is a list-or-tuple of lists-or-tuples-or ndarrays with different lengths or shapes) is deprecated. If you meant to do this, you must specify 'dtype=object' when creating the ndarray.\n",
            "  return np.array(resized_images)\n"
          ]
        },
        {
          "output_type": "stream",
          "name": "stdout",
          "text": [
            "Making edge images with sigma = 1.0...\n",
            "Balancing set to 20000...\n",
            "2025 11358\n",
            "10000 positive samples, 10000 negative samples\n",
            "Flattening data...\n",
            "Splitting data into 80.0% training, 20.0% testing...\n"
          ]
        },
        {
          "output_type": "stream",
          "name": "stderr",
          "text": [
            "<ipython-input-554-91c03b660c74>:5: VisibleDeprecationWarning: Creating an ndarray from ragged nested sequences (which is a list-or-tuple of lists-or-tuples-or ndarrays with different lengths or shapes) is deprecated. If you meant to do this, you must specify 'dtype=object' when creating the ndarray.\n",
            "  return np.array(data)\n"
          ]
        }
      ]
    },
    {
      "cell_type": "code",
      "source": [
        "def visualize_deck_pca_data():\n",
        "    dataset, _ = full_prep_suite(dataset_Decks, dataset_size=20000, img_size=64, train_percent=1.0, pca_k=2, sigma=1.0)\n",
        "    fig = plt.figure()\n",
        "    plt.title('Visualization of Deck training dataset with 2 pca components')\n",
        "    plt.xlabel(\"Feature 1\")\n",
        "    plt.ylabel(\"Feature 2\")\n",
        "\n",
        "    pos, neg = split_by_label(dataset)\n",
        "    pos_x = []\n",
        "    pos_y = []\n",
        "    for sample in pos:\n",
        "        pos_x.append(sample[0][0])\n",
        "        pos_y.append(sample[0][1])\n",
        "          \n",
        "    neg_x = []\n",
        "    neg_y = []\n",
        "    for sample in neg:\n",
        "        neg_x.append(sample[0][0])\n",
        "        neg_y.append(sample[0][1])\n",
        "\n",
        "        \n",
        "    plt.scatter(pos_x, pos_y, c='blue', label=\"Cracked\", marker=\"x\")\n",
        "\n",
        "    plt.scatter(neg_x, neg_y, c='red', label=\"Uncracked\", marker=\"x\")\n",
        "    plt.legend()\n",
        "    plt.show()"
      ],
      "metadata": {
        "id": "pCMC_gsp5uVg"
      },
      "execution_count": 584,
      "outputs": []
    },
    {
      "cell_type": "code",
      "source": [
        "def test_edge_detection(image):\n",
        "    # sample code taken from https://scikit-image.org/docs/stable/auto_examples/edges/plot_canny.html\n",
        "    edges1 = feature.canny(image, sigma=1)\n",
        "    edges2 = feature.canny(image, sigma=2)\n",
        "\n",
        "    # display results\n",
        "    fig, ax = plt.subplots(nrows=1, ncols=3, figsize=(8, 3))\n",
        "\n",
        "    ax[0].imshow(image, cmap='gray')\n",
        "    ax[0].set_title('original image', fontsize=20)\n",
        "\n",
        "    ax[1].imshow(edges1, cmap='gray')\n",
        "    ax[1].set_title(r'Canny filter, $\\sigma=1$', fontsize=20)\n",
        "\n",
        "    ax[2].imshow(edges2, cmap='gray')\n",
        "    ax[2].set_title(r'Canny filter, $\\sigma=2$', fontsize=20)\n",
        "\n",
        "    for a in ax:\n",
        "        a.axis('off')\n",
        "\n",
        "    fig.tight_layout()\n",
        "    plt.show()"
      ],
      "metadata": {
        "id": "8N3rf3I4sFUh"
      },
      "execution_count": 585,
      "outputs": []
    },
    {
      "cell_type": "code",
      "source": [
        "visualize_deck_pca_data()"
      ],
      "metadata": {
        "id": "oFkhF5AX-Bdh",
        "colab": {
          "base_uri": "https://localhost:8080/",
          "height": 0
        },
        "outputId": "2d5b0556-fdc1-4e00-f92b-e80c79e0e031"
      },
      "execution_count": 586,
      "outputs": [
        {
          "output_type": "stream",
          "name": "stdout",
          "text": [
            "Resizing images to 64 x 64...\n"
          ]
        },
        {
          "output_type": "stream",
          "name": "stderr",
          "text": [
            "<ipython-input-572-0c064896ec56>:6: VisibleDeprecationWarning: Creating an ndarray from ragged nested sequences (which is a list-or-tuple of lists-or-tuples-or ndarrays with different lengths or shapes) is deprecated. If you meant to do this, you must specify 'dtype=object' when creating the ndarray.\n",
            "  return np.array(resized_images)\n"
          ]
        },
        {
          "output_type": "stream",
          "name": "stdout",
          "text": [
            "Making edge images with sigma = 1.0...\n",
            "Balancing set to 20000...\n",
            "2025 11358\n",
            "10000 positive samples, 10000 negative samples\n",
            "Applying pca with 2 components...\n",
            "Explained variance ratio:\n",
            "[0.06124203 0.01324471]\n"
          ]
        },
        {
          "output_type": "stream",
          "name": "stderr",
          "text": [
            "<ipython-input-556-8640eb67d26f>:10: VisibleDeprecationWarning: Creating an ndarray from ragged nested sequences (which is a list-or-tuple of lists-or-tuples-or ndarrays with different lengths or shapes) is deprecated. If you meant to do this, you must specify 'dtype=object' when creating the ndarray.\n",
            "  return np.array(data)\n"
          ]
        },
        {
          "output_type": "stream",
          "name": "stdout",
          "text": [
            "Splitting data into 100.0% training, 0.0% testing...\n",
            "10000 10000\n"
          ]
        },
        {
          "output_type": "display_data",
          "data": {
            "text/plain": [
              "<Figure size 432x288 with 1 Axes>"
            ],
            "image/png": "[encoded data removed]"
          },
          "metadata": {
            "needs_background": "light"
          }
        }
      ]
    },
    {
      "cell_type": "code",
      "source": [
        "cracked_samples, _ = split_by_label(dataset_Decks)\n",
        "cracked_samples = resize_dataset(cracked_samples, 64)\n",
        "for i in range(5):\n",
        "    test_edge_detection(cracked_samples[random.randint(0,2000)][0])"
      ],
      "metadata": {
        "id": "gh4wnNofssyP",
        "colab": {
          "base_uri": "https://localhost:8080/",
          "height": 0
        },
        "outputId": "83dbb148-0add-4457-f706-49721c39851e"
      },
      "execution_count": 587,
      "outputs": [
        {
          "output_type": "stream",
          "name": "stdout",
          "text": [
            "2025 11358\n"
          ]
        },
        {
          "output_type": "stream",
          "name": "stderr",
          "text": [
            "<ipython-input-572-0c064896ec56>:6: VisibleDeprecationWarning: Creating an ndarray from ragged nested sequences (which is a list-or-tuple of lists-or-tuples-or ndarrays with different lengths or shapes) is deprecated. If you meant to do this, you must specify 'dtype=object' when creating the ndarray.\n",
            "  return np.array(resized_images)\n"
          ]
        },
        {
          "output_type": "display_data",
          "data": {
            "text/plain": [
              "<Figure size 576x216 with 3 Axes>"
            ],
            "image/png": "[encoded data removed]"
          },
          "metadata": {
            "needs_background": "light"
          }
        },
        {
          "output_type": "display_data",
          "data": {
            "text/plain": [
              "<Figure size 576x216 with 3 Axes>"
            ],
            "image/png": "[encoded data removed]"
          },
          "metadata": {
            "needs_background": "light"
          }
        },
        {
          "output_type": "display_data",
          "data": {
            "text/plain": [
              "<Figure size 576x216 with 3 Axes>"
            ],
            "image/png": "[encoded data removed]"
          },
          "metadata": {
            "needs_background": "light"
          }
        },
        {
          "output_type": "display_data",
          "data": {
            "text/plain": [
              "<Figure size 576x216 with 3 Axes>"
            ],
            "image/png": "[encoded data removed]"
          },
          "metadata": {
            "needs_background": "light"
          }
        },
        {
          "output_type": "display_data",
          "data": {
            "text/plain": [
              "<Figure size 576x216 with 3 Axes>"
            ],
            "image/png": "[encoded data removed]"
          },
          "metadata": {
            "needs_background": "light"
          }
        }
      ]
    },
    {
      "cell_type": "code",
      "source": [
        "cracked_samples = None # clear ram"
      ],
      "metadata": {
        "id": "fSwO6ZJsjhet"
      },
      "execution_count": 588,
      "outputs": []
    },
    {
      "cell_type": "markdown",
      "metadata": {
        "id": "dcbLXo50eIsY"
      },
      "source": [
        "# 3 Model"
      ]
    },
    {
      "cell_type": "markdown",
      "metadata": {
        "id": "tlfliN0J-RzV"
      },
      "source": [
        "## 3.1 Model setup\n",
        "Define hyperparameters, model architecture"
      ]
    },
    {
      "cell_type": "code",
      "execution_count": 589,
      "metadata": {
        "id": "2P5SHabu3_yf"
      },
      "outputs": [],
      "source": [
        "INPUT_DIM = pca_k\n",
        "if not use_pca:\n",
        "    INPUT_DIM = img_size ** 2\n",
        "BUFFER_DIM = 20\n",
        "HIDDEN_DIM = 12\n",
        "OUTPUT_DIM = 1\n",
        "LEARNING_RATE = 0.0001\n",
        "EPOCHS = 5\n",
        "HIDDEN_LAYERS = 3\n",
        "ALPHA = 0.01"
      ]
    },
    {
      "cell_type": "code",
      "execution_count": 590,
      "metadata": {
        "id": "aCa30HQb3_ym"
      },
      "outputs": [],
      "source": [
        "class CrackDetectionModel(nn.Module):\n",
        "    def __init__(self, input_dim, buffer_dim, hidden_dim, output_dim, hidden_layers, alpha):\n",
        "        super(CrackDetectionModel, self).__init__()\n",
        "\n",
        "        self.hidden_lls = []\n",
        "        self.input_ll = nn.Linear(input_dim, buffer_dim)\n",
        "        self.buffer_ll = nn.Linear(buffer_dim, hidden_dim)\n",
        "        self.leaky_relu = nn.LeakyReLU(alpha)\n",
        "\n",
        "        for i in range(hidden_layers):\n",
        "            hidden_ll = nn.Linear(hidden_dim, hidden_dim)\n",
        "            self.hidden_lls.append(hidden_ll)\n",
        "\n",
        "        self.hidden_lls = nn.ModuleList(self.hidden_lls)\n",
        "        self.output_ll = nn.Linear(hidden_dim, output_dim)\n",
        "        self.sigmoid_out = nn.Sigmoid()\n",
        "\n",
        "    def forward(self, input):\n",
        "        # this is the function that gets called for training/eval;\n",
        "        # model(input) will call this function\n",
        "        \n",
        "        input = self.leaky_relu(self.input_ll(input))\n",
        "        input = self.leaky_relu(self.buffer_ll(input))\n",
        "        for i in range(len(self.hidden_lls)):\n",
        "            input = self.leaky_relu(self.hidden_lls[i](input))\n",
        "        output = self.sigmoid_out(self.output_ll(input))\n",
        "        # the returned input represents the unadjusted score of the model\n",
        "        return output, self.output_ll(input)"
      ]
    },
    {
      "cell_type": "markdown",
      "metadata": {
        "id": "VNq63U90axMU"
      },
      "source": [
        "## 3.2 Define loops"
      ]
    },
    {
      "cell_type": "code",
      "execution_count": 591,
      "metadata": {
        "id": "BWMGxh4Z3_yv"
      },
      "outputs": [],
      "source": [
        "def train(epoch, model, loss_function, optimizer):\n",
        "    model.train()\n",
        "    train_loss = 0\n",
        "    train_examples = 0\n",
        "    correct = 0\n",
        "\n",
        "    # this statement will need to be adjusted once we know more about the\n",
        "    # shape of our data after processing\n",
        "    for input, ground_truth_label in training_data:\n",
        "\n",
        "        optimizer.zero_grad()\n",
        "\n",
        "        # send to GPU, if active; assumes input is a tensor\n",
        "        input = torch.Tensor(input).to(device)\n",
        "        # may need to have additional input prep in the train loop\n",
        "        # (e.g. when input is not a tensor)\n",
        "\n",
        "        predicted_score, _ = model(input)\n",
        "        \n",
        "        # because BCE loss works with batch training, it expects\n",
        "        # tensor input. we aren't doing batches, but the label still\n",
        "        # needs to be in a tensor. change this if we switch to batches.\n",
        "\n",
        "        ground_truth_label = torch.Tensor([ground_truth_label]).to(device)\n",
        "\n",
        "        loss = loss_function(predicted_score, ground_truth_label)\n",
        "        \n",
        "        # update model parameters\n",
        "        loss.backward()\n",
        "        optimizer.step()\n",
        "\n",
        "        train_loss += loss.item()\n",
        "        train_examples += 1\n",
        "        # assumes only 1 example per loop currently\n",
        "\n",
        "        predicted_label = round(predicted_score.item())\n",
        "\n",
        "        # add 1 if the same, add 0 if different\n",
        "        correct += int(predicted_label == ground_truth_label)\n",
        "\n",
        "    train_accuracy = 100.0 * correct / train_examples\n",
        "    avg_train_loss = train_loss / train_examples\n",
        "    avg_val_loss, val_accuracy = evaluate(model, loss_function)\n",
        "        \n",
        "    print(\"Epoch: {}/{}\\tAvg Train Loss: {:.4f}\\tAvg Val Loss: {:.4f}\\t Train Accuracy: {:.0f}\\t Val Accuracy: {:.0f}\".format(epoch, \n",
        "                                                                      EPOCHS, \n",
        "                                                                      avg_train_loss, \n",
        "                                                                      avg_val_loss,\n",
        "                                                                      train_accuracy,\n",
        "                                                                      val_accuracy))"
      ]
    },
    {
      "cell_type": "code",
      "execution_count": 592,
      "metadata": {
        "id": "n3n0hfmJfqLM"
      },
      "outputs": [],
      "source": [
        "def evaluate(model, loss_function):\n",
        "    model.eval()\n",
        "    correct = 0\n",
        "    val_loss = 0\n",
        "    val_examples = 0\n",
        "    with torch.no_grad():\n",
        "        for input, ground_truth_label in val_data:\n",
        "\n",
        "            # val loop should look very similar to train loop\n",
        "\n",
        "            # send to GPU, if active; assumes input is a tensor\n",
        "            input = torch.Tensor(input).to(device)\n",
        "            # may need to have additional input prep in the val loop\n",
        "            # (e.g. when input is not a tensor)\n",
        "\n",
        "            predicted_score, _ = model(input)\n",
        "            \n",
        "            # see above note about BCE loss\n",
        "            ground_truth_label = torch.Tensor([ground_truth_label]).to(device)\n",
        "            \n",
        "            loss = loss_function(predicted_score, ground_truth_label)\n",
        "            \n",
        "            # for multi-class this will need to be argmax\n",
        "            # (only works for binary classification; 0 and 1 labels)\n",
        "            predicted_label = round(predicted_score.item())\n",
        "\n",
        "            # add 1 if the same, add 0 if different\n",
        "            correct += int(predicted_label == ground_truth_label)\n",
        "\n",
        "            val_loss += loss.item()\n",
        "            val_examples += 1\n",
        "            # assume one example per loop\n",
        "\n",
        "\n",
        "    val_accuracy = 100.0 * correct / val_examples\n",
        "    avg_val_loss = val_loss / val_examples\n",
        "    return avg_val_loss, val_accuracy"
      ]
    },
    {
      "cell_type": "markdown",
      "metadata": {
        "id": "OGyGTqF_1aWw"
      },
      "source": [
        "## 3.3 Misc model functions\n",
        "Just model saving, so far."
      ]
    },
    {
      "cell_type": "code",
      "execution_count": 593,
      "metadata": {
        "id": "LSsdKIiywZDX"
      },
      "outputs": [],
      "source": [
        "def save_model(model, model_name, version):\n",
        "  path = f'/content/drive/My Drive/Machine Learning Models/Crack Detection/{model_name}_ver_{version}.pth'\n",
        "  print(f'Saving {model_name} model...')\n",
        "  torch.save(model.state_dict(), path)\n",
        "  print(f'{model_name} saved successfully.')"
      ]
    },
    {
      "cell_type": "markdown",
      "metadata": {
        "id": "Ot9J3MrB3_ys"
      },
      "source": [
        "# 4 Execution"
      ]
    },
    {
      "cell_type": "markdown",
      "metadata": {
        "id": "Sv9I76MafhaD"
      },
      "source": [
        "## 4.1 Train with default params"
      ]
    },
    {
      "cell_type": "code",
      "execution_count": 594,
      "metadata": {
        "id": "lsuHjjH1rQeS",
        "colab": {
          "base_uri": "https://localhost:8080/"
        },
        "outputId": "17b7a2d9-8bef-4002-f61d-4adca3ab0763"
      },
      "outputs": [
        {
          "output_type": "stream",
          "name": "stdout",
          "text": [
            "Epoch: 1/5\tAvg Train Loss: 0.6692\tAvg Val Loss: 0.6395\t Train Accuracy: 60\t Val Accuracy: 65\n",
            "Epoch: 2/5\tAvg Train Loss: 0.6036\tAvg Val Loss: 0.5905\t Train Accuracy: 68\t Val Accuracy: 69\n",
            "Epoch: 3/5\tAvg Train Loss: 0.5186\tAvg Val Loss: 0.5736\t Train Accuracy: 72\t Val Accuracy: 70\n",
            "Epoch: 4/5\tAvg Train Loss: 0.4645\tAvg Val Loss: 0.5788\t Train Accuracy: 74\t Val Accuracy: 71\n",
            "Epoch: 5/5\tAvg Train Loss: 0.4338\tAvg Val Loss: 0.6007\t Train Accuracy: 76\t Val Accuracy: 71\n"
          ]
        }
      ],
      "source": [
        "# lots of optimizers and loss functions to choose from; not restricted to these\n",
        "\n",
        "model = CrackDetectionModel(INPUT_DIM, BUFFER_DIM, HIDDEN_DIM, OUTPUT_DIM, HIDDEN_LAYERS, ALPHA).to(device)\n",
        "optimizer = optim.Adam(model.parameters(), lr=LEARNING_RATE)\n",
        "loss_function = nn.BCELoss().to(device)\n",
        "# BCE loss expects tensor input, because it's designed for batches.\n",
        "# We aren't currently running batches. \n",
        "\n",
        "for epoch in range(1, EPOCHS + 1): \n",
        "    train(epoch, model, loss_function, optimizer)"
      ]
    },
    {
      "cell_type": "code",
      "execution_count": null,
      "metadata": {
        "id": "gW4SM8h_wlfJ"
      },
      "outputs": [],
      "source": [
        "ver = 0\n",
        "name = 'no_pca_edges_deck_64x64'\n",
        "save_model(model, name, ver)"
      ]
    },
    {
      "cell_type": "markdown",
      "metadata": {
        "id": "4aCEtdIAg7me"
      },
      "source": [
        "# 5 Classification Analysis"
      ]
    },
    {
      "cell_type": "code",
      "execution_count": 595,
      "metadata": {
        "id": "c0VLFGYHk9kx"
      },
      "outputs": [],
      "source": [
        "def get_labels():\n",
        "    actual_labels = []\n",
        "    predicted_labels = []\n",
        "    for img, label in val_data:\n",
        "        actual_labels.append(label)\n",
        "        prediction, _ = model(torch.Tensor(img).to(device))\n",
        "        predicted_labels.append(round(prediction.item()))\n",
        "    return np.array(actual_labels), np.array(predicted_labels)"
      ]
    },
    {
      "cell_type": "markdown",
      "metadata": {
        "id": "ZqUW0XNdoYfX"
      },
      "source": [
        "below, I just copied inshira's code so that the original is preserved"
      ]
    },
    {
      "cell_type": "code",
      "execution_count": 596,
      "metadata": {
        "id": "YWlE61WklZk9"
      },
      "outputs": [],
      "source": [
        "from sklearn.metrics import log_loss\n",
        "from sklearn.metrics import confusion_matrix\n",
        "from sklearn.metrics import classification_report\n",
        "from sklearn.metrics import roc_curve, roc_auc_score\n",
        "from sklearn.metrics import accuracy_score\n",
        "from sklearn.metrics import ConfusionMatrixDisplay"
      ]
    },
    {
      "cell_type": "code",
      "execution_count": 597,
      "metadata": {
        "id": "KikHB9G6oOMn"
      },
      "outputs": [],
      "source": [
        "actual_labels, predicted_labels = get_labels()"
      ]
    },
    {
      "cell_type": "code",
      "execution_count": 598,
      "metadata": {
        "id": "ClsvqOV9n_c4",
        "colab": {
          "base_uri": "https://localhost:8080/",
          "height": 0
        },
        "outputId": "3e2e2710-ff9a-42c6-f5ec-b779e2aad845"
      },
      "outputs": [
        {
          "output_type": "stream",
          "name": "stdout",
          "text": [
            "[[1846  144]\n",
            " [1014  996]]\n"
          ]
        },
        {
          "output_type": "display_data",
          "data": {
            "text/plain": [
              "<Figure size 432x288 with 2 Axes>"
            ],
            "image/png": "[encoded data removed]"
          },
          "metadata": {
            "needs_background": "light"
          }
        }
      ],
      "source": [
        "conFusMat = confusion_matrix(actual_labels, predicted_labels)\n",
        "print(conFusMat)\n",
        "cm_display = ConfusionMatrixDisplay(confusion_matrix = conFusMat, display_labels = [\"Uncracked\", \"Cracked\"])\n",
        "\n",
        "cm_display.plot()\n",
        "plt.show()"
      ]
    },
    {
      "cell_type": "code",
      "execution_count": 599,
      "metadata": {
        "id": "XX97LpiUnIpV",
        "colab": {
          "base_uri": "https://localhost:8080/"
        },
        "outputId": "e8c985e7-ccca-4089-9640-e1ac539fcae4"
      },
      "outputs": [
        {
          "output_type": "stream",
          "name": "stdout",
          "text": [
            "              precision    recall  f1-score   support\n",
            "\n",
            "   Uncracked       0.65      0.93      0.76      1990\n",
            "     Cracked       0.87      0.50      0.63      2010\n",
            "\n",
            "    accuracy                           0.71      4000\n",
            "   macro avg       0.76      0.71      0.70      4000\n",
            "weighted avg       0.76      0.71      0.70      4000\n",
            "\n"
          ]
        }
      ],
      "source": [
        "print(classification_report(actual_labels, predicted_labels, target_names=[\"Uncracked\", \"Cracked\"]))"
      ]
    },
    {
      "cell_type": "code",
      "execution_count": 600,
      "metadata": {
        "id": "S5wPmJtVngKP",
        "colab": {
          "base_uri": "https://localhost:8080/"
        },
        "outputId": "306496e7-6a19-4af9-b9e1-9d0d890f0029"
      },
      "outputs": [
        {
          "output_type": "stream",
          "name": "stdout",
          "text": [
            "9.99900455183413\n"
          ]
        }
      ],
      "source": [
        "print(log_loss(actual_labels, predicted_labels))"
      ]
    },
    {
      "cell_type": "code",
      "execution_count": 601,
      "metadata": {
        "id": "jMlO5-SNnWxo",
        "colab": {
          "base_uri": "https://localhost:8080/"
        },
        "outputId": "caaa8746-eb50-4bde-a9ae-41cc44c98ef5"
      },
      "outputs": [
        {
          "output_type": "stream",
          "name": "stdout",
          "text": [
            "0.7115802895072377\n"
          ]
        }
      ],
      "source": [
        "print(roc_auc_score(actual_labels, predicted_labels))"
      ]
    },
    {
      "cell_type": "code",
      "execution_count": 602,
      "metadata": {
        "id": "IyQezTmGnjv_",
        "colab": {
          "base_uri": "https://localhost:8080/",
          "height": 0
        },
        "outputId": "7dcca1b9-7bfc-46fa-f89f-2ccc8b7bd6ff"
      },
      "outputs": [
        {
          "output_type": "display_data",
          "data": {
            "text/plain": [
              "<Figure size 432x432 with 1 Axes>"
            ],
            "image/png": "[encoded data removed]"
          },
          "metadata": {
            "needs_background": "light"
          }
        }
      ],
      "source": [
        "fpr, tpr, threshold = roc_curve(actual_labels, predicted_labels)\n",
        "plt.subplots(1,figsize=(6,6))\n",
        "plt.title(\"ROC\")\n",
        "plt.plot(fpr,tpr)\n",
        "plt.plot([0,1], ls=\"--\")\n",
        "plt.plot([0,0], [1,0], c=\".7\"), plt.plot([1,1], c=\".7\")\n",
        "plt.ylabel(\"True Pos Rate\")\n",
        "plt.xlabel(\"False Pos Rate\")\n",
        "plt.show()"
      ]
    },
    {
      "cell_type": "markdown",
      "source": [
        "# 5.5 Unsupervised learning old setup\n",
        "\n",
        "\n",
        "\n",
        "\n"
      ],
      "metadata": {
        "id": "TYwYm4VfoOlw"
      }
    },
    {
      "cell_type": "code",
      "source": [
        "# #filter out cracked images from dataset_Decks\n",
        "# test_1=np.where(dataset_Decks[:,1]==1)\n",
        "# cracked_Decks_ori=dataset_Decks[test_1]"
      ],
      "metadata": {
        "id": "9OpNG9bxodHF"
      },
      "execution_count": null,
      "outputs": []
    },
    {
      "cell_type": "code",
      "source": [
        "# # In order to avoid using same cracked images\n",
        "# # Apply flip_3 function to cracked images\n",
        "\n",
        "# def flip_3(data):\n",
        "#     flipped = np.flip(data, axis = 1) \n",
        "\n",
        "#     return flipped\n",
        "\n",
        "# cracked_Decks = flip_3(cracked_Decks_ori)"
      ],
      "metadata": {
        "id": "7zl_Q_suojWW"
      },
      "execution_count": null,
      "outputs": []
    },
    {
      "cell_type": "code",
      "source": [
        "# image_size = 128\n",
        "# k = 4\n",
        "# # extract score value from model's function\n",
        "# cracked_Decks_2 = get_pca_data(resize_dataset(dataset_Decks, size=image_size),k)\n",
        "# cracked_Decks_score_list = []\n",
        "# for input, ground_truth_label in cracked_Decks_2:\n",
        "#     input = torch.Tensor(input).to(device)\n",
        "#     BL_score = model(input)\n",
        "#     cracked_Decks_score_list.append(BL_score.item())\n",
        "\n",
        "# cracked_Decks_score_list"
      ],
      "metadata": {
        "id": "Numh4AbVqQFe"
      },
      "execution_count": null,
      "outputs": []
    },
    {
      "cell_type": "markdown",
      "source": [
        "# 6 Clustering\n",
        "Just cleaning up code found elsewhere"
      ],
      "metadata": {
        "id": "BZXETA1JkiFW"
      }
    },
    {
      "cell_type": "code",
      "source": [
        "# def apply_pca(X, k=4):\n",
        "#     pca = PCA(n_components=k)\n",
        "#     X = pca.fit_transform(X)\n",
        "#     print(\"Explained variance ratio:\")\n",
        "#     print(pca.explained_variance_ratio_)\n",
        "#     return X"
      ],
      "metadata": {
        "id": "3Kd6hvWbHaPO"
      },
      "execution_count": 603,
      "outputs": []
    },
    {
      "cell_type": "code",
      "source": [
        "# OLD, uses PCA and aims to cluster based on class ID\n",
        "# def prepare_data_for_clustering(dataset):\n",
        "#     edge_pixels = []\n",
        "#     hidden_states = []\n",
        "#     labels = []\n",
        "#     for input, ground_truth_label in dataset:\n",
        "#         # input is 1D of size (64 * 64) binary edge matrix,\n",
        "#         # same as for the model. \n",
        "        \n",
        "#         # first attempt: cluster by last hidden state of model\n",
        "#         # second attempt: cluster by model raw score\n",
        "#         # third attempt: cluster by pixel counts in edge detection image\n",
        "#         # fourth attempt: cluster by edge pixels AND model raw score\n",
        "#         # fifth attempt: cluster by edge pixels and PCA on model hidden state\n",
        "\n",
        "#         input = torch.Tensor(input).to(device)\n",
        "#         normalized_score, last_hidden_state = model(input)\n",
        "#         last_hidden_state = last_hidden_state.detach().numpy()\n",
        "#         edge_pixel_count = input.sum().detach().numpy()\n",
        "#         edge_pixels.append(edge_pixel_count)\n",
        "#         hidden_states.append(last_hidden_state)\n",
        "#         labels.append(ground_truth_label)\n",
        "#     new_components = apply_pca(np.array(hidden_states))\n",
        "#     new_data = []\n",
        "#     for i in range(new_components.shape[0]):\n",
        "#         # new_data.append([edge_pixels[i], new_components[i][0]])\n",
        "#         new_data.append([edge_pixels[i], new_components[i][0], new_components[i][1]])\n",
        "#     new_data = np.array(new_data)\n",
        "#     new_data = new_data / new_data.max(axis=0)\n",
        "#     return new_data, np.array(labels)"
      ],
      "metadata": {
        "id": "gydHPHLUmJJJ"
      },
      "execution_count": 604,
      "outputs": []
    },
    {
      "cell_type": "code",
      "source": [
        "def prepare_data_for_clustering(dataset):\n",
        "    new_data = []\n",
        "    labels = []\n",
        "    for input, ground_truth_label in dataset:\n",
        "        input = torch.Tensor(input).to(device)\n",
        "        normalized_score, raw_score = model(input)\n",
        "        raw_score = raw_score.detach().numpy()\n",
        "        edge_pixel_count = input.sum().detach().numpy()\n",
        "        new_data.append([edge_pixel_count, raw_score])\n",
        "    new_data = np.array(new_data)\n",
        "    new_data = new_data / new_data.max(axis=0)\n",
        "    return new_data"
      ],
      "metadata": {
        "id": "TkARc2T2P2Mk"
      },
      "execution_count": 605,
      "outputs": []
    },
    {
      "cell_type": "code",
      "source": [
        "full_data = combine_dataset(training_data, val_data)\n",
        "cracked_data, _ = split_by_label(full_data)\n",
        "full_data = None"
      ],
      "metadata": {
        "id": "Xdju7zM6l6jn",
        "colab": {
          "base_uri": "https://localhost:8080/"
        },
        "outputId": "1fdab7e6-bbd6-4749-c08e-09b77089f32f"
      },
      "execution_count": 606,
      "outputs": [
        {
          "output_type": "stream",
          "name": "stdout",
          "text": [
            "10000 10000\n"
          ]
        }
      ]
    },
    {
      "cell_type": "code",
      "source": [
        "X = prepare_data_for_clustering(cracked_data)"
      ],
      "metadata": {
        "id": "nkpNYnPkpYNK",
        "colab": {
          "base_uri": "https://localhost:8080/"
        },
        "outputId": "570d5fee-589f-4b72-b0e1-c1ee37b4fe24"
      },
      "execution_count": 607,
      "outputs": [
        {
          "output_type": "stream",
          "name": "stderr",
          "text": [
            "<ipython-input-605-072c5408495c>:10: VisibleDeprecationWarning: Creating an ndarray from ragged nested sequences (which is a list-or-tuple of lists-or-tuples-or ndarrays with different lengths or shapes) is deprecated. If you meant to do this, you must specify 'dtype=object' when creating the ndarray.\n",
            "  new_data = np.array(new_data)\n"
          ]
        }
      ]
    },
    {
      "cell_type": "code",
      "source": [
        "# i had planned to use 2 features but couldnt really come up with an appropriate second\n",
        "# feature after using the model scores/hidden states didnt work out.\n",
        "def visualize_unclustered_data(X):\n",
        "\n",
        "    fig = plt.figure()\n",
        "    plt.title('Visualization of Cracked Deck dataset')\n",
        "    plt.xlabel(\"Edge Pixel Count\")\n",
        "    plt.ylabel(\"Raw Model Score\")\n",
        "\n",
        "    x = X[:, 0]\n",
        "    y = X[:, 1]\n",
        "          \n",
        "\n",
        "        \n",
        "    plt.scatter(x, y, c='black', marker=\".\")\n",
        "    plt.show()"
      ],
      "metadata": {
        "id": "c74l8b5JCQwZ"
      },
      "execution_count": 608,
      "outputs": []
    },
    {
      "cell_type": "code",
      "source": [
        "visualize_unclustered_data(X)\n",
        "# only first 2 dimensions"
      ],
      "metadata": {
        "colab": {
          "base_uri": "https://localhost:8080/",
          "height": 295
        },
        "id": "_R3sBnSTDqgA",
        "outputId": "80121d24-cdb5-4b39-ca5d-8f37962dfbc3"
      },
      "execution_count": 620,
      "outputs": [
        {
          "output_type": "display_data",
          "data": {
            "text/plain": [
              "<Figure size 432x288 with 1 Axes>"
            ],
            "image/png": "[encoded data removed]"
          },
          "metadata": {
            "needs_background": "light"
          }
        }
      ]
    },
    {
      "cell_type": "code",
      "source": [
        "num_clusters = 5\n",
        "gmm = GaussianMixture(n_components=num_clusters)\n",
        "cluster_labels = gmm.fit_predict(X)"
      ],
      "metadata": {
        "id": "rA3-fWaNopWR"
      },
      "execution_count": 610,
      "outputs": []
    },
    {
      "cell_type": "code",
      "source": [
        "def visualize_cluster_results(X, y):\n",
        "\n",
        "    fig = plt.figure()\n",
        "    plt.title('Visualization of Cracked Deck dataset by cluster')\n",
        "    plt.xlabel(\"Edge Pixel Count\")\n",
        "    plt.ylabel(\"Raw Model Score\")\n",
        "\n",
        "    plt.scatter(X[:,0], X[:,1], c=y,cmap='copper')\n",
        "    plt.show()"
      ],
      "metadata": {
        "id": "LVgAASfSEbss"
      },
      "execution_count": 611,
      "outputs": []
    },
    {
      "cell_type": "code",
      "source": [
        "visualize_cluster_results(X, cluster_labels)\n",
        "# only first 2 dimensions"
      ],
      "metadata": {
        "colab": {
          "base_uri": "https://localhost:8080/",
          "height": 295
        },
        "id": "nArEOOEGEoP8",
        "outputId": "521e2af1-4874-4680-9fca-8b49886ed698"
      },
      "execution_count": 612,
      "outputs": [
        {
          "output_type": "display_data",
          "data": {
            "text/plain": [
              "<Figure size 432x288 with 1 Axes>"
            ],
            "image/png": "[encoded data removed]"
          },
          "metadata": {
            "needs_background": "light"
          }
        }
      ]
    },
    {
      "cell_type": "code",
      "source": [
        "print(\"Silhouette Score (n=\" + str(num_clusters) + \")\", silhouette_score(X, cluster_labels))"
      ],
      "metadata": {
        "colab": {
          "base_uri": "https://localhost:8080/"
        },
        "id": "v4AYoTnIcFwP",
        "outputId": "45275d28-3da2-49f6-fa4e-c555f4478113"
      },
      "execution_count": 613,
      "outputs": [
        {
          "output_type": "stream",
          "name": "stdout",
          "text": [
            "Silhouette Score (n=5) 0.6250872463745094\n"
          ]
        }
      ]
    },
    {
      "cell_type": "code",
      "source": [
        "print(\"Davies-Bouldin Score (n=\" + str(num_clusters) + \")\", davies_bouldin_score(X, cluster_labels))"
      ],
      "metadata": {
        "colab": {
          "base_uri": "https://localhost:8080/"
        },
        "id": "s_rM9-uOcFwQ",
        "outputId": "161c8ee8-086c-417f-9f84-af2e9d0ce221"
      },
      "execution_count": 614,
      "outputs": [
        {
          "output_type": "stream",
          "name": "stdout",
          "text": [
            "Davies-Bouldin Score (n=5) 1.6309429124955497\n"
          ]
        }
      ]
    },
    {
      "cell_type": "code",
      "source": [
        "dbscan = DBSCAN(eps=0.04, min_samples=10)\n",
        "cluster_labels = dbscan.fit_predict(X)"
      ],
      "metadata": {
        "id": "I2ZkForN9Ih-"
      },
      "execution_count": 615,
      "outputs": []
    },
    {
      "cell_type": "code",
      "source": [
        "visualize_cluster_results(X, cluster_labels)"
      ],
      "metadata": {
        "colab": {
          "base_uri": "https://localhost:8080/",
          "height": 295
        },
        "id": "TqYkkzk6YQKB",
        "outputId": "bd40afba-55e6-4250-d81c-6b95b319e4f1"
      },
      "execution_count": 616,
      "outputs": [
        {
          "output_type": "display_data",
          "data": {
            "text/plain": [
              "<Figure size 432x288 with 1 Axes>"
            ],
            "image/png": "[encoded data removed]"
          },
          "metadata": {
            "needs_background": "light"
          }
        }
      ]
    },
    {
      "cell_type": "code",
      "source": [
        "print(\"Silhouette Score (n=\" + str(num_clusters) + \")\", silhouette_score(X, cluster_labels))"
      ],
      "metadata": {
        "id": "2fSbBBN6qpWI",
        "colab": {
          "base_uri": "https://localhost:8080/"
        },
        "outputId": "5c6f88d7-a934-45f3-bbe9-f1a99cf10f4b"
      },
      "execution_count": 617,
      "outputs": [
        {
          "output_type": "stream",
          "name": "stdout",
          "text": [
            "Silhouette Score (n=5) 0.07080808009263143\n"
          ]
        }
      ]
    },
    {
      "cell_type": "code",
      "source": [
        "print(\"Davies-Bouldin Score (n=\" + str(num_clusters) + \")\", davies_bouldin_score(X, cluster_labels))"
      ],
      "metadata": {
        "id": "feIe5QgVqpu6",
        "colab": {
          "base_uri": "https://localhost:8080/"
        },
        "outputId": "039004f8-d73c-41b3-8c83-4f03d8d1540e"
      },
      "execution_count": 618,
      "outputs": [
        {
          "output_type": "stream",
          "name": "stdout",
          "text": [
            "Davies-Bouldin Score (n=5) 2.3011575318635673\n"
          ]
        }
      ]
    },
    {
      "cell_type": "code",
      "source": [
        "# conFusMat = confusion_matrix(y, cluster_labels)\n",
        "# print(conFusMat)\n",
        "# cm_display = ConfusionMatrixDisplay(confusion_matrix = conFusMat, display_labels = [\"Uncracked\", \"Cracked\"])\n",
        "\n",
        "# cm_display.plot()\n",
        "# plt.show()\n",
        "# print(classification_report(y, cluster_labels, target_names=[\"Uncracked\", \"Cracked\"]))"
      ],
      "metadata": {
        "id": "BrqRxeyjrnXJ"
      },
      "execution_count": null,
      "outputs": []
    },
    {
      "cell_type": "code",
      "source": [
        "# # Mutual Information (Normalized & Adjusted)\n",
        "# # 0 to 1 (1 being Very good) \n",
        "# norMutInfo = normalized_mutual_info_score(y, cluster_labels)\n",
        "# print(\"Normalized: \",norMutInfo)"
      ],
      "metadata": {
        "id": "xbHJDmFEr1XM"
      },
      "execution_count": null,
      "outputs": []
    },
    {
      "cell_type": "code",
      "source": [
        "# adjMutInfo = adjusted_mutual_info_score(y, cluster_labels)\n",
        "# print(\"Adjusted: \",adjMutInfo)"
      ],
      "metadata": {
        "id": "Il36tzJqsAgx"
      },
      "execution_count": null,
      "outputs": []
    },
    {
      "cell_type": "code",
      "source": [
        "# randInd = rand_score(y, cluster_labels)\n",
        "# print(\"Rand Score: \", randInd)"
      ],
      "metadata": {
        "id": "7EZN9ZBJsIQl"
      },
      "execution_count": null,
      "outputs": []
    },
    {
      "cell_type": "code",
      "source": [
        "# homScore = homogeneity_score(y, cluster_labels)\n",
        "# print(\"Homogeneity Score: \", homScore)"
      ],
      "metadata": {
        "id": "g72q_EcEtOI_"
      },
      "execution_count": null,
      "outputs": []
    },
    {
      "cell_type": "code",
      "source": [
        "# comScore = completeness_score(y, cluster_labels)\n",
        "# print(\"Completeness Score: \", comScore)"
      ],
      "metadata": {
        "id": "nVzOIx4FtNB5"
      },
      "execution_count": null,
      "outputs": []
    },
    {
      "cell_type": "code",
      "source": [
        "# vScore = v_measure_score(y, cluster_labels)\n",
        "# print(\"V Measure: \",vScore)"
      ],
      "metadata": {
        "id": "0o0ojLhbtL0j"
      },
      "execution_count": null,
      "outputs": []
    },
    {
      "cell_type": "code",
      "source": [
        "# FMS = fowlkes_mallows_score(y, cluster_labels)\n",
        "# print(\"Fowlkes-Mallows index: \", FMS)"
      ],
      "metadata": {
        "id": "VlNSH6OGtcOL"
      },
      "execution_count": null,
      "outputs": []
    },
    {
      "cell_type": "markdown",
      "source": [
        "#7 Clustering Analysis - Based on Profs Lecture Notes on Clustering Evalution (Lec 10)\n",
        "\n",
        "\n",
        "\n",
        "*   Listing all that is mentioned\n",
        "*   ***Currently using the Classification data until Clustering Model is made***\n",
        "\n",
        "\n",
        "\n"
      ],
      "metadata": {
        "id": "U3IuoC22Qik2"
      }
    },
    {
      "cell_type": "code",
      "source": [
        "######## MODEL GOES HERE ##################"
      ],
      "metadata": {
        "id": "UEmGfJ5uRzId"
      },
      "execution_count": null,
      "outputs": []
    },
    {
      "cell_type": "markdown",
      "source": [
        "## Internal measures: derive goodness from the data itself\n",
        "\n",
        "\n",
        "*   Silhouette Coefficient\n",
        "*   Davies-Bouldin Index\n",
        "\n",
        "\n",
        "\n",
        "\n"
      ],
      "metadata": {
        "id": "XFFUiGL0RTNv"
      }
    },
    {
      "cell_type": "code",
      "source": [
        "# from sklearn.cluster import KMeans\n",
        "# from sklearn.cluster import GaussianMixture\n",
        "# from sklearn.metrics import silhouette_score\n",
        "# from sklearn.metrics import davies_bouldin_score\n",
        "# from sklearn.metrics.cluster import normalized_mutual_info_score\n",
        "# from sklearn.metrics.cluster import adjusted_mutual_info_score\n",
        "# # TEMP K MEANS MODEl\n",
        "# clustLarge, clustSma = split_dataset(resize_dataset(dataset_Decks, size=image_size), training_percent)\n",
        "# num_clusters = 2\n",
        "# X , y = flatten_and_split_data(clustSma)\n",
        "\n",
        " \n",
        "#  # initialise kmeans\n",
        "# kmeans = KMeans(n_clusters=num_clusters)\n",
        "# cluster_pred = kmeans.fit_predict(X)\n",
        "# cluster_labels = kmeans.labels_\n",
        " \n",
        "# print(\"Silhouette Score (n=\" + str(num_clusters) + \")\",silhouette_score(X, cluster_labels))\n",
        "# print(\"Davies-Bouldin Score (n=\" + str(num_clusters) + \")\",davies_bouldin_score(X, cluster_labels))"
      ],
      "metadata": {
        "colab": {
          "base_uri": "https://localhost:8080/"
        },
        "id": "-6MZByxr9ab1",
        "outputId": "9e5c37ca-6bac-4228-fdee-bdefa08e57e6"
      },
      "execution_count": null,
      "outputs": [
        {
          "output_type": "stream",
          "name": "stderr",
          "text": [
            "<ipython-input-25-0c064896ec56>:6: VisibleDeprecationWarning: Creating an ndarray from ragged nested sequences (which is a list-or-tuple of lists-or-tuples-or ndarrays with different lengths or shapes) is deprecated. If you meant to do this, you must specify 'dtype=object' when creating the ndarray.\n",
            "  return np.array(resized_images)\n"
          ]
        },
        {
          "output_type": "stream",
          "name": "stdout",
          "text": [
            "Silhouette Score (n=2) 0.8035359536148418\n",
            "Davies-Bouldin Score (n=2) 0.7297562000682878\n"
          ]
        }
      ]
    },
    {
      "cell_type": "markdown",
      "source": [
        "## External measures: employ external ground-truth\n",
        "\n",
        "\n",
        "*   Purity (aka. Precision, Recall, Accuracy and F1 Score)\n",
        "*   Mutal Infromation (Normalized)\n",
        "*   Rand Index\n",
        "*   Homogeneity\n",
        "*   Completeness\n",
        "*   Fowlkes-Mallows index\n",
        "*   V-measure is the harmonic mean between homogeneity and completeness:\n",
        "\n",
        "\n",
        "\n",
        "\n",
        "\n"
      ],
      "metadata": {
        "id": "8royW6yDROX0"
      }
    },
    {
      "cell_type": "code",
      "source": [
        "# # Purity \n",
        "# conFusMat = confusion_matrix(y, cluster_pred)\n",
        "# print(conFusMat)\n",
        "# cm_display = ConfusionMatrixDisplay(confusion_matrix = conFusMat, display_labels = [True, False])\n",
        "\n",
        "# cm_display.plot()\n",
        "# plt.show()\n",
        "# print(classification_report(y, cluster_pred, target_names=[\"Uncracked\", \"Cracked\"]))"
      ],
      "metadata": {
        "colab": {
          "base_uri": "https://localhost:8080/",
          "height": 235
        },
        "id": "DcrAywo0Qqbl",
        "outputId": "869c7d77-71a1-4ba1-a059-b8de8084c2f2"
      },
      "execution_count": null,
      "outputs": [
        {
          "output_type": "error",
          "ename": "NameError",
          "evalue": "ignored",
          "traceback": [
            "\u001b[0;31m---------------------------------------------------------------------------\u001b[0m",
            "\u001b[0;31mNameError\u001b[0m                                 Traceback (most recent call last)",
            "\u001b[0;32m<ipython-input-65-eab7637d95f9>\u001b[0m in \u001b[0;36m<module>\u001b[0;34m\u001b[0m\n\u001b[1;32m      1\u001b[0m \u001b[0;31m# Purity\u001b[0m\u001b[0;34m\u001b[0m\u001b[0;34m\u001b[0m\u001b[0;34m\u001b[0m\u001b[0m\n\u001b[0;32m----> 2\u001b[0;31m \u001b[0mconFusMat\u001b[0m \u001b[0;34m=\u001b[0m \u001b[0mconfusion_matrix\u001b[0m\u001b[0;34m(\u001b[0m\u001b[0my\u001b[0m\u001b[0;34m,\u001b[0m \u001b[0mcluster_pred\u001b[0m\u001b[0;34m)\u001b[0m\u001b[0;34m\u001b[0m\u001b[0;34m\u001b[0m\u001b[0m\n\u001b[0m\u001b[1;32m      3\u001b[0m \u001b[0mprint\u001b[0m\u001b[0;34m(\u001b[0m\u001b[0mconFusMat\u001b[0m\u001b[0;34m)\u001b[0m\u001b[0;34m\u001b[0m\u001b[0;34m\u001b[0m\u001b[0m\n\u001b[1;32m      4\u001b[0m \u001b[0mcm_display\u001b[0m \u001b[0;34m=\u001b[0m \u001b[0mConfusionMatrixDisplay\u001b[0m\u001b[0;34m(\u001b[0m\u001b[0mconfusion_matrix\u001b[0m \u001b[0;34m=\u001b[0m \u001b[0mconFusMat\u001b[0m\u001b[0;34m,\u001b[0m \u001b[0mdisplay_labels\u001b[0m \u001b[0;34m=\u001b[0m \u001b[0;34m[\u001b[0m\u001b[0;32mTrue\u001b[0m\u001b[0;34m,\u001b[0m \u001b[0;32mFalse\u001b[0m\u001b[0;34m]\u001b[0m\u001b[0;34m)\u001b[0m\u001b[0;34m\u001b[0m\u001b[0;34m\u001b[0m\u001b[0m\n\u001b[1;32m      5\u001b[0m \u001b[0;34m\u001b[0m\u001b[0m\n",
            "\u001b[0;31mNameError\u001b[0m: name 'y' is not defined"
          ]
        }
      ]
    },
    {
      "cell_type": "code",
      "source": [
        "# #Mutal Infromation (Normalized & Adjusted)\n",
        "# # 0 to 1 (1 being Very good) \n",
        "# from sklearn.metrics.cluster import normalized_mutual_info_score\n",
        "# norMutInfo = normalized_mutual_info_score(y, cluster_pred)\n",
        "# from sklearn.metrics.cluster import adjusted_mutual_info_score\n",
        "# adjMutInfo = adjusted_mutual_info_score(y, cluster_pred)\n",
        "# print(\"Normalized: \",norMutInfo)\n",
        "# print(\"Adjusted: \",adjMutInfo)"
      ],
      "metadata": {
        "colab": {
          "base_uri": "https://localhost:8080/"
        },
        "id": "sh7XokGczLRo",
        "outputId": "4db9c50d-55fb-4dd9-d72a-9bc4c58c8ff2"
      },
      "execution_count": null,
      "outputs": [
        {
          "output_type": "stream",
          "name": "stdout",
          "text": [
            "Normalized:  0.019972685703795685\n",
            "Adjusted:  0.019374717555823883\n"
          ]
        }
      ]
    },
    {
      "cell_type": "code",
      "source": [
        "# #Rand Index \n",
        "# from sklearn.metrics.cluster import rand_score\n",
        "# randInd = rand_score(y, cluster_pred)\n",
        "# print(randInd)"
      ],
      "metadata": {
        "colab": {
          "base_uri": "https://localhost:8080/"
        },
        "id": "VI_Peegx5wYB",
        "outputId": "a573b174-f4db-45b0-defc-1ba1d0e2c881"
      },
      "execution_count": null,
      "outputs": [
        {
          "output_type": "stream",
          "name": "stdout",
          "text": [
            "0.6760445649788683\n"
          ]
        }
      ]
    },
    {
      "cell_type": "code",
      "source": [
        "#  Homogeneity & Completeness & V Measure\n",
        "# from sklearn.metrics.cluster import homogeneity_score\n",
        "# from sklearn.metrics.cluster import completeness_score\n",
        "# from sklearn.metrics.cluster import v_measure_score\n",
        "# homScore = homogeneity_score(y, cluster_pred)\n",
        "# print(\"Homogeneity Score: \", homScore)\n",
        "\n",
        "\n",
        "# comScore = completeness_score(y, cluster_pred)\n",
        "# print(\"Completeness Score: \", comScore)\n",
        "\n",
        "\n",
        "# vScore = v_measure_score(y, cluster_pred)\n",
        "# print(\"V Measure: \",vScore)"
      ],
      "metadata": {
        "colab": {
          "base_uri": "https://localhost:8080/"
        },
        "id": "6tWozQAt6Q-O",
        "outputId": "8a74afc8-bbcf-471e-b6bd-a5a745eb9684"
      },
      "execution_count": null,
      "outputs": [
        {
          "output_type": "stream",
          "name": "stdout",
          "text": [
            "Homogeneity Score:  0.013996825121427787\n",
            "Completeness Score:  0.03485293914963931\n",
            "V Measure:  0.019972685703795682\n"
          ]
        }
      ]
    },
    {
      "cell_type": "code",
      "source": [
        "# Fowlkes-Mallows index\n",
        "# from sklearn.metrics.cluster import fowlkes_mallows_score\n",
        "# FMS = fowlkes_mallows_score(y, cluster_pred)\n",
        "# print(\"Fowlkes-Mallows index: \", FMS)"
      ],
      "metadata": {
        "colab": {
          "base_uri": "https://localhost:8080/"
        },
        "id": "FefTvfgC7cvs",
        "outputId": "4e90c7b1-4d1e-4281-d25c-21c46da4e854"
      },
      "execution_count": null,
      "outputs": [
        {
          "output_type": "stream",
          "name": "stdout",
          "text": [
            "Fowlkes-Mallows index:  0.8086458660708424\n"
          ]
        }
      ]
    }
  ],
  "metadata": {
    "anaconda-cloud": {},
    "colab": {
      "collapsed_sections": [
        "tt565oJb2_iR",
        "ZLNRPRWwXCkV",
        "Ot9J3MrB3_ys",
        "4aCEtdIAg7me"
      ],
      "provenance": []
    },
    "gpuClass": "standard",
    "kernelspec": {
      "display_name": "Python 3",
      "language": "python",
      "name": "python3"
    },
    "language_info": {
      "codemirror_mode": {
        "name": "ipython",
        "version": 3
      },
      "file_extension": ".py",
      "mimetype": "text/x-python",
      "name": "python",
      "nbconvert_exporter": "python",
      "pygments_lexer": "ipython3",
      "version": "3.6.12"
    },
    "accelerator": "GPU"
  },
  "nbformat": 4,
  "nbformat_minor": 0
}